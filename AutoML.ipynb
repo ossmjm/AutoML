{
  "cells": [
    {
      "cell_type": "code",
      "execution_count": null,
      "metadata": {
        "colab": {
          "base_uri": "https://localhost:8080/"
        },
        "id": "16FnTSD9BaWx",
        "outputId": "310d98de-897c-474b-f1d7-8b3092e0255d"
      },
      "outputs": [
        {
          "name": "stderr",
          "output_type": "stream",
          "text": [
            "<ipython-input-25-56c46df975c5>:3: DeprecationWarning: `import pandas_profiling` is going to be deprecated by April 1st. Please use `import ydata_profiling` instead.\n",
            "  from pandas_profiling import ProfileReport\n"
          ]
        }
      ],
      "source": [
        "import pandas as pd\n",
        "import numpy as np\n",
        "from pandas_profiling import ProfileReport\n",
        "from sklearn.model_selection import train_test_split"
      ]
    },
    {
      "cell_type": "code",
      "execution_count": null,
      "metadata": {
        "colab": {
          "base_uri": "https://localhost:8080/",
          "height": 756
        },
        "id": "9LEA3JxFBe_l",
        "outputId": "1d5df82d-b0af-458c-f35b-ad50f99638f5"
      },
      "outputs": [
        {
          "data": {
            "text/html": [
              "\n",
              "  <div id=\"df-de352886-56df-42bb-8782-4faa4e805edb\" class=\"colab-df-container\">\n",
              "    <div>\n",
              "<style scoped>\n",
              "    .dataframe tbody tr th:only-of-type {\n",
              "        vertical-align: middle;\n",
              "    }\n",
              "\n",
              "    .dataframe tbody tr th {\n",
              "        vertical-align: top;\n",
              "    }\n",
              "\n",
              "    .dataframe thead th {\n",
              "        text-align: right;\n",
              "    }\n",
              "</style>\n",
              "<table border=\"1\" class=\"dataframe\">\n",
              "  <thead>\n",
              "    <tr style=\"text-align: right;\">\n",
              "      <th></th>\n",
              "      <th>Loan ID</th>\n",
              "      <th>Customer ID</th>\n",
              "      <th>Loan Status</th>\n",
              "      <th>Current Loan Amount</th>\n",
              "      <th>Term</th>\n",
              "      <th>Credit Score</th>\n",
              "      <th>Annual Income</th>\n",
              "      <th>Years in current job</th>\n",
              "      <th>Home Ownership</th>\n",
              "      <th>Purpose</th>\n",
              "      <th>Monthly Debt</th>\n",
              "      <th>Years of Credit History</th>\n",
              "      <th>Months since last delinquent</th>\n",
              "      <th>Number of Open Accounts</th>\n",
              "      <th>Number of Credit Problems</th>\n",
              "      <th>Current Credit Balance</th>\n",
              "      <th>Maximum Open Credit</th>\n",
              "      <th>Bankruptcies</th>\n",
              "      <th>Tax Liens</th>\n",
              "    </tr>\n",
              "  </thead>\n",
              "  <tbody>\n",
              "    <tr>\n",
              "      <th>0</th>\n",
              "      <td>14dd8831-6af5-400b-83ec-68e61888a048</td>\n",
              "      <td>981165ec-3274-42f5-a3b4-d104041a9ca9</td>\n",
              "      <td>Fully Paid</td>\n",
              "      <td>445412.0</td>\n",
              "      <td>Short Term</td>\n",
              "      <td>709.0</td>\n",
              "      <td>1167493.0</td>\n",
              "      <td>8 years</td>\n",
              "      <td>Home Mortgage</td>\n",
              "      <td>Home Improvements</td>\n",
              "      <td>5214.74</td>\n",
              "      <td>17.2</td>\n",
              "      <td>NaN</td>\n",
              "      <td>6.0</td>\n",
              "      <td>1.0</td>\n",
              "      <td>228190.0</td>\n",
              "      <td>416746.0</td>\n",
              "      <td>1.0</td>\n",
              "      <td>0.0</td>\n",
              "    </tr>\n",
              "    <tr>\n",
              "      <th>1</th>\n",
              "      <td>4771cc26-131a-45db-b5aa-537ea4ba5342</td>\n",
              "      <td>2de017a3-2e01-49cb-a581-08169e83be29</td>\n",
              "      <td>Fully Paid</td>\n",
              "      <td>262328.0</td>\n",
              "      <td>Short Term</td>\n",
              "      <td>NaN</td>\n",
              "      <td>NaN</td>\n",
              "      <td>10+ years</td>\n",
              "      <td>Home Mortgage</td>\n",
              "      <td>Debt Consolidation</td>\n",
              "      <td>33295.98</td>\n",
              "      <td>21.1</td>\n",
              "      <td>8.0</td>\n",
              "      <td>35.0</td>\n",
              "      <td>0.0</td>\n",
              "      <td>229976.0</td>\n",
              "      <td>850784.0</td>\n",
              "      <td>0.0</td>\n",
              "      <td>0.0</td>\n",
              "    </tr>\n",
              "    <tr>\n",
              "      <th>2</th>\n",
              "      <td>4eed4e6a-aa2f-4c91-8651-ce984ee8fb26</td>\n",
              "      <td>5efb2b2b-bf11-4dfd-a572-3761a2694725</td>\n",
              "      <td>Fully Paid</td>\n",
              "      <td>99999999.0</td>\n",
              "      <td>Short Term</td>\n",
              "      <td>741.0</td>\n",
              "      <td>2231892.0</td>\n",
              "      <td>8 years</td>\n",
              "      <td>Own Home</td>\n",
              "      <td>Debt Consolidation</td>\n",
              "      <td>29200.53</td>\n",
              "      <td>14.9</td>\n",
              "      <td>29.0</td>\n",
              "      <td>18.0</td>\n",
              "      <td>1.0</td>\n",
              "      <td>297996.0</td>\n",
              "      <td>750090.0</td>\n",
              "      <td>0.0</td>\n",
              "      <td>0.0</td>\n",
              "    </tr>\n",
              "    <tr>\n",
              "      <th>3</th>\n",
              "      <td>77598f7b-32e7-4e3b-a6e5-06ba0d98fe8a</td>\n",
              "      <td>e777faab-98ae-45af-9a86-7ce5b33b1011</td>\n",
              "      <td>Fully Paid</td>\n",
              "      <td>347666.0</td>\n",
              "      <td>Long Term</td>\n",
              "      <td>721.0</td>\n",
              "      <td>806949.0</td>\n",
              "      <td>3 years</td>\n",
              "      <td>Own Home</td>\n",
              "      <td>Debt Consolidation</td>\n",
              "      <td>8741.90</td>\n",
              "      <td>12.0</td>\n",
              "      <td>NaN</td>\n",
              "      <td>9.0</td>\n",
              "      <td>0.0</td>\n",
              "      <td>256329.0</td>\n",
              "      <td>386958.0</td>\n",
              "      <td>0.0</td>\n",
              "      <td>0.0</td>\n",
              "    </tr>\n",
              "    <tr>\n",
              "      <th>4</th>\n",
              "      <td>d4062e70-befa-4995-8643-a0de73938182</td>\n",
              "      <td>81536ad9-5ccf-4eb8-befb-47a4d608658e</td>\n",
              "      <td>Fully Paid</td>\n",
              "      <td>176220.0</td>\n",
              "      <td>Short Term</td>\n",
              "      <td>NaN</td>\n",
              "      <td>NaN</td>\n",
              "      <td>5 years</td>\n",
              "      <td>Rent</td>\n",
              "      <td>Debt Consolidation</td>\n",
              "      <td>20639.70</td>\n",
              "      <td>6.1</td>\n",
              "      <td>NaN</td>\n",
              "      <td>15.0</td>\n",
              "      <td>0.0</td>\n",
              "      <td>253460.0</td>\n",
              "      <td>427174.0</td>\n",
              "      <td>0.0</td>\n",
              "      <td>0.0</td>\n",
              "    </tr>\n",
              "    <tr>\n",
              "      <th>...</th>\n",
              "      <td>...</td>\n",
              "      <td>...</td>\n",
              "      <td>...</td>\n",
              "      <td>...</td>\n",
              "      <td>...</td>\n",
              "      <td>...</td>\n",
              "      <td>...</td>\n",
              "      <td>...</td>\n",
              "      <td>...</td>\n",
              "      <td>...</td>\n",
              "      <td>...</td>\n",
              "      <td>...</td>\n",
              "      <td>...</td>\n",
              "      <td>...</td>\n",
              "      <td>...</td>\n",
              "      <td>...</td>\n",
              "      <td>...</td>\n",
              "      <td>...</td>\n",
              "      <td>...</td>\n",
              "    </tr>\n",
              "    <tr>\n",
              "      <th>100509</th>\n",
              "      <td>NaN</td>\n",
              "      <td>NaN</td>\n",
              "      <td>NaN</td>\n",
              "      <td>NaN</td>\n",
              "      <td>NaN</td>\n",
              "      <td>NaN</td>\n",
              "      <td>NaN</td>\n",
              "      <td>NaN</td>\n",
              "      <td>NaN</td>\n",
              "      <td>NaN</td>\n",
              "      <td>NaN</td>\n",
              "      <td>NaN</td>\n",
              "      <td>NaN</td>\n",
              "      <td>NaN</td>\n",
              "      <td>NaN</td>\n",
              "      <td>NaN</td>\n",
              "      <td>NaN</td>\n",
              "      <td>NaN</td>\n",
              "      <td>NaN</td>\n",
              "    </tr>\n",
              "    <tr>\n",
              "      <th>100510</th>\n",
              "      <td>NaN</td>\n",
              "      <td>NaN</td>\n",
              "      <td>NaN</td>\n",
              "      <td>NaN</td>\n",
              "      <td>NaN</td>\n",
              "      <td>NaN</td>\n",
              "      <td>NaN</td>\n",
              "      <td>NaN</td>\n",
              "      <td>NaN</td>\n",
              "      <td>NaN</td>\n",
              "      <td>NaN</td>\n",
              "      <td>NaN</td>\n",
              "      <td>NaN</td>\n",
              "      <td>NaN</td>\n",
              "      <td>NaN</td>\n",
              "      <td>NaN</td>\n",
              "      <td>NaN</td>\n",
              "      <td>NaN</td>\n",
              "      <td>NaN</td>\n",
              "    </tr>\n",
              "    <tr>\n",
              "      <th>100511</th>\n",
              "      <td>NaN</td>\n",
              "      <td>NaN</td>\n",
              "      <td>NaN</td>\n",
              "      <td>NaN</td>\n",
              "      <td>NaN</td>\n",
              "      <td>NaN</td>\n",
              "      <td>NaN</td>\n",
              "      <td>NaN</td>\n",
              "      <td>NaN</td>\n",
              "      <td>NaN</td>\n",
              "      <td>NaN</td>\n",
              "      <td>NaN</td>\n",
              "      <td>NaN</td>\n",
              "      <td>NaN</td>\n",
              "      <td>NaN</td>\n",
              "      <td>NaN</td>\n",
              "      <td>NaN</td>\n",
              "      <td>NaN</td>\n",
              "      <td>NaN</td>\n",
              "    </tr>\n",
              "    <tr>\n",
              "      <th>100512</th>\n",
              "      <td>NaN</td>\n",
              "      <td>NaN</td>\n",
              "      <td>NaN</td>\n",
              "      <td>NaN</td>\n",
              "      <td>NaN</td>\n",
              "      <td>NaN</td>\n",
              "      <td>NaN</td>\n",
              "      <td>NaN</td>\n",
              "      <td>NaN</td>\n",
              "      <td>NaN</td>\n",
              "      <td>NaN</td>\n",
              "      <td>NaN</td>\n",
              "      <td>NaN</td>\n",
              "      <td>NaN</td>\n",
              "      <td>NaN</td>\n",
              "      <td>NaN</td>\n",
              "      <td>NaN</td>\n",
              "      <td>NaN</td>\n",
              "      <td>NaN</td>\n",
              "    </tr>\n",
              "    <tr>\n",
              "      <th>100513</th>\n",
              "      <td>NaN</td>\n",
              "      <td>NaN</td>\n",
              "      <td>NaN</td>\n",
              "      <td>NaN</td>\n",
              "      <td>NaN</td>\n",
              "      <td>NaN</td>\n",
              "      <td>NaN</td>\n",
              "      <td>NaN</td>\n",
              "      <td>NaN</td>\n",
              "      <td>NaN</td>\n",
              "      <td>NaN</td>\n",
              "      <td>NaN</td>\n",
              "      <td>NaN</td>\n",
              "      <td>NaN</td>\n",
              "      <td>NaN</td>\n",
              "      <td>NaN</td>\n",
              "      <td>NaN</td>\n",
              "      <td>NaN</td>\n",
              "      <td>NaN</td>\n",
              "    </tr>\n",
              "  </tbody>\n",
              "</table>\n",
              "<p>100514 rows × 19 columns</p>\n",
              "</div>\n",
              "    <div class=\"colab-df-buttons\">\n",
              "\n",
              "  <div class=\"colab-df-container\">\n",
              "    <button class=\"colab-df-convert\" onclick=\"convertToInteractive('df-de352886-56df-42bb-8782-4faa4e805edb')\"\n",
              "            title=\"Convert this dataframe to an interactive table.\"\n",
              "            style=\"display:none;\">\n",
              "\n",
              "  <svg xmlns=\"http://www.w3.org/2000/svg\" height=\"24px\" viewBox=\"0 -960 960 960\">\n",
              "    <path d=\"M120-120v-720h720v720H120Zm60-500h600v-160H180v160Zm220 220h160v-160H400v160Zm0 220h160v-160H400v160ZM180-400h160v-160H180v160Zm440 0h160v-160H620v160ZM180-180h160v-160H180v160Zm440 0h160v-160H620v160Z\"/>\n",
              "  </svg>\n",
              "    </button>\n",
              "\n",
              "  <style>\n",
              "    .colab-df-container {\n",
              "      display:flex;\n",
              "      gap: 12px;\n",
              "    }\n",
              "\n",
              "    .colab-df-convert {\n",
              "      background-color: #E8F0FE;\n",
              "      border: none;\n",
              "      border-radius: 50%;\n",
              "      cursor: pointer;\n",
              "      display: none;\n",
              "      fill: #1967D2;\n",
              "      height: 32px;\n",
              "      padding: 0 0 0 0;\n",
              "      width: 32px;\n",
              "    }\n",
              "\n",
              "    .colab-df-convert:hover {\n",
              "      background-color: #E2EBFA;\n",
              "      box-shadow: 0px 1px 2px rgba(60, 64, 67, 0.3), 0px 1px 3px 1px rgba(60, 64, 67, 0.15);\n",
              "      fill: #174EA6;\n",
              "    }\n",
              "\n",
              "    .colab-df-buttons div {\n",
              "      margin-bottom: 4px;\n",
              "    }\n",
              "\n",
              "    [theme=dark] .colab-df-convert {\n",
              "      background-color: #3B4455;\n",
              "      fill: #D2E3FC;\n",
              "    }\n",
              "\n",
              "    [theme=dark] .colab-df-convert:hover {\n",
              "      background-color: #434B5C;\n",
              "      box-shadow: 0px 1px 3px 1px rgba(0, 0, 0, 0.15);\n",
              "      filter: drop-shadow(0px 1px 2px rgba(0, 0, 0, 0.3));\n",
              "      fill: #FFFFFF;\n",
              "    }\n",
              "  </style>\n",
              "\n",
              "    <script>\n",
              "      const buttonEl =\n",
              "        document.querySelector('#df-de352886-56df-42bb-8782-4faa4e805edb button.colab-df-convert');\n",
              "      buttonEl.style.display =\n",
              "        google.colab.kernel.accessAllowed ? 'block' : 'none';\n",
              "\n",
              "      async function convertToInteractive(key) {\n",
              "        const element = document.querySelector('#df-de352886-56df-42bb-8782-4faa4e805edb');\n",
              "        const dataTable =\n",
              "          await google.colab.kernel.invokeFunction('convertToInteractive',\n",
              "                                                    [key], {});\n",
              "        if (!dataTable) return;\n",
              "\n",
              "        const docLinkHtml = 'Like what you see? Visit the ' +\n",
              "          '<a target=\"_blank\" href=https://colab.research.google.com/notebooks/data_table.ipynb>data table notebook</a>'\n",
              "          + ' to learn more about interactive tables.';\n",
              "        element.innerHTML = '';\n",
              "        dataTable['output_type'] = 'display_data';\n",
              "        await google.colab.output.renderOutput(dataTable, element);\n",
              "        const docLink = document.createElement('div');\n",
              "        docLink.innerHTML = docLinkHtml;\n",
              "        element.appendChild(docLink);\n",
              "      }\n",
              "    </script>\n",
              "  </div>\n",
              "\n",
              "\n",
              "<div id=\"df-0b072292-d34f-4bb2-898c-819c4a906b29\">\n",
              "  <button class=\"colab-df-quickchart\" onclick=\"quickchart('df-0b072292-d34f-4bb2-898c-819c4a906b29')\"\n",
              "            title=\"Suggest charts.\"\n",
              "            style=\"display:none;\">\n",
              "\n",
              "<svg xmlns=\"http://www.w3.org/2000/svg\" height=\"24px\"viewBox=\"0 0 24 24\"\n",
              "     width=\"24px\">\n",
              "    <g>\n",
              "        <path d=\"M19 3H5c-1.1 0-2 .9-2 2v14c0 1.1.9 2 2 2h14c1.1 0 2-.9 2-2V5c0-1.1-.9-2-2-2zM9 17H7v-7h2v7zm4 0h-2V7h2v10zm4 0h-2v-4h2v4z\"/>\n",
              "    </g>\n",
              "</svg>\n",
              "  </button>\n",
              "\n",
              "<style>\n",
              "  .colab-df-quickchart {\n",
              "    background-color: #E8F0FE;\n",
              "    border: none;\n",
              "    border-radius: 50%;\n",
              "    cursor: pointer;\n",
              "    display: none;\n",
              "    fill: #1967D2;\n",
              "    height: 32px;\n",
              "    padding: 0 0 0 0;\n",
              "    width: 32px;\n",
              "  }\n",
              "\n",
              "  .colab-df-quickchart:hover {\n",
              "    background-color: #E2EBFA;\n",
              "    box-shadow: 0px 1px 2px rgba(60, 64, 67, 0.3), 0px 1px 3px 1px rgba(60, 64, 67, 0.15);\n",
              "    fill: #174EA6;\n",
              "  }\n",
              "\n",
              "  [theme=dark] .colab-df-quickchart {\n",
              "    background-color: #3B4455;\n",
              "    fill: #D2E3FC;\n",
              "  }\n",
              "\n",
              "  [theme=dark] .colab-df-quickchart:hover {\n",
              "    background-color: #434B5C;\n",
              "    box-shadow: 0px 1px 3px 1px rgba(0, 0, 0, 0.15);\n",
              "    filter: drop-shadow(0px 1px 2px rgba(0, 0, 0, 0.3));\n",
              "    fill: #FFFFFF;\n",
              "  }\n",
              "</style>\n",
              "\n",
              "  <script>\n",
              "    async function quickchart(key) {\n",
              "      const charts = await google.colab.kernel.invokeFunction(\n",
              "          'suggestCharts', [key], {});\n",
              "    }\n",
              "    (() => {\n",
              "      let quickchartButtonEl =\n",
              "        document.querySelector('#df-0b072292-d34f-4bb2-898c-819c4a906b29 button');\n",
              "      quickchartButtonEl.style.display =\n",
              "        google.colab.kernel.accessAllowed ? 'block' : 'none';\n",
              "    })();\n",
              "  </script>\n",
              "</div>\n",
              "    </div>\n",
              "  </div>\n"
            ],
            "text/plain": [
              "                                     Loan ID  \\\n",
              "0       14dd8831-6af5-400b-83ec-68e61888a048   \n",
              "1       4771cc26-131a-45db-b5aa-537ea4ba5342   \n",
              "2       4eed4e6a-aa2f-4c91-8651-ce984ee8fb26   \n",
              "3       77598f7b-32e7-4e3b-a6e5-06ba0d98fe8a   \n",
              "4       d4062e70-befa-4995-8643-a0de73938182   \n",
              "...                                      ...   \n",
              "100509                                   NaN   \n",
              "100510                                   NaN   \n",
              "100511                                   NaN   \n",
              "100512                                   NaN   \n",
              "100513                                   NaN   \n",
              "\n",
              "                                 Customer ID Loan Status  Current Loan Amount  \\\n",
              "0       981165ec-3274-42f5-a3b4-d104041a9ca9  Fully Paid             445412.0   \n",
              "1       2de017a3-2e01-49cb-a581-08169e83be29  Fully Paid             262328.0   \n",
              "2       5efb2b2b-bf11-4dfd-a572-3761a2694725  Fully Paid           99999999.0   \n",
              "3       e777faab-98ae-45af-9a86-7ce5b33b1011  Fully Paid             347666.0   \n",
              "4       81536ad9-5ccf-4eb8-befb-47a4d608658e  Fully Paid             176220.0   \n",
              "...                                      ...         ...                  ...   \n",
              "100509                                   NaN         NaN                  NaN   \n",
              "100510                                   NaN         NaN                  NaN   \n",
              "100511                                   NaN         NaN                  NaN   \n",
              "100512                                   NaN         NaN                  NaN   \n",
              "100513                                   NaN         NaN                  NaN   \n",
              "\n",
              "              Term  Credit Score  Annual Income Years in current job  \\\n",
              "0       Short Term         709.0      1167493.0              8 years   \n",
              "1       Short Term           NaN            NaN            10+ years   \n",
              "2       Short Term         741.0      2231892.0              8 years   \n",
              "3        Long Term         721.0       806949.0              3 years   \n",
              "4       Short Term           NaN            NaN              5 years   \n",
              "...            ...           ...            ...                  ...   \n",
              "100509         NaN           NaN            NaN                  NaN   \n",
              "100510         NaN           NaN            NaN                  NaN   \n",
              "100511         NaN           NaN            NaN                  NaN   \n",
              "100512         NaN           NaN            NaN                  NaN   \n",
              "100513         NaN           NaN            NaN                  NaN   \n",
              "\n",
              "       Home Ownership             Purpose  Monthly Debt  \\\n",
              "0       Home Mortgage   Home Improvements       5214.74   \n",
              "1       Home Mortgage  Debt Consolidation      33295.98   \n",
              "2            Own Home  Debt Consolidation      29200.53   \n",
              "3            Own Home  Debt Consolidation       8741.90   \n",
              "4                Rent  Debt Consolidation      20639.70   \n",
              "...               ...                 ...           ...   \n",
              "100509            NaN                 NaN           NaN   \n",
              "100510            NaN                 NaN           NaN   \n",
              "100511            NaN                 NaN           NaN   \n",
              "100512            NaN                 NaN           NaN   \n",
              "100513            NaN                 NaN           NaN   \n",
              "\n",
              "        Years of Credit History  Months since last delinquent  \\\n",
              "0                          17.2                           NaN   \n",
              "1                          21.1                           8.0   \n",
              "2                          14.9                          29.0   \n",
              "3                          12.0                           NaN   \n",
              "4                           6.1                           NaN   \n",
              "...                         ...                           ...   \n",
              "100509                      NaN                           NaN   \n",
              "100510                      NaN                           NaN   \n",
              "100511                      NaN                           NaN   \n",
              "100512                      NaN                           NaN   \n",
              "100513                      NaN                           NaN   \n",
              "\n",
              "        Number of Open Accounts  Number of Credit Problems  \\\n",
              "0                           6.0                        1.0   \n",
              "1                          35.0                        0.0   \n",
              "2                          18.0                        1.0   \n",
              "3                           9.0                        0.0   \n",
              "4                          15.0                        0.0   \n",
              "...                         ...                        ...   \n",
              "100509                      NaN                        NaN   \n",
              "100510                      NaN                        NaN   \n",
              "100511                      NaN                        NaN   \n",
              "100512                      NaN                        NaN   \n",
              "100513                      NaN                        NaN   \n",
              "\n",
              "        Current Credit Balance  Maximum Open Credit  Bankruptcies  Tax Liens  \n",
              "0                     228190.0             416746.0           1.0        0.0  \n",
              "1                     229976.0             850784.0           0.0        0.0  \n",
              "2                     297996.0             750090.0           0.0        0.0  \n",
              "3                     256329.0             386958.0           0.0        0.0  \n",
              "4                     253460.0             427174.0           0.0        0.0  \n",
              "...                        ...                  ...           ...        ...  \n",
              "100509                     NaN                  NaN           NaN        NaN  \n",
              "100510                     NaN                  NaN           NaN        NaN  \n",
              "100511                     NaN                  NaN           NaN        NaN  \n",
              "100512                     NaN                  NaN           NaN        NaN  \n",
              "100513                     NaN                  NaN           NaN        NaN  \n",
              "\n",
              "[100514 rows x 19 columns]"
            ]
          },
          "execution_count": 15,
          "metadata": {},
          "output_type": "execute_result"
        }
      ],
      "source": [
        "df = pd.read_csv('/content/credit_train.csv')\n",
        "df"
      ]
    },
    {
      "cell_type": "code",
      "execution_count": null,
      "metadata": {
        "colab": {
          "base_uri": "https://localhost:8080/",
          "height": 145,
          "referenced_widgets": [
            "d19432f8e784423898f9b075443a4b8e",
            "d2e1d539924c492d8a859aeba88f9472",
            "55ee5e09b1fc4198903b864b97a00e48",
            "d47f5e3dbe464a1182101e55f3489cb1",
            "30e45ae8344a4e8e98abcee8a1657264",
            "99a3f5448ad1438aad52e0ec2cc919e1",
            "dc7dbd49fbad461895884dca3e5cb2db",
            "d12f7bd9457d4c83bce232a8eb9cce10",
            "41feac8dc24f4eec947d771a3a35b2d9",
            "2052c9ac870741548a0b390ca7817cfe",
            "44d90ba8fabb45a0a006cdb7a8641e70",
            "f67caf12252344248ba28c6c9e5b60ac",
            "fb06845e9554418eb4ff483b10c94a9a",
            "ef01b90aedbd45c0858687b0b6f6259a",
            "5f363fe141794696a99fec6f8285dc9f",
            "aa0f6e35e440455ba8fedf6de18216e6",
            "c9733cf653aa42b9b97c68259823ed0e",
            "1dd69ba08ecf4ddbbb1dabbb4f4f6d2b",
            "34fda59b23dc44078a0ba2b982fa8284",
            "2360342d8d1c4b948c5f2ce11e11979b",
            "63bab35714bc4f48a06cb895b540fd3e",
            "99889a70818e49fba3f76d9e4d2cc473",
            "758dd870043e474aaf5e2ce1681f21cf",
            "605c6a8245d04b868a27234217c60886",
            "96920a99fca04e1b936ec1c3a58a3c62",
            "4950f2ee1e7649e096bbe59907952fe8",
            "24231a41c9794196a1642a0d57996057",
            "7659aed458db4655bffac7fbf9ee3cd2",
            "afc7d90bc8db4e58b169b94657e4896f",
            "75863c826a4a435f8f16200bcac220fd",
            "09cce495f3cd4f8fb13cd70ca3d2e542",
            "f18551e6bba844a588f03687a3013e13",
            "e540043ad3734df09cb07db447635306",
            "50de99fe8cd34115ab6ae00300991689",
            "b01a5db456eb4280bae01c56a4ca8b3b",
            "7a26369ae34647c2963c895814b0ac95",
            "3a5f0412977545ffbf7e27c3c5d8ae72",
            "713dd2d089854c3993c2a8502fac9eff",
            "7d8e5985af8b4566ba775bda4a1b3b20",
            "0df282c69f3a45068642aaeabbf71442",
            "33b77fcb930b481cbc0fbb0a18d9a76f",
            "75976407c9d24799955e7a70a8078852",
            "a5b2d5191a804369b85edbd909992c0c",
            "febc8be7bafc48df9ab3e51201eb1e22"
          ]
        },
        "id": "4MSK3UApq5Hi",
        "outputId": "62d69d38-a717-455f-9990-067fc434abb7"
      },
      "outputs": [
        {
          "data": {
            "application/vnd.jupyter.widget-view+json": {
              "model_id": "d19432f8e784423898f9b075443a4b8e",
              "version_major": 2,
              "version_minor": 0
            },
            "text/plain": [
              "Summarize dataset:   0%|          | 0/5 [00:00<?, ?it/s]"
            ]
          },
          "metadata": {},
          "output_type": "display_data"
        },
        {
          "data": {
            "application/vnd.jupyter.widget-view+json": {
              "model_id": "f67caf12252344248ba28c6c9e5b60ac",
              "version_major": 2,
              "version_minor": 0
            },
            "text/plain": [
              "Generate report structure:   0%|          | 0/1 [00:00<?, ?it/s]"
            ]
          },
          "metadata": {},
          "output_type": "display_data"
        },
        {
          "data": {
            "application/vnd.jupyter.widget-view+json": {
              "model_id": "758dd870043e474aaf5e2ce1681f21cf",
              "version_major": 2,
              "version_minor": 0
            },
            "text/plain": [
              "Render HTML:   0%|          | 0/1 [00:00<?, ?it/s]"
            ]
          },
          "metadata": {},
          "output_type": "display_data"
        },
        {
          "data": {
            "application/vnd.jupyter.widget-view+json": {
              "model_id": "50de99fe8cd34115ab6ae00300991689",
              "version_major": 2,
              "version_minor": 0
            },
            "text/plain": [
              "Export report to file:   0%|          | 0/1 [00:00<?, ?it/s]"
            ]
          },
          "metadata": {},
          "output_type": "display_data"
        }
      ],
      "source": [
        "profile = ProfileReport(df, title=\"credit\")\n",
        "\n",
        "profile.to_file(\"credit.html\")"
      ]
    },
    {
      "cell_type": "code",
      "execution_count": null,
      "metadata": {
        "id": "opw7Ztu_BqEn"
      },
      "outputs": [],
      "source": [
        "x,y = df.drop('Loan Status',axis = 1), df['Loan Status']"
      ]
    },
    {
      "cell_type": "code",
      "execution_count": null,
      "metadata": {
        "id": "kDHwoOPdSD3h"
      },
      "outputs": [],
      "source": [
        "x_train,x_test,y_train,y_test = train_test_split(x,y,test_size=0.25,random_state=42)"
      ]
    },
    {
      "cell_type": "code",
      "execution_count": null,
      "metadata": {
        "colab": {
          "base_uri": "https://localhost:8080/"
        },
        "id": "8sia9J_rJY0W",
        "outputId": "dcf52dbb-b5d2-4e4f-8d5a-272467ced037"
      },
      "outputs": [
        {
          "name": "stdout",
          "output_type": "stream",
          "text": [
            "[flaml.automl.logger: 08-29 23:29:24] {1679} INFO - task = classification\n",
            "[flaml.automl.logger: 08-29 23:29:24] {1690} INFO - Evaluation method: holdout\n",
            "[flaml.automl.logger: 08-29 23:29:25] {1788} INFO - Minimizing error metric: log_loss\n",
            "[flaml.automl.logger: 08-29 23:29:25] {1900} INFO - List of ML learners in AutoML Run: ['lgbm', 'rf', 'xgboost', 'extra_tree', 'xgb_limitdepth', 'lrl1']\n",
            "[flaml.automl.logger: 08-29 23:29:25] {2218} INFO - iteration 0, current learner lgbm\n",
            "[flaml.automl.logger: 08-29 23:29:27] {2344} INFO - Estimated sufficient time budget=107577s. Estimated necessary time budget=2480s.\n",
            "[flaml.automl.logger: 08-29 23:29:27] {2391} INFO -  at 7.5s,\testimator lgbm's best error=0.4839,\tbest estimator lgbm's best error=0.4839\n",
            "[flaml.automl.logger: 08-29 23:29:27] {2218} INFO - iteration 1, current learner lgbm\n",
            "[flaml.automl.logger: 08-29 23:29:29] {2391} INFO -  at 9.3s,\testimator lgbm's best error=0.4839,\tbest estimator lgbm's best error=0.4839\n",
            "[flaml.automl.logger: 08-29 23:29:29] {2218} INFO - iteration 2, current learner lgbm\n",
            "[flaml.automl.logger: 08-29 23:29:31] {2391} INFO -  at 11.4s,\testimator lgbm's best error=0.4462,\tbest estimator lgbm's best error=0.4462\n",
            "[flaml.automl.logger: 08-29 23:29:31] {2218} INFO - iteration 3, current learner xgboost\n"
          ]
        },
        {
          "name": "stderr",
          "output_type": "stream",
          "text": [
            "/usr/local/lib/python3.10/dist-packages/xgboost/sklearn.py:1395: UserWarning: `use_label_encoder` is deprecated in 1.7.0.\n",
            "  warnings.warn(\"`use_label_encoder` is deprecated in 1.7.0.\")\n"
          ]
        },
        {
          "name": "stdout",
          "output_type": "stream",
          "text": [
            "[flaml.automl.logger: 08-29 23:29:31] {2391} INFO -  at 11.8s,\testimator xgboost's best error=0.8375,\tbest estimator lgbm's best error=0.4462\n",
            "[flaml.automl.logger: 08-29 23:29:31] {2218} INFO - iteration 4, current learner lgbm\n",
            "[flaml.automl.logger: 08-29 23:29:32] {2391} INFO -  at 12.5s,\testimator lgbm's best error=0.4340,\tbest estimator lgbm's best error=0.4340\n",
            "[flaml.automl.logger: 08-29 23:29:32] {2218} INFO - iteration 5, current learner lgbm\n",
            "[flaml.automl.logger: 08-29 23:29:33] {2391} INFO -  at 13.1s,\testimator lgbm's best error=0.4340,\tbest estimator lgbm's best error=0.4340\n",
            "[flaml.automl.logger: 08-29 23:29:33] {2218} INFO - iteration 6, current learner lgbm\n",
            "[flaml.automl.logger: 08-29 23:29:33] {2391} INFO -  at 14.0s,\testimator lgbm's best error=0.4340,\tbest estimator lgbm's best error=0.4340\n",
            "[flaml.automl.logger: 08-29 23:29:33] {2218} INFO - iteration 7, current learner lgbm\n",
            "[flaml.automl.logger: 08-29 23:29:34] {2391} INFO -  at 14.8s,\testimator lgbm's best error=0.4249,\tbest estimator lgbm's best error=0.4249\n",
            "[flaml.automl.logger: 08-29 23:29:34] {2218} INFO - iteration 8, current learner xgboost\n",
            "[flaml.automl.logger: 08-29 23:29:34] {2391} INFO -  at 15.0s,\testimator xgboost's best error=0.8375,\tbest estimator lgbm's best error=0.4249\n",
            "[flaml.automl.logger: 08-29 23:29:34] {2218} INFO - iteration 9, current learner xgboost\n"
          ]
        },
        {
          "name": "stderr",
          "output_type": "stream",
          "text": [
            "/usr/local/lib/python3.10/dist-packages/xgboost/sklearn.py:1395: UserWarning: `use_label_encoder` is deprecated in 1.7.0.\n",
            "  warnings.warn(\"`use_label_encoder` is deprecated in 1.7.0.\")\n",
            "/usr/local/lib/python3.10/dist-packages/xgboost/sklearn.py:1395: UserWarning: `use_label_encoder` is deprecated in 1.7.0.\n",
            "  warnings.warn(\"`use_label_encoder` is deprecated in 1.7.0.\")\n"
          ]
        },
        {
          "name": "stdout",
          "output_type": "stream",
          "text": [
            "[flaml.automl.logger: 08-29 23:29:35] {2391} INFO -  at 15.4s,\testimator xgboost's best error=0.6292,\tbest estimator lgbm's best error=0.4249\n",
            "[flaml.automl.logger: 08-29 23:29:35] {2218} INFO - iteration 10, current learner xgboost\n",
            "[flaml.automl.logger: 08-29 23:29:35] {2391} INFO -  at 15.5s,\testimator xgboost's best error=0.4544,\tbest estimator lgbm's best error=0.4249\n",
            "[flaml.automl.logger: 08-29 23:29:35] {2218} INFO - iteration 11, current learner xgboost\n"
          ]
        },
        {
          "name": "stderr",
          "output_type": "stream",
          "text": [
            "/usr/local/lib/python3.10/dist-packages/xgboost/sklearn.py:1395: UserWarning: `use_label_encoder` is deprecated in 1.7.0.\n",
            "  warnings.warn(\"`use_label_encoder` is deprecated in 1.7.0.\")\n",
            "/usr/local/lib/python3.10/dist-packages/xgboost/sklearn.py:1395: UserWarning: `use_label_encoder` is deprecated in 1.7.0.\n",
            "  warnings.warn(\"`use_label_encoder` is deprecated in 1.7.0.\")\n"
          ]
        },
        {
          "name": "stdout",
          "output_type": "stream",
          "text": [
            "[flaml.automl.logger: 08-29 23:29:35] {2391} INFO -  at 15.7s,\testimator xgboost's best error=0.4544,\tbest estimator lgbm's best error=0.4249\n",
            "[flaml.automl.logger: 08-29 23:29:35] {2218} INFO - iteration 12, current learner xgboost\n"
          ]
        },
        {
          "name": "stderr",
          "output_type": "stream",
          "text": [
            "/usr/local/lib/python3.10/dist-packages/xgboost/sklearn.py:1395: UserWarning: `use_label_encoder` is deprecated in 1.7.0.\n",
            "  warnings.warn(\"`use_label_encoder` is deprecated in 1.7.0.\")\n"
          ]
        },
        {
          "name": "stdout",
          "output_type": "stream",
          "text": [
            "[flaml.automl.logger: 08-29 23:29:36] {2391} INFO -  at 16.1s,\testimator xgboost's best error=0.4544,\tbest estimator lgbm's best error=0.4249\n",
            "[flaml.automl.logger: 08-29 23:29:36] {2218} INFO - iteration 13, current learner xgboost\n"
          ]
        },
        {
          "name": "stderr",
          "output_type": "stream",
          "text": [
            "/usr/local/lib/python3.10/dist-packages/xgboost/sklearn.py:1395: UserWarning: `use_label_encoder` is deprecated in 1.7.0.\n",
            "  warnings.warn(\"`use_label_encoder` is deprecated in 1.7.0.\")\n"
          ]
        },
        {
          "name": "stdout",
          "output_type": "stream",
          "text": [
            "[flaml.automl.logger: 08-29 23:29:37] {2391} INFO -  at 17.6s,\testimator xgboost's best error=0.4508,\tbest estimator lgbm's best error=0.4249\n",
            "[flaml.automl.logger: 08-29 23:29:37] {2218} INFO - iteration 14, current learner lgbm\n",
            "[flaml.automl.logger: 08-29 23:29:39] {2391} INFO -  at 19.5s,\testimator lgbm's best error=0.4249,\tbest estimator lgbm's best error=0.4249\n",
            "[flaml.automl.logger: 08-29 23:29:39] {2218} INFO - iteration 15, current learner lgbm\n",
            "[flaml.automl.logger: 08-29 23:29:41] {2391} INFO -  at 21.1s,\testimator lgbm's best error=0.4244,\tbest estimator lgbm's best error=0.4244\n",
            "[flaml.automl.logger: 08-29 23:29:41] {2218} INFO - iteration 16, current learner extra_tree\n",
            "[flaml.automl.logger: 08-29 23:29:41] {2391} INFO -  at 21.3s,\testimator extra_tree's best error=0.4954,\tbest estimator lgbm's best error=0.4244\n",
            "[flaml.automl.logger: 08-29 23:29:41] {2218} INFO - iteration 17, current learner lgbm\n",
            "[flaml.automl.logger: 08-29 23:29:41] {2391} INFO -  at 21.7s,\testimator lgbm's best error=0.4244,\tbest estimator lgbm's best error=0.4244\n",
            "[flaml.automl.logger: 08-29 23:29:41] {2218} INFO - iteration 18, current learner extra_tree\n",
            "[flaml.automl.logger: 08-29 23:29:41] {2391} INFO -  at 21.8s,\testimator extra_tree's best error=0.4632,\tbest estimator lgbm's best error=0.4244\n",
            "[flaml.automl.logger: 08-29 23:29:41] {2218} INFO - iteration 19, current learner extra_tree\n",
            "[flaml.automl.logger: 08-29 23:29:41] {2391} INFO -  at 21.9s,\testimator extra_tree's best error=0.4632,\tbest estimator lgbm's best error=0.4244\n",
            "[flaml.automl.logger: 08-29 23:29:41] {2218} INFO - iteration 20, current learner extra_tree\n",
            "[flaml.automl.logger: 08-29 23:29:42] {2391} INFO -  at 22.0s,\testimator extra_tree's best error=0.4632,\tbest estimator lgbm's best error=0.4244\n",
            "[flaml.automl.logger: 08-29 23:29:42] {2218} INFO - iteration 21, current learner lgbm\n",
            "[flaml.automl.logger: 08-29 23:29:43] {2391} INFO -  at 23.3s,\testimator lgbm's best error=0.4244,\tbest estimator lgbm's best error=0.4244\n",
            "[flaml.automl.logger: 08-29 23:29:43] {2218} INFO - iteration 22, current learner extra_tree\n",
            "[flaml.automl.logger: 08-29 23:29:43] {2391} INFO -  at 23.4s,\testimator extra_tree's best error=0.4423,\tbest estimator lgbm's best error=0.4244\n",
            "[flaml.automl.logger: 08-29 23:29:43] {2218} INFO - iteration 23, current learner extra_tree\n",
            "[flaml.automl.logger: 08-29 23:29:43] {2391} INFO -  at 23.5s,\testimator extra_tree's best error=0.4423,\tbest estimator lgbm's best error=0.4244\n",
            "[flaml.automl.logger: 08-29 23:29:43] {2218} INFO - iteration 24, current learner extra_tree\n",
            "[flaml.automl.logger: 08-29 23:29:43] {2391} INFO -  at 23.6s,\testimator extra_tree's best error=0.4423,\tbest estimator lgbm's best error=0.4244\n",
            "[flaml.automl.logger: 08-29 23:29:43] {2218} INFO - iteration 25, current learner extra_tree\n",
            "[flaml.automl.logger: 08-29 23:29:43] {2391} INFO -  at 23.8s,\testimator extra_tree's best error=0.4423,\tbest estimator lgbm's best error=0.4244\n",
            "[flaml.automl.logger: 08-29 23:29:43] {2218} INFO - iteration 26, current learner extra_tree\n",
            "[flaml.automl.logger: 08-29 23:29:43] {2391} INFO -  at 24.0s,\testimator extra_tree's best error=0.4423,\tbest estimator lgbm's best error=0.4244\n",
            "[flaml.automl.logger: 08-29 23:29:43] {2218} INFO - iteration 27, current learner extra_tree\n",
            "[flaml.automl.logger: 08-29 23:29:44] {2391} INFO -  at 24.3s,\testimator extra_tree's best error=0.4423,\tbest estimator lgbm's best error=0.4244\n",
            "[flaml.automl.logger: 08-29 23:29:44] {2218} INFO - iteration 28, current learner extra_tree\n",
            "[flaml.automl.logger: 08-29 23:29:44] {2391} INFO -  at 24.5s,\testimator extra_tree's best error=0.4423,\tbest estimator lgbm's best error=0.4244\n",
            "[flaml.automl.logger: 08-29 23:29:44] {2218} INFO - iteration 29, current learner lgbm\n",
            "[flaml.automl.logger: 08-29 23:29:44] {2391} INFO -  at 25.0s,\testimator lgbm's best error=0.4244,\tbest estimator lgbm's best error=0.4244\n",
            "[flaml.automl.logger: 08-29 23:29:44] {2218} INFO - iteration 30, current learner lgbm\n",
            "[flaml.automl.logger: 08-29 23:29:45] {2391} INFO -  at 25.3s,\testimator lgbm's best error=0.4244,\tbest estimator lgbm's best error=0.4244\n",
            "[flaml.automl.logger: 08-29 23:29:45] {2218} INFO - iteration 31, current learner lgbm\n",
            "[flaml.automl.logger: 08-29 23:29:45] {2391} INFO -  at 25.8s,\testimator lgbm's best error=0.4244,\tbest estimator lgbm's best error=0.4244\n",
            "[flaml.automl.logger: 08-29 23:29:45] {2218} INFO - iteration 32, current learner extra_tree\n",
            "[flaml.automl.logger: 08-29 23:29:45] {2391} INFO -  at 25.9s,\testimator extra_tree's best error=0.4423,\tbest estimator lgbm's best error=0.4244\n",
            "[flaml.automl.logger: 08-29 23:29:45] {2218} INFO - iteration 33, current learner lgbm\n",
            "[flaml.automl.logger: 08-29 23:29:46] {2391} INFO -  at 26.4s,\testimator lgbm's best error=0.4244,\tbest estimator lgbm's best error=0.4244\n",
            "[flaml.automl.logger: 08-29 23:29:46] {2218} INFO - iteration 34, current learner xgboost\n"
          ]
        },
        {
          "name": "stderr",
          "output_type": "stream",
          "text": [
            "/usr/local/lib/python3.10/dist-packages/xgboost/sklearn.py:1395: UserWarning: `use_label_encoder` is deprecated in 1.7.0.\n",
            "  warnings.warn(\"`use_label_encoder` is deprecated in 1.7.0.\")\n"
          ]
        },
        {
          "name": "stdout",
          "output_type": "stream",
          "text": [
            "[flaml.automl.logger: 08-29 23:29:46] {2391} INFO -  at 26.8s,\testimator xgboost's best error=0.4280,\tbest estimator lgbm's best error=0.4244\n",
            "[flaml.automl.logger: 08-29 23:29:46] {2218} INFO - iteration 35, current learner extra_tree\n",
            "[flaml.automl.logger: 08-29 23:29:47] {2391} INFO -  at 27.3s,\testimator extra_tree's best error=0.4367,\tbest estimator lgbm's best error=0.4244\n",
            "[flaml.automl.logger: 08-29 23:29:47] {2218} INFO - iteration 36, current learner xgboost\n"
          ]
        },
        {
          "name": "stderr",
          "output_type": "stream",
          "text": [
            "/usr/local/lib/python3.10/dist-packages/xgboost/sklearn.py:1395: UserWarning: `use_label_encoder` is deprecated in 1.7.0.\n",
            "  warnings.warn(\"`use_label_encoder` is deprecated in 1.7.0.\")\n"
          ]
        },
        {
          "name": "stdout",
          "output_type": "stream",
          "text": [
            "[flaml.automl.logger: 08-29 23:29:47] {2391} INFO -  at 27.6s,\testimator xgboost's best error=0.4280,\tbest estimator lgbm's best error=0.4244\n",
            "[flaml.automl.logger: 08-29 23:29:47] {2218} INFO - iteration 37, current learner xgboost\n"
          ]
        },
        {
          "name": "stderr",
          "output_type": "stream",
          "text": [
            "/usr/local/lib/python3.10/dist-packages/xgboost/sklearn.py:1395: UserWarning: `use_label_encoder` is deprecated in 1.7.0.\n",
            "  warnings.warn(\"`use_label_encoder` is deprecated in 1.7.0.\")\n"
          ]
        },
        {
          "name": "stdout",
          "output_type": "stream",
          "text": [
            "[flaml.automl.logger: 08-29 23:29:48] {2391} INFO -  at 28.1s,\testimator xgboost's best error=0.4200,\tbest estimator xgboost's best error=0.4200\n",
            "[flaml.automl.logger: 08-29 23:29:48] {2218} INFO - iteration 38, current learner xgboost\n"
          ]
        },
        {
          "name": "stderr",
          "output_type": "stream",
          "text": [
            "/usr/local/lib/python3.10/dist-packages/xgboost/sklearn.py:1395: UserWarning: `use_label_encoder` is deprecated in 1.7.0.\n",
            "  warnings.warn(\"`use_label_encoder` is deprecated in 1.7.0.\")\n"
          ]
        },
        {
          "name": "stdout",
          "output_type": "stream",
          "text": [
            "[flaml.automl.logger: 08-29 23:29:48] {2391} INFO -  at 28.5s,\testimator xgboost's best error=0.4200,\tbest estimator xgboost's best error=0.4200\n",
            "[flaml.automl.logger: 08-29 23:29:48] {2218} INFO - iteration 39, current learner xgboost\n"
          ]
        },
        {
          "name": "stderr",
          "output_type": "stream",
          "text": [
            "/usr/local/lib/python3.10/dist-packages/xgboost/sklearn.py:1395: UserWarning: `use_label_encoder` is deprecated in 1.7.0.\n",
            "  warnings.warn(\"`use_label_encoder` is deprecated in 1.7.0.\")\n"
          ]
        },
        {
          "name": "stdout",
          "output_type": "stream",
          "text": [
            "[flaml.automl.logger: 08-29 23:29:48] {2391} INFO -  at 28.8s,\testimator xgboost's best error=0.4200,\tbest estimator xgboost's best error=0.4200\n",
            "[flaml.automl.logger: 08-29 23:29:48] {2218} INFO - iteration 40, current learner xgboost\n"
          ]
        },
        {
          "name": "stderr",
          "output_type": "stream",
          "text": [
            "/usr/local/lib/python3.10/dist-packages/xgboost/sklearn.py:1395: UserWarning: `use_label_encoder` is deprecated in 1.7.0.\n",
            "  warnings.warn(\"`use_label_encoder` is deprecated in 1.7.0.\")\n"
          ]
        },
        {
          "name": "stdout",
          "output_type": "stream",
          "text": [
            "[flaml.automl.logger: 08-29 23:29:49] {2391} INFO -  at 29.4s,\testimator xgboost's best error=0.4170,\tbest estimator xgboost's best error=0.4170\n",
            "[flaml.automl.logger: 08-29 23:29:49] {2218} INFO - iteration 41, current learner xgboost\n"
          ]
        },
        {
          "name": "stderr",
          "output_type": "stream",
          "text": [
            "/usr/local/lib/python3.10/dist-packages/xgboost/sklearn.py:1395: UserWarning: `use_label_encoder` is deprecated in 1.7.0.\n",
            "  warnings.warn(\"`use_label_encoder` is deprecated in 1.7.0.\")\n"
          ]
        },
        {
          "name": "stdout",
          "output_type": "stream",
          "text": [
            "[flaml.automl.logger: 08-29 23:29:49] {2391} INFO -  at 29.8s,\testimator xgboost's best error=0.4170,\tbest estimator xgboost's best error=0.4170\n",
            "[flaml.automl.logger: 08-29 23:29:49] {2218} INFO - iteration 42, current learner xgboost\n"
          ]
        },
        {
          "name": "stderr",
          "output_type": "stream",
          "text": [
            "/usr/local/lib/python3.10/dist-packages/xgboost/sklearn.py:1395: UserWarning: `use_label_encoder` is deprecated in 1.7.0.\n",
            "  warnings.warn(\"`use_label_encoder` is deprecated in 1.7.0.\")\n"
          ]
        },
        {
          "name": "stdout",
          "output_type": "stream",
          "text": [
            "[flaml.automl.logger: 08-29 23:29:52] {2391} INFO -  at 32.9s,\testimator xgboost's best error=0.4170,\tbest estimator xgboost's best error=0.4170\n",
            "[flaml.automl.logger: 08-29 23:29:52] {2218} INFO - iteration 43, current learner rf\n",
            "[flaml.automl.logger: 08-29 23:29:52] {2391} INFO -  at 33.0s,\testimator rf's best error=0.4878,\tbest estimator xgboost's best error=0.4170\n",
            "[flaml.automl.logger: 08-29 23:29:52] {2218} INFO - iteration 44, current learner xgboost\n"
          ]
        },
        {
          "name": "stderr",
          "output_type": "stream",
          "text": [
            "/usr/local/lib/python3.10/dist-packages/xgboost/sklearn.py:1395: UserWarning: `use_label_encoder` is deprecated in 1.7.0.\n",
            "  warnings.warn(\"`use_label_encoder` is deprecated in 1.7.0.\")\n"
          ]
        },
        {
          "name": "stdout",
          "output_type": "stream",
          "text": [
            "[flaml.automl.logger: 08-29 23:29:53] {2391} INFO -  at 33.4s,\testimator xgboost's best error=0.4170,\tbest estimator xgboost's best error=0.4170\n",
            "[flaml.automl.logger: 08-29 23:29:53] {2218} INFO - iteration 45, current learner rf\n",
            "[flaml.automl.logger: 08-29 23:29:53] {2391} INFO -  at 33.6s,\testimator rf's best error=0.4588,\tbest estimator xgboost's best error=0.4170\n",
            "[flaml.automl.logger: 08-29 23:29:53] {2218} INFO - iteration 46, current learner rf\n",
            "[flaml.automl.logger: 08-29 23:29:53] {2391} INFO -  at 33.7s,\testimator rf's best error=0.4588,\tbest estimator xgboost's best error=0.4170\n",
            "[flaml.automl.logger: 08-29 23:29:53] {2218} INFO - iteration 47, current learner rf\n",
            "[flaml.automl.logger: 08-29 23:29:53] {2391} INFO -  at 33.9s,\testimator rf's best error=0.4588,\tbest estimator xgboost's best error=0.4170\n",
            "[flaml.automl.logger: 08-29 23:29:53] {2218} INFO - iteration 48, current learner rf\n",
            "[flaml.automl.logger: 08-29 23:29:54] {2391} INFO -  at 34.1s,\testimator rf's best error=0.4301,\tbest estimator xgboost's best error=0.4170\n",
            "[flaml.automl.logger: 08-29 23:29:54] {2218} INFO - iteration 49, current learner rf\n",
            "[flaml.automl.logger: 08-29 23:29:54] {2391} INFO -  at 34.4s,\testimator rf's best error=0.4301,\tbest estimator xgboost's best error=0.4170\n",
            "[flaml.automl.logger: 08-29 23:29:54] {2218} INFO - iteration 50, current learner xgboost\n"
          ]
        },
        {
          "name": "stderr",
          "output_type": "stream",
          "text": [
            "/usr/local/lib/python3.10/dist-packages/xgboost/sklearn.py:1395: UserWarning: `use_label_encoder` is deprecated in 1.7.0.\n",
            "  warnings.warn(\"`use_label_encoder` is deprecated in 1.7.0.\")\n"
          ]
        },
        {
          "name": "stdout",
          "output_type": "stream",
          "text": [
            "[flaml.automl.logger: 08-29 23:29:55] {2391} INFO -  at 35.2s,\testimator xgboost's best error=0.4170,\tbest estimator xgboost's best error=0.4170\n",
            "[flaml.automl.logger: 08-29 23:29:55] {2218} INFO - iteration 51, current learner rf\n",
            "[flaml.automl.logger: 08-29 23:29:55] {2391} INFO -  at 35.5s,\testimator rf's best error=0.4301,\tbest estimator xgboost's best error=0.4170\n",
            "[flaml.automl.logger: 08-29 23:29:55] {2218} INFO - iteration 52, current learner rf\n",
            "[flaml.automl.logger: 08-29 23:29:55] {2391} INFO -  at 35.9s,\testimator rf's best error=0.4301,\tbest estimator xgboost's best error=0.4170\n",
            "[flaml.automl.logger: 08-29 23:29:55] {2218} INFO - iteration 53, current learner rf\n",
            "[flaml.automl.logger: 08-29 23:29:56] {2391} INFO -  at 36.8s,\testimator rf's best error=0.4292,\tbest estimator xgboost's best error=0.4170\n",
            "[flaml.automl.logger: 08-29 23:29:56] {2218} INFO - iteration 54, current learner rf\n",
            "[flaml.automl.logger: 08-29 23:29:57] {2391} INFO -  at 37.7s,\testimator rf's best error=0.4292,\tbest estimator xgboost's best error=0.4170\n",
            "[flaml.automl.logger: 08-29 23:29:57] {2218} INFO - iteration 55, current learner xgboost\n"
          ]
        },
        {
          "name": "stderr",
          "output_type": "stream",
          "text": [
            "/usr/local/lib/python3.10/dist-packages/xgboost/sklearn.py:1395: UserWarning: `use_label_encoder` is deprecated in 1.7.0.\n",
            "  warnings.warn(\"`use_label_encoder` is deprecated in 1.7.0.\")\n"
          ]
        },
        {
          "name": "stdout",
          "output_type": "stream",
          "text": [
            "[flaml.automl.logger: 08-29 23:29:58] {2391} INFO -  at 38.1s,\testimator xgboost's best error=0.4170,\tbest estimator xgboost's best error=0.4170\n",
            "[flaml.automl.logger: 08-29 23:29:58] {2218} INFO - iteration 56, current learner xgboost\n"
          ]
        },
        {
          "name": "stderr",
          "output_type": "stream",
          "text": [
            "/usr/local/lib/python3.10/dist-packages/xgboost/sklearn.py:1395: UserWarning: `use_label_encoder` is deprecated in 1.7.0.\n",
            "  warnings.warn(\"`use_label_encoder` is deprecated in 1.7.0.\")\n"
          ]
        },
        {
          "name": "stdout",
          "output_type": "stream",
          "text": [
            "[flaml.automl.logger: 08-29 23:29:59] {2391} INFO -  at 39.4s,\testimator xgboost's best error=0.4170,\tbest estimator xgboost's best error=0.4170\n",
            "[flaml.automl.logger: 08-29 23:29:59] {2218} INFO - iteration 57, current learner xgboost\n"
          ]
        },
        {
          "name": "stderr",
          "output_type": "stream",
          "text": [
            "/usr/local/lib/python3.10/dist-packages/xgboost/sklearn.py:1395: UserWarning: `use_label_encoder` is deprecated in 1.7.0.\n",
            "  warnings.warn(\"`use_label_encoder` is deprecated in 1.7.0.\")\n"
          ]
        },
        {
          "name": "stdout",
          "output_type": "stream",
          "text": [
            "[flaml.automl.logger: 08-29 23:29:59] {2391} INFO -  at 39.8s,\testimator xgboost's best error=0.4170,\tbest estimator xgboost's best error=0.4170\n",
            "[flaml.automl.logger: 08-29 23:29:59] {2218} INFO - iteration 58, current learner xgboost\n"
          ]
        },
        {
          "name": "stderr",
          "output_type": "stream",
          "text": [
            "/usr/local/lib/python3.10/dist-packages/xgboost/sklearn.py:1395: UserWarning: `use_label_encoder` is deprecated in 1.7.0.\n",
            "  warnings.warn(\"`use_label_encoder` is deprecated in 1.7.0.\")\n"
          ]
        },
        {
          "name": "stdout",
          "output_type": "stream",
          "text": [
            "[flaml.automl.logger: 08-29 23:30:01] {2391} INFO -  at 41.4s,\testimator xgboost's best error=0.4161,\tbest estimator xgboost's best error=0.4161\n",
            "[flaml.automl.logger: 08-29 23:30:01] {2218} INFO - iteration 59, current learner rf\n",
            "[flaml.automl.logger: 08-29 23:30:02] {2391} INFO -  at 42.7s,\testimator rf's best error=0.4281,\tbest estimator xgboost's best error=0.4161\n",
            "[flaml.automl.logger: 08-29 23:30:02] {2218} INFO - iteration 60, current learner xgboost\n"
          ]
        },
        {
          "name": "stderr",
          "output_type": "stream",
          "text": [
            "/usr/local/lib/python3.10/dist-packages/xgboost/sklearn.py:1395: UserWarning: `use_label_encoder` is deprecated in 1.7.0.\n",
            "  warnings.warn(\"`use_label_encoder` is deprecated in 1.7.0.\")\n"
          ]
        },
        {
          "name": "stdout",
          "output_type": "stream",
          "text": [
            "[flaml.automl.logger: 08-29 23:30:05] {2391} INFO -  at 45.3s,\testimator xgboost's best error=0.4161,\tbest estimator xgboost's best error=0.4161\n",
            "[flaml.automl.logger: 08-29 23:30:05] {2218} INFO - iteration 61, current learner xgboost\n"
          ]
        },
        {
          "name": "stderr",
          "output_type": "stream",
          "text": [
            "/usr/local/lib/python3.10/dist-packages/xgboost/sklearn.py:1395: UserWarning: `use_label_encoder` is deprecated in 1.7.0.\n",
            "  warnings.warn(\"`use_label_encoder` is deprecated in 1.7.0.\")\n"
          ]
        },
        {
          "name": "stdout",
          "output_type": "stream",
          "text": [
            "[flaml.automl.logger: 08-29 23:30:07] {2391} INFO -  at 47.8s,\testimator xgboost's best error=0.4161,\tbest estimator xgboost's best error=0.4161\n",
            "[flaml.automl.logger: 08-29 23:30:07] {2218} INFO - iteration 62, current learner xgboost\n"
          ]
        },
        {
          "name": "stderr",
          "output_type": "stream",
          "text": [
            "/usr/local/lib/python3.10/dist-packages/xgboost/sklearn.py:1395: UserWarning: `use_label_encoder` is deprecated in 1.7.0.\n",
            "  warnings.warn(\"`use_label_encoder` is deprecated in 1.7.0.\")\n"
          ]
        },
        {
          "name": "stdout",
          "output_type": "stream",
          "text": [
            "[flaml.automl.logger: 08-29 23:30:08] {2391} INFO -  at 48.9s,\testimator xgboost's best error=0.4161,\tbest estimator xgboost's best error=0.4161\n",
            "[flaml.automl.logger: 08-29 23:30:08] {2218} INFO - iteration 63, current learner extra_tree\n",
            "[flaml.automl.logger: 08-29 23:30:09] {2391} INFO -  at 49.2s,\testimator extra_tree's best error=0.4315,\tbest estimator xgboost's best error=0.4161\n",
            "[flaml.automl.logger: 08-29 23:30:09] {2218} INFO - iteration 64, current learner xgboost\n"
          ]
        },
        {
          "name": "stderr",
          "output_type": "stream",
          "text": [
            "/usr/local/lib/python3.10/dist-packages/xgboost/sklearn.py:1395: UserWarning: `use_label_encoder` is deprecated in 1.7.0.\n",
            "  warnings.warn(\"`use_label_encoder` is deprecated in 1.7.0.\")\n"
          ]
        },
        {
          "name": "stdout",
          "output_type": "stream",
          "text": [
            "[flaml.automl.logger: 08-29 23:30:12] {2391} INFO -  at 52.2s,\testimator xgboost's best error=0.4161,\tbest estimator xgboost's best error=0.4161\n",
            "[flaml.automl.logger: 08-29 23:30:12] {2218} INFO - iteration 65, current learner extra_tree\n",
            "[flaml.automl.logger: 08-29 23:30:12] {2391} INFO -  at 52.9s,\testimator extra_tree's best error=0.4315,\tbest estimator xgboost's best error=0.4161\n",
            "[flaml.automl.logger: 08-29 23:30:12] {2218} INFO - iteration 66, current learner extra_tree\n",
            "[flaml.automl.logger: 08-29 23:30:13] {2391} INFO -  at 53.3s,\testimator extra_tree's best error=0.4271,\tbest estimator xgboost's best error=0.4161\n",
            "[flaml.automl.logger: 08-29 23:30:13] {2218} INFO - iteration 67, current learner extra_tree\n",
            "[flaml.automl.logger: 08-29 23:30:13] {2391} INFO -  at 53.7s,\testimator extra_tree's best error=0.4271,\tbest estimator xgboost's best error=0.4161\n",
            "[flaml.automl.logger: 08-29 23:30:13] {2218} INFO - iteration 68, current learner rf\n",
            "[flaml.automl.logger: 08-29 23:30:14] {2391} INFO -  at 54.5s,\testimator rf's best error=0.4281,\tbest estimator xgboost's best error=0.4161\n",
            "[flaml.automl.logger: 08-29 23:30:14] {2218} INFO - iteration 69, current learner extra_tree\n",
            "[flaml.automl.logger: 08-29 23:30:14] {2391} INFO -  at 54.9s,\testimator extra_tree's best error=0.4271,\tbest estimator xgboost's best error=0.4161\n",
            "[flaml.automl.logger: 08-29 23:30:14] {2218} INFO - iteration 70, current learner extra_tree\n",
            "[flaml.automl.logger: 08-29 23:30:16] {2391} INFO -  at 56.9s,\testimator extra_tree's best error=0.4266,\tbest estimator xgboost's best error=0.4161\n",
            "[flaml.automl.logger: 08-29 23:30:16] {2218} INFO - iteration 71, current learner xgboost\n"
          ]
        },
        {
          "name": "stderr",
          "output_type": "stream",
          "text": [
            "/usr/local/lib/python3.10/dist-packages/xgboost/sklearn.py:1395: UserWarning: `use_label_encoder` is deprecated in 1.7.0.\n",
            "  warnings.warn(\"`use_label_encoder` is deprecated in 1.7.0.\")\n"
          ]
        },
        {
          "name": "stdout",
          "output_type": "stream",
          "text": [
            "[flaml.automl.logger: 08-29 23:30:17] {2391} INFO -  at 57.6s,\testimator xgboost's best error=0.4161,\tbest estimator xgboost's best error=0.4161\n",
            "[flaml.automl.logger: 08-29 23:30:17] {2218} INFO - iteration 72, current learner extra_tree\n",
            "[flaml.automl.logger: 08-29 23:30:18] {2391} INFO -  at 58.9s,\testimator extra_tree's best error=0.4256,\tbest estimator xgboost's best error=0.4161\n",
            "[flaml.automl.logger: 08-29 23:30:18] {2218} INFO - iteration 73, current learner xgb_limitdepth\n",
            "[flaml.automl.logger: 08-29 23:30:18] {2391} INFO -  at 59.0s,\testimator xgb_limitdepth's best error=0.8652,\tbest estimator xgboost's best error=0.4161\n",
            "[flaml.automl.logger: 08-29 23:30:18] {2218} INFO - iteration 74, current learner xgb_limitdepth\n",
            "[flaml.automl.logger: 08-29 23:30:19] {2391} INFO -  at 59.1s,\testimator xgb_limitdepth's best error=0.8652,\tbest estimator xgboost's best error=0.4161\n",
            "[flaml.automl.logger: 08-29 23:30:19] {2218} INFO - iteration 75, current learner xgb_limitdepth\n"
          ]
        },
        {
          "name": "stderr",
          "output_type": "stream",
          "text": [
            "/usr/local/lib/python3.10/dist-packages/xgboost/sklearn.py:1395: UserWarning: `use_label_encoder` is deprecated in 1.7.0.\n",
            "  warnings.warn(\"`use_label_encoder` is deprecated in 1.7.0.\")\n",
            "/usr/local/lib/python3.10/dist-packages/xgboost/sklearn.py:1395: UserWarning: `use_label_encoder` is deprecated in 1.7.0.\n",
            "  warnings.warn(\"`use_label_encoder` is deprecated in 1.7.0.\")\n"
          ]
        },
        {
          "name": "stdout",
          "output_type": "stream",
          "text": [
            "[flaml.automl.logger: 08-29 23:30:19] {2391} INFO -  at 59.2s,\testimator xgb_limitdepth's best error=0.6251,\tbest estimator xgboost's best error=0.4161\n",
            "[flaml.automl.logger: 08-29 23:30:19] {2218} INFO - iteration 76, current learner xgb_limitdepth\n",
            "[flaml.automl.logger: 08-29 23:30:19] {2391} INFO -  at 59.3s,\testimator xgb_limitdepth's best error=0.5649,\tbest estimator xgboost's best error=0.4161\n",
            "[flaml.automl.logger: 08-29 23:30:19] {2218} INFO - iteration 77, current learner xgb_limitdepth\n"
          ]
        },
        {
          "name": "stderr",
          "output_type": "stream",
          "text": [
            "/usr/local/lib/python3.10/dist-packages/xgboost/sklearn.py:1395: UserWarning: `use_label_encoder` is deprecated in 1.7.0.\n",
            "  warnings.warn(\"`use_label_encoder` is deprecated in 1.7.0.\")\n",
            "/usr/local/lib/python3.10/dist-packages/xgboost/sklearn.py:1395: UserWarning: `use_label_encoder` is deprecated in 1.7.0.\n",
            "  warnings.warn(\"`use_label_encoder` is deprecated in 1.7.0.\")\n",
            "/usr/local/lib/python3.10/dist-packages/xgboost/sklearn.py:1395: UserWarning: `use_label_encoder` is deprecated in 1.7.0.\n",
            "  warnings.warn(\"`use_label_encoder` is deprecated in 1.7.0.\")\n"
          ]
        },
        {
          "name": "stdout",
          "output_type": "stream",
          "text": [
            "[flaml.automl.logger: 08-29 23:30:19] {2391} INFO -  at 59.4s,\testimator xgb_limitdepth's best error=0.5649,\tbest estimator xgboost's best error=0.4161\n",
            "[flaml.automl.logger: 08-29 23:30:19] {2218} INFO - iteration 78, current learner xgb_limitdepth\n",
            "[flaml.automl.logger: 08-29 23:30:19] {2391} INFO -  at 59.5s,\testimator xgb_limitdepth's best error=0.5649,\tbest estimator xgboost's best error=0.4161\n",
            "[flaml.automl.logger: 08-29 23:30:19] {2218} INFO - iteration 79, current learner xgb_limitdepth\n",
            "[flaml.automl.logger: 08-29 23:30:19] {2391} INFO -  at 59.6s,\testimator xgb_limitdepth's best error=0.5642,\tbest estimator xgboost's best error=0.4161\n",
            "[flaml.automl.logger: 08-29 23:30:19] {2218} INFO - iteration 80, current learner xgb_limitdepth\n"
          ]
        },
        {
          "name": "stderr",
          "output_type": "stream",
          "text": [
            "/usr/local/lib/python3.10/dist-packages/xgboost/sklearn.py:1395: UserWarning: `use_label_encoder` is deprecated in 1.7.0.\n",
            "  warnings.warn(\"`use_label_encoder` is deprecated in 1.7.0.\")\n",
            "/usr/local/lib/python3.10/dist-packages/xgboost/sklearn.py:1395: UserWarning: `use_label_encoder` is deprecated in 1.7.0.\n",
            "  warnings.warn(\"`use_label_encoder` is deprecated in 1.7.0.\")\n",
            "/usr/local/lib/python3.10/dist-packages/xgboost/sklearn.py:1395: UserWarning: `use_label_encoder` is deprecated in 1.7.0.\n",
            "  warnings.warn(\"`use_label_encoder` is deprecated in 1.7.0.\")\n"
          ]
        },
        {
          "name": "stdout",
          "output_type": "stream",
          "text": [
            "[flaml.automl.logger: 08-29 23:30:19] {2391} INFO -  at 59.7s,\testimator xgb_limitdepth's best error=0.5642,\tbest estimator xgboost's best error=0.4161\n",
            "[flaml.automl.logger: 08-29 23:30:19] {2218} INFO - iteration 81, current learner xgb_limitdepth\n",
            "[flaml.automl.logger: 08-29 23:30:19] {2391} INFO -  at 59.8s,\testimator xgb_limitdepth's best error=0.5642,\tbest estimator xgboost's best error=0.4161\n",
            "[flaml.automl.logger: 08-29 23:30:19] {2218} INFO - iteration 82, current learner xgb_limitdepth\n",
            "[flaml.automl.logger: 08-29 23:30:19] {2391} INFO -  at 59.9s,\testimator xgb_limitdepth's best error=0.5642,\tbest estimator xgboost's best error=0.4161\n",
            "[flaml.automl.logger: 08-29 23:30:19] {2218} INFO - iteration 83, current learner xgb_limitdepth\n"
          ]
        },
        {
          "name": "stderr",
          "output_type": "stream",
          "text": [
            "/usr/local/lib/python3.10/dist-packages/xgboost/sklearn.py:1395: UserWarning: `use_label_encoder` is deprecated in 1.7.0.\n",
            "  warnings.warn(\"`use_label_encoder` is deprecated in 1.7.0.\")\n",
            "/usr/local/lib/python3.10/dist-packages/xgboost/sklearn.py:1395: UserWarning: `use_label_encoder` is deprecated in 1.7.0.\n",
            "  warnings.warn(\"`use_label_encoder` is deprecated in 1.7.0.\")\n"
          ]
        },
        {
          "name": "stdout",
          "output_type": "stream",
          "text": [
            "[flaml.automl.logger: 08-29 23:30:19] {2391} INFO -  at 60.0s,\testimator xgb_limitdepth's best error=0.5642,\tbest estimator xgboost's best error=0.4161\n",
            "[flaml.automl.logger: 08-29 23:30:19] {2218} INFO - iteration 84, current learner lrl1\n"
          ]
        },
        {
          "name": "stderr",
          "output_type": "stream",
          "text": [
            "/usr/local/lib/python3.10/dist-packages/xgboost/sklearn.py:1395: UserWarning: `use_label_encoder` is deprecated in 1.7.0.\n",
            "  warnings.warn(\"`use_label_encoder` is deprecated in 1.7.0.\")\n",
            "INFO:flaml.tune.searcher.blendsearch:No low-cost partial config given to the search algorithm. For cost-frugal search, consider providing low-cost values for cost-related hps via 'low_cost_partial_config'. More info can be found at https://microsoft.github.io/FLAML/docs/FAQ#about-low_cost_partial_config-in-tune\n"
          ]
        },
        {
          "name": "stdout",
          "output_type": "stream",
          "text": [
            "[flaml.automl.logger: 08-29 23:30:21] {2391} INFO -  at 61.0s,\testimator lrl1's best error=0.6221,\tbest estimator xgboost's best error=0.4161\n"
          ]
        },
        {
          "name": "stderr",
          "output_type": "stream",
          "text": [
            "/usr/local/lib/python3.10/dist-packages/sklearn/linear_model/_sag.py:350: ConvergenceWarning: The max_iter was reached which means the coef_ did not converge\n",
            "  warnings.warn(\n",
            "/usr/local/lib/python3.10/dist-packages/xgboost/sklearn.py:1395: UserWarning: `use_label_encoder` is deprecated in 1.7.0.\n",
            "  warnings.warn(\"`use_label_encoder` is deprecated in 1.7.0.\")\n"
          ]
        },
        {
          "name": "stdout",
          "output_type": "stream",
          "text": [
            "[flaml.automl.logger: 08-29 23:30:22] {2627} INFO - retrain xgboost for 1.8s\n",
            "[flaml.automl.logger: 08-29 23:30:22] {2630} INFO - retrained model: XGBClassifier(base_score=None, booster=None, callbacks=[],\n",
            "              colsample_bylevel=0.8361819160470895, colsample_bynode=None,\n",
            "              colsample_bytree=0.5865479284530459, early_stopping_rounds=None,\n",
            "              enable_categorical=False, eval_metric=None, feature_types=None,\n",
            "              gamma=None, gpu_id=None, grow_policy='lossguide',\n",
            "              importance_type=None, interaction_constraints=None,\n",
            "              learning_rate=0.3719946657555859, max_bin=None,\n",
            "              max_cat_threshold=None, max_cat_to_onehot=None,\n",
            "              max_delta_step=None, max_depth=0, max_leaves=121,\n",
            "              min_child_weight=19.17112087257496, missing=nan,\n",
            "              monotone_constraints=None, n_estimators=36, n_jobs=-1,\n",
            "              num_parallel_tree=None, objective='multi:softprob',\n",
            "              predictor=None, ...)\n",
            "[flaml.automl.logger: 08-29 23:30:22] {1930} INFO - fit succeeded\n",
            "[flaml.automl.logger: 08-29 23:30:22] {1931} INFO - Time taken to find the best model: 41.427462577819824\n"
          ]
        }
      ],
      "source": [
        "from flaml import AutoML\n",
        "automl = AutoML()\n",
        "automl.fit(x_train, y_train, task=\"classification\", time_budget=60)"
      ]
    },
    {
      "cell_type": "code",
      "execution_count": null,
      "metadata": {
        "colab": {
          "base_uri": "https://localhost:8080/"
        },
        "id": "YbjqLCxtSVR3",
        "outputId": "2404d079-2de7-4d58-b90b-0d1cbd4b4d8e"
      },
      "outputs": [
        {
          "data": {
            "text/plain": [
              "<flaml.automl.model.XGBoostSklearnEstimator at 0x7affc1e536d0>"
            ]
          },
          "execution_count": 20,
          "metadata": {},
          "output_type": "execute_result"
        }
      ],
      "source": [
        "automl.model"
      ]
    },
    {
      "cell_type": "code",
      "execution_count": null,
      "metadata": {
        "colab": {
          "base_uri": "https://localhost:8080/"
        },
        "id": "UPA5mJMfUx_i",
        "outputId": "a9937707-a2b4-4123-80d2-b3ea9d62be17"
      },
      "outputs": [
        {
          "data": {
            "text/plain": [
              "0.8492936260529284"
            ]
          },
          "execution_count": 21,
          "metadata": {},
          "output_type": "execute_result"
        }
      ],
      "source": [
        "automl.score(x_train,y_train)"
      ]
    },
    {
      "cell_type": "code",
      "execution_count": null,
      "metadata": {
        "colab": {
          "base_uri": "https://localhost:8080/"
        },
        "id": "xu5m82ApU4pG",
        "outputId": "2f866663-de05-4edf-d39b-fb1f9897e459"
      },
      "outputs": [
        {
          "data": {
            "text/plain": [
              "0.8176608699112579"
            ]
          },
          "execution_count": 22,
          "metadata": {},
          "output_type": "execute_result"
        }
      ],
      "source": [
        "automl.score(x_test,y_test)"
      ]
    },
    {
      "cell_type": "markdown",
      "metadata": {
        "id": "ham4EWpVsXxc"
      },
      "source": [
        "# Dealing with imbalanced data"
      ]
    },
    {
      "cell_type": "code",
      "execution_count": 32,
      "metadata": {
        "id": "i2pMW92YpHGV"
      },
      "outputs": [],
      "source": [
        "df2 = pd.read_csv('/content/heart_2020_cleaned.csv')"
      ]
    },
    {
      "cell_type": "code",
      "execution_count": 33,
      "metadata": {
        "colab": {
          "base_uri": "https://localhost:8080/",
          "height": 443
        },
        "id": "3c2rEnaFpv0J",
        "outputId": "363ac1b9-1e45-41a7-ffb8-457b5a3b4bf5"
      },
      "outputs": [
        {
          "data": {
            "text/html": [
              "\n",
              "  <div id=\"df-b90da298-f480-448d-ba70-d7416be7c2f3\" class=\"colab-df-container\">\n",
              "    <div>\n",
              "<style scoped>\n",
              "    .dataframe tbody tr th:only-of-type {\n",
              "        vertical-align: middle;\n",
              "    }\n",
              "\n",
              "    .dataframe tbody tr th {\n",
              "        vertical-align: top;\n",
              "    }\n",
              "\n",
              "    .dataframe thead th {\n",
              "        text-align: right;\n",
              "    }\n",
              "</style>\n",
              "<table border=\"1\" class=\"dataframe\">\n",
              "  <thead>\n",
              "    <tr style=\"text-align: right;\">\n",
              "      <th></th>\n",
              "      <th>HeartDisease</th>\n",
              "      <th>BMI</th>\n",
              "      <th>Smoking</th>\n",
              "      <th>AlcoholDrinking</th>\n",
              "      <th>Stroke</th>\n",
              "      <th>PhysicalHealth</th>\n",
              "      <th>MentalHealth</th>\n",
              "      <th>DiffWalking</th>\n",
              "      <th>Sex</th>\n",
              "      <th>AgeCategory</th>\n",
              "      <th>Race</th>\n",
              "      <th>Diabetic</th>\n",
              "      <th>PhysicalActivity</th>\n",
              "      <th>GenHealth</th>\n",
              "      <th>SleepTime</th>\n",
              "      <th>Asthma</th>\n",
              "      <th>KidneyDisease</th>\n",
              "      <th>SkinCancer</th>\n",
              "    </tr>\n",
              "  </thead>\n",
              "  <tbody>\n",
              "    <tr>\n",
              "      <th>0</th>\n",
              "      <td>No</td>\n",
              "      <td>16.60</td>\n",
              "      <td>Yes</td>\n",
              "      <td>No</td>\n",
              "      <td>No</td>\n",
              "      <td>3.0</td>\n",
              "      <td>30.0</td>\n",
              "      <td>No</td>\n",
              "      <td>Female</td>\n",
              "      <td>55-59</td>\n",
              "      <td>White</td>\n",
              "      <td>Yes</td>\n",
              "      <td>Yes</td>\n",
              "      <td>Very good</td>\n",
              "      <td>5.0</td>\n",
              "      <td>Yes</td>\n",
              "      <td>No</td>\n",
              "      <td>Yes</td>\n",
              "    </tr>\n",
              "    <tr>\n",
              "      <th>1</th>\n",
              "      <td>No</td>\n",
              "      <td>20.34</td>\n",
              "      <td>No</td>\n",
              "      <td>No</td>\n",
              "      <td>Yes</td>\n",
              "      <td>0.0</td>\n",
              "      <td>0.0</td>\n",
              "      <td>No</td>\n",
              "      <td>Female</td>\n",
              "      <td>80 or older</td>\n",
              "      <td>White</td>\n",
              "      <td>No</td>\n",
              "      <td>Yes</td>\n",
              "      <td>Very good</td>\n",
              "      <td>7.0</td>\n",
              "      <td>No</td>\n",
              "      <td>No</td>\n",
              "      <td>No</td>\n",
              "    </tr>\n",
              "    <tr>\n",
              "      <th>2</th>\n",
              "      <td>No</td>\n",
              "      <td>26.58</td>\n",
              "      <td>Yes</td>\n",
              "      <td>No</td>\n",
              "      <td>No</td>\n",
              "      <td>20.0</td>\n",
              "      <td>30.0</td>\n",
              "      <td>No</td>\n",
              "      <td>Male</td>\n",
              "      <td>65-69</td>\n",
              "      <td>White</td>\n",
              "      <td>Yes</td>\n",
              "      <td>Yes</td>\n",
              "      <td>Fair</td>\n",
              "      <td>8.0</td>\n",
              "      <td>Yes</td>\n",
              "      <td>No</td>\n",
              "      <td>No</td>\n",
              "    </tr>\n",
              "    <tr>\n",
              "      <th>3</th>\n",
              "      <td>No</td>\n",
              "      <td>24.21</td>\n",
              "      <td>No</td>\n",
              "      <td>No</td>\n",
              "      <td>No</td>\n",
              "      <td>0.0</td>\n",
              "      <td>0.0</td>\n",
              "      <td>No</td>\n",
              "      <td>Female</td>\n",
              "      <td>75-79</td>\n",
              "      <td>White</td>\n",
              "      <td>No</td>\n",
              "      <td>No</td>\n",
              "      <td>Good</td>\n",
              "      <td>6.0</td>\n",
              "      <td>No</td>\n",
              "      <td>No</td>\n",
              "      <td>Yes</td>\n",
              "    </tr>\n",
              "    <tr>\n",
              "      <th>4</th>\n",
              "      <td>No</td>\n",
              "      <td>23.71</td>\n",
              "      <td>No</td>\n",
              "      <td>No</td>\n",
              "      <td>No</td>\n",
              "      <td>28.0</td>\n",
              "      <td>0.0</td>\n",
              "      <td>Yes</td>\n",
              "      <td>Female</td>\n",
              "      <td>40-44</td>\n",
              "      <td>White</td>\n",
              "      <td>No</td>\n",
              "      <td>Yes</td>\n",
              "      <td>Very good</td>\n",
              "      <td>8.0</td>\n",
              "      <td>No</td>\n",
              "      <td>No</td>\n",
              "      <td>No</td>\n",
              "    </tr>\n",
              "    <tr>\n",
              "      <th>...</th>\n",
              "      <td>...</td>\n",
              "      <td>...</td>\n",
              "      <td>...</td>\n",
              "      <td>...</td>\n",
              "      <td>...</td>\n",
              "      <td>...</td>\n",
              "      <td>...</td>\n",
              "      <td>...</td>\n",
              "      <td>...</td>\n",
              "      <td>...</td>\n",
              "      <td>...</td>\n",
              "      <td>...</td>\n",
              "      <td>...</td>\n",
              "      <td>...</td>\n",
              "      <td>...</td>\n",
              "      <td>...</td>\n",
              "      <td>...</td>\n",
              "      <td>...</td>\n",
              "    </tr>\n",
              "    <tr>\n",
              "      <th>319790</th>\n",
              "      <td>Yes</td>\n",
              "      <td>27.41</td>\n",
              "      <td>Yes</td>\n",
              "      <td>No</td>\n",
              "      <td>No</td>\n",
              "      <td>7.0</td>\n",
              "      <td>0.0</td>\n",
              "      <td>Yes</td>\n",
              "      <td>Male</td>\n",
              "      <td>60-64</td>\n",
              "      <td>Hispanic</td>\n",
              "      <td>Yes</td>\n",
              "      <td>No</td>\n",
              "      <td>Fair</td>\n",
              "      <td>6.0</td>\n",
              "      <td>Yes</td>\n",
              "      <td>No</td>\n",
              "      <td>No</td>\n",
              "    </tr>\n",
              "    <tr>\n",
              "      <th>319791</th>\n",
              "      <td>No</td>\n",
              "      <td>29.84</td>\n",
              "      <td>Yes</td>\n",
              "      <td>No</td>\n",
              "      <td>No</td>\n",
              "      <td>0.0</td>\n",
              "      <td>0.0</td>\n",
              "      <td>No</td>\n",
              "      <td>Male</td>\n",
              "      <td>35-39</td>\n",
              "      <td>Hispanic</td>\n",
              "      <td>No</td>\n",
              "      <td>Yes</td>\n",
              "      <td>Very good</td>\n",
              "      <td>5.0</td>\n",
              "      <td>Yes</td>\n",
              "      <td>No</td>\n",
              "      <td>No</td>\n",
              "    </tr>\n",
              "    <tr>\n",
              "      <th>319792</th>\n",
              "      <td>No</td>\n",
              "      <td>24.24</td>\n",
              "      <td>No</td>\n",
              "      <td>No</td>\n",
              "      <td>No</td>\n",
              "      <td>0.0</td>\n",
              "      <td>0.0</td>\n",
              "      <td>No</td>\n",
              "      <td>Female</td>\n",
              "      <td>45-49</td>\n",
              "      <td>Hispanic</td>\n",
              "      <td>No</td>\n",
              "      <td>Yes</td>\n",
              "      <td>Good</td>\n",
              "      <td>6.0</td>\n",
              "      <td>No</td>\n",
              "      <td>No</td>\n",
              "      <td>No</td>\n",
              "    </tr>\n",
              "    <tr>\n",
              "      <th>319793</th>\n",
              "      <td>No</td>\n",
              "      <td>32.81</td>\n",
              "      <td>No</td>\n",
              "      <td>No</td>\n",
              "      <td>No</td>\n",
              "      <td>0.0</td>\n",
              "      <td>0.0</td>\n",
              "      <td>No</td>\n",
              "      <td>Female</td>\n",
              "      <td>25-29</td>\n",
              "      <td>Hispanic</td>\n",
              "      <td>No</td>\n",
              "      <td>No</td>\n",
              "      <td>Good</td>\n",
              "      <td>12.0</td>\n",
              "      <td>No</td>\n",
              "      <td>No</td>\n",
              "      <td>No</td>\n",
              "    </tr>\n",
              "    <tr>\n",
              "      <th>319794</th>\n",
              "      <td>No</td>\n",
              "      <td>46.56</td>\n",
              "      <td>No</td>\n",
              "      <td>No</td>\n",
              "      <td>No</td>\n",
              "      <td>0.0</td>\n",
              "      <td>0.0</td>\n",
              "      <td>No</td>\n",
              "      <td>Female</td>\n",
              "      <td>80 or older</td>\n",
              "      <td>Hispanic</td>\n",
              "      <td>No</td>\n",
              "      <td>Yes</td>\n",
              "      <td>Good</td>\n",
              "      <td>8.0</td>\n",
              "      <td>No</td>\n",
              "      <td>No</td>\n",
              "      <td>No</td>\n",
              "    </tr>\n",
              "  </tbody>\n",
              "</table>\n",
              "<p>319795 rows × 18 columns</p>\n",
              "</div>\n",
              "    <div class=\"colab-df-buttons\">\n",
              "\n",
              "  <div class=\"colab-df-container\">\n",
              "    <button class=\"colab-df-convert\" onclick=\"convertToInteractive('df-b90da298-f480-448d-ba70-d7416be7c2f3')\"\n",
              "            title=\"Convert this dataframe to an interactive table.\"\n",
              "            style=\"display:none;\">\n",
              "\n",
              "  <svg xmlns=\"http://www.w3.org/2000/svg\" height=\"24px\" viewBox=\"0 -960 960 960\">\n",
              "    <path d=\"M120-120v-720h720v720H120Zm60-500h600v-160H180v160Zm220 220h160v-160H400v160Zm0 220h160v-160H400v160ZM180-400h160v-160H180v160Zm440 0h160v-160H620v160ZM180-180h160v-160H180v160Zm440 0h160v-160H620v160Z\"/>\n",
              "  </svg>\n",
              "    </button>\n",
              "\n",
              "  <style>\n",
              "    .colab-df-container {\n",
              "      display:flex;\n",
              "      gap: 12px;\n",
              "    }\n",
              "\n",
              "    .colab-df-convert {\n",
              "      background-color: #E8F0FE;\n",
              "      border: none;\n",
              "      border-radius: 50%;\n",
              "      cursor: pointer;\n",
              "      display: none;\n",
              "      fill: #1967D2;\n",
              "      height: 32px;\n",
              "      padding: 0 0 0 0;\n",
              "      width: 32px;\n",
              "    }\n",
              "\n",
              "    .colab-df-convert:hover {\n",
              "      background-color: #E2EBFA;\n",
              "      box-shadow: 0px 1px 2px rgba(60, 64, 67, 0.3), 0px 1px 3px 1px rgba(60, 64, 67, 0.15);\n",
              "      fill: #174EA6;\n",
              "    }\n",
              "\n",
              "    .colab-df-buttons div {\n",
              "      margin-bottom: 4px;\n",
              "    }\n",
              "\n",
              "    [theme=dark] .colab-df-convert {\n",
              "      background-color: #3B4455;\n",
              "      fill: #D2E3FC;\n",
              "    }\n",
              "\n",
              "    [theme=dark] .colab-df-convert:hover {\n",
              "      background-color: #434B5C;\n",
              "      box-shadow: 0px 1px 3px 1px rgba(0, 0, 0, 0.15);\n",
              "      filter: drop-shadow(0px 1px 2px rgba(0, 0, 0, 0.3));\n",
              "      fill: #FFFFFF;\n",
              "    }\n",
              "  </style>\n",
              "\n",
              "    <script>\n",
              "      const buttonEl =\n",
              "        document.querySelector('#df-b90da298-f480-448d-ba70-d7416be7c2f3 button.colab-df-convert');\n",
              "      buttonEl.style.display =\n",
              "        google.colab.kernel.accessAllowed ? 'block' : 'none';\n",
              "\n",
              "      async function convertToInteractive(key) {\n",
              "        const element = document.querySelector('#df-b90da298-f480-448d-ba70-d7416be7c2f3');\n",
              "        const dataTable =\n",
              "          await google.colab.kernel.invokeFunction('convertToInteractive',\n",
              "                                                    [key], {});\n",
              "        if (!dataTable) return;\n",
              "\n",
              "        const docLinkHtml = 'Like what you see? Visit the ' +\n",
              "          '<a target=\"_blank\" href=https://colab.research.google.com/notebooks/data_table.ipynb>data table notebook</a>'\n",
              "          + ' to learn more about interactive tables.';\n",
              "        element.innerHTML = '';\n",
              "        dataTable['output_type'] = 'display_data';\n",
              "        await google.colab.output.renderOutput(dataTable, element);\n",
              "        const docLink = document.createElement('div');\n",
              "        docLink.innerHTML = docLinkHtml;\n",
              "        element.appendChild(docLink);\n",
              "      }\n",
              "    </script>\n",
              "  </div>\n",
              "\n",
              "\n",
              "<div id=\"df-55bb2a7b-ba1c-4582-afad-4540d5804839\">\n",
              "  <button class=\"colab-df-quickchart\" onclick=\"quickchart('df-55bb2a7b-ba1c-4582-afad-4540d5804839')\"\n",
              "            title=\"Suggest charts.\"\n",
              "            style=\"display:none;\">\n",
              "\n",
              "<svg xmlns=\"http://www.w3.org/2000/svg\" height=\"24px\"viewBox=\"0 0 24 24\"\n",
              "     width=\"24px\">\n",
              "    <g>\n",
              "        <path d=\"M19 3H5c-1.1 0-2 .9-2 2v14c0 1.1.9 2 2 2h14c1.1 0 2-.9 2-2V5c0-1.1-.9-2-2-2zM9 17H7v-7h2v7zm4 0h-2V7h2v10zm4 0h-2v-4h2v4z\"/>\n",
              "    </g>\n",
              "</svg>\n",
              "  </button>\n",
              "\n",
              "<style>\n",
              "  .colab-df-quickchart {\n",
              "    background-color: #E8F0FE;\n",
              "    border: none;\n",
              "    border-radius: 50%;\n",
              "    cursor: pointer;\n",
              "    display: none;\n",
              "    fill: #1967D2;\n",
              "    height: 32px;\n",
              "    padding: 0 0 0 0;\n",
              "    width: 32px;\n",
              "  }\n",
              "\n",
              "  .colab-df-quickchart:hover {\n",
              "    background-color: #E2EBFA;\n",
              "    box-shadow: 0px 1px 2px rgba(60, 64, 67, 0.3), 0px 1px 3px 1px rgba(60, 64, 67, 0.15);\n",
              "    fill: #174EA6;\n",
              "  }\n",
              "\n",
              "  [theme=dark] .colab-df-quickchart {\n",
              "    background-color: #3B4455;\n",
              "    fill: #D2E3FC;\n",
              "  }\n",
              "\n",
              "  [theme=dark] .colab-df-quickchart:hover {\n",
              "    background-color: #434B5C;\n",
              "    box-shadow: 0px 1px 3px 1px rgba(0, 0, 0, 0.15);\n",
              "    filter: drop-shadow(0px 1px 2px rgba(0, 0, 0, 0.3));\n",
              "    fill: #FFFFFF;\n",
              "  }\n",
              "</style>\n",
              "\n",
              "  <script>\n",
              "    async function quickchart(key) {\n",
              "      const charts = await google.colab.kernel.invokeFunction(\n",
              "          'suggestCharts', [key], {});\n",
              "    }\n",
              "    (() => {\n",
              "      let quickchartButtonEl =\n",
              "        document.querySelector('#df-55bb2a7b-ba1c-4582-afad-4540d5804839 button');\n",
              "      quickchartButtonEl.style.display =\n",
              "        google.colab.kernel.accessAllowed ? 'block' : 'none';\n",
              "    })();\n",
              "  </script>\n",
              "</div>\n",
              "    </div>\n",
              "  </div>\n"
            ],
            "text/plain": [
              "       HeartDisease    BMI Smoking AlcoholDrinking Stroke  PhysicalHealth  \\\n",
              "0                No  16.60     Yes              No     No             3.0   \n",
              "1                No  20.34      No              No    Yes             0.0   \n",
              "2                No  26.58     Yes              No     No            20.0   \n",
              "3                No  24.21      No              No     No             0.0   \n",
              "4                No  23.71      No              No     No            28.0   \n",
              "...             ...    ...     ...             ...    ...             ...   \n",
              "319790          Yes  27.41     Yes              No     No             7.0   \n",
              "319791           No  29.84     Yes              No     No             0.0   \n",
              "319792           No  24.24      No              No     No             0.0   \n",
              "319793           No  32.81      No              No     No             0.0   \n",
              "319794           No  46.56      No              No     No             0.0   \n",
              "\n",
              "        MentalHealth DiffWalking     Sex  AgeCategory      Race Diabetic  \\\n",
              "0               30.0          No  Female        55-59     White      Yes   \n",
              "1                0.0          No  Female  80 or older     White       No   \n",
              "2               30.0          No    Male        65-69     White      Yes   \n",
              "3                0.0          No  Female        75-79     White       No   \n",
              "4                0.0         Yes  Female        40-44     White       No   \n",
              "...              ...         ...     ...          ...       ...      ...   \n",
              "319790           0.0         Yes    Male        60-64  Hispanic      Yes   \n",
              "319791           0.0          No    Male        35-39  Hispanic       No   \n",
              "319792           0.0          No  Female        45-49  Hispanic       No   \n",
              "319793           0.0          No  Female        25-29  Hispanic       No   \n",
              "319794           0.0          No  Female  80 or older  Hispanic       No   \n",
              "\n",
              "       PhysicalActivity  GenHealth  SleepTime Asthma KidneyDisease SkinCancer  \n",
              "0                   Yes  Very good        5.0    Yes            No        Yes  \n",
              "1                   Yes  Very good        7.0     No            No         No  \n",
              "2                   Yes       Fair        8.0    Yes            No         No  \n",
              "3                    No       Good        6.0     No            No        Yes  \n",
              "4                   Yes  Very good        8.0     No            No         No  \n",
              "...                 ...        ...        ...    ...           ...        ...  \n",
              "319790               No       Fair        6.0    Yes            No         No  \n",
              "319791              Yes  Very good        5.0    Yes            No         No  \n",
              "319792              Yes       Good        6.0     No            No         No  \n",
              "319793               No       Good       12.0     No            No         No  \n",
              "319794              Yes       Good        8.0     No            No         No  \n",
              "\n",
              "[319795 rows x 18 columns]"
            ]
          },
          "execution_count": 33,
          "metadata": {},
          "output_type": "execute_result"
        }
      ],
      "source": [
        "df2"
      ]
    },
    {
      "cell_type": "code",
      "execution_count": null,
      "metadata": {
        "colab": {
          "base_uri": "https://localhost:8080/",
          "height": 145,
          "referenced_widgets": [
            "8c296493e407436384525c7ac262824a",
            "c51cc7863c674a06a4d8f4288356d7c1",
            "06fb9c05e3b14d948fac90a42abbc176",
            "b3e8fd68688a4fd9b3fca9da7a83163e",
            "828a2f98cbd1430789fa27703db1d261",
            "36efaadfa60a45b193c474c1bb854134",
            "417741e9f1db4ff3a6e3c40900dadf5c",
            "80e51b76d66d497495ea806ff4e009bb",
            "84da307f31b54d63b8f30f62036c12a1",
            "a0e594ecd36b46c999dfd0b485357eeb",
            "02c405c7d138421d8fbd13778bc599f9",
            "2299315bebfa432c8ceaaf6f68534e53",
            "f1601d41e04a4d2082e87921b9b2e3d2",
            "3911e72ecf1440a7a9da077722818bf8",
            "7c53c3a3f29f4ea8bb0471ba366c9401",
            "07638bf700b74764971fa6e3d17dc5e7",
            "0f1c5e567d774b7687751867f6e5367c",
            "a81c51b9675f4a878992d68118ca3106",
            "b2696bedbd8d4d0fa1b241cc84c1bbfd",
            "3b48002b84214c2ea20a15e871d6bd3b",
            "0c6d71efa74f480cb7a7085fc468e172",
            "b9c410985e8b4324b96e82389b243f04",
            "e3097b7738ff439f817c1d59c427986a",
            "9bbb355a9678404a99263f1723e89852",
            "c6c55bb2ec2d481ab62a9049087e7937",
            "f061f82059ea414b860230117a264850",
            "858f7f31fbea44eeafbdb978e941b2bd",
            "7bae55e5be2c4e0093e31b8a7ed96314",
            "4e82c04acbaf4a33a3b415c57612497c",
            "5aaca10f679b4f4ca10681d94a948a24",
            "21a726db410d46f7b5fdea476ff4b098",
            "edf7afa1587c4d819fe0633d7d6ceefc",
            "e77960a3ed5247d1b26098c2dafa657c",
            "1aae46a457894822b5f6b3832ca0fc92",
            "148b397a55b54998922b1868170567f9",
            "56fb5cdf16994ad7b535ecd217692687",
            "67691f891d5f4cfb854cd5780795c060",
            "6aeed4e155b44a74a91bb0ac26ff8854",
            "a4702e2d099b4551a34b5e6a8b719c23",
            "769f927a4f3b4bc6af56fe6672499ed5",
            "89be5d00d06d4e42b25087ce3e904969",
            "b3192b7e2b234c43b783355b33d8e09e",
            "af74d2f1405d43c0b0ca6eac76998a17",
            "51ae8e78aa1c489eb0675045aaaf1242"
          ]
        },
        "id": "hV59pzkCtWa_",
        "outputId": "914dbaca-f720-42f2-be98-4f65071d33a6"
      },
      "outputs": [
        {
          "data": {
            "application/vnd.jupyter.widget-view+json": {
              "model_id": "8c296493e407436384525c7ac262824a",
              "version_major": 2,
              "version_minor": 0
            },
            "text/plain": [
              "Summarize dataset:   0%|          | 0/5 [00:00<?, ?it/s]"
            ]
          },
          "metadata": {},
          "output_type": "display_data"
        },
        {
          "data": {
            "application/vnd.jupyter.widget-view+json": {
              "model_id": "2299315bebfa432c8ceaaf6f68534e53",
              "version_major": 2,
              "version_minor": 0
            },
            "text/plain": [
              "Generate report structure:   0%|          | 0/1 [00:00<?, ?it/s]"
            ]
          },
          "metadata": {},
          "output_type": "display_data"
        },
        {
          "data": {
            "application/vnd.jupyter.widget-view+json": {
              "model_id": "e3097b7738ff439f817c1d59c427986a",
              "version_major": 2,
              "version_minor": 0
            },
            "text/plain": [
              "Render HTML:   0%|          | 0/1 [00:00<?, ?it/s]"
            ]
          },
          "metadata": {},
          "output_type": "display_data"
        },
        {
          "data": {
            "application/vnd.jupyter.widget-view+json": {
              "model_id": "1aae46a457894822b5f6b3832ca0fc92",
              "version_major": 2,
              "version_minor": 0
            },
            "text/plain": [
              "Export report to file:   0%|          | 0/1 [00:00<?, ?it/s]"
            ]
          },
          "metadata": {},
          "output_type": "display_data"
        }
      ],
      "source": [
        "profile = ProfileReport(df2,title = 'Imbalanced heart disease')\n",
        "profile.to_file('Heart_disease.html')"
      ]
    },
    {
      "cell_type": "code",
      "execution_count": 36,
      "metadata": {
        "id": "AdDDALbitu7n"
      },
      "outputs": [],
      "source": [
        "x,y = df2.drop('HeartDisease',axis = 1),df2['HeartDisease']"
      ]
    },
    {
      "cell_type": "code",
      "execution_count": 37,
      "metadata": {
        "id": "eS6EHUvHu1tK"
      },
      "outputs": [],
      "source": [
        "x_train,x_test,y_train,y_test = train_test_split(x,y,test_size=0.25,random_state=42)"
      ]
    },
    {
      "cell_type": "code",
      "execution_count": 56,
      "metadata": {
        "colab": {
          "base_uri": "https://localhost:8080/"
        },
        "id": "fXjYVSLIvk2S",
        "outputId": "155ef8c3-c546-4037-c027-1d13084b92f5"
      },
      "outputs": [
        {
          "name": "stdout",
          "output_type": "stream",
          "text": [
            "[flaml.automl.logger: 08-30 00:14:26] {1679} INFO - task = classification\n",
            "[flaml.automl.logger: 08-30 00:14:26] {1690} INFO - Evaluation method: holdout\n",
            "[flaml.automl.logger: 08-30 00:14:26] {1788} INFO - Minimizing error metric: 1-f1\n",
            "[flaml.automl.logger: 08-30 00:14:26] {1900} INFO - List of ML learners in AutoML Run: ['lgbm', 'rf', 'xgboost', 'extra_tree', 'xgb_limitdepth', 'lrl1']\n",
            "[flaml.automl.logger: 08-30 00:14:26] {2218} INFO - iteration 0, current learner lgbm\n",
            "[flaml.automl.logger: 08-30 00:14:26] {2344} INFO - Estimated sufficient time budget=15308s. Estimated necessary time budget=353s.\n",
            "[flaml.automl.logger: 08-30 00:14:26] {2391} INFO -  at 1.9s,\testimator lgbm's best error=1.0000,\tbest estimator lgbm's best error=1.0000\n",
            "[flaml.automl.logger: 08-30 00:14:26] {2218} INFO - iteration 1, current learner lgbm\n",
            "[flaml.automl.logger: 08-30 00:14:26] {2391} INFO -  at 2.0s,\testimator lgbm's best error=1.0000,\tbest estimator lgbm's best error=1.0000\n",
            "[flaml.automl.logger: 08-30 00:14:26] {2218} INFO - iteration 2, current learner lgbm\n",
            "[flaml.automl.logger: 08-30 00:14:26] {2391} INFO -  at 2.0s,\testimator lgbm's best error=1.0000,\tbest estimator lgbm's best error=1.0000\n",
            "[flaml.automl.logger: 08-30 00:14:26] {2218} INFO - iteration 3, current learner xgboost\n",
            "[flaml.automl.logger: 08-30 00:14:26] {2391} INFO -  at 2.1s,\testimator xgboost's best error=1.0000,\tbest estimator lgbm's best error=1.0000\n",
            "[flaml.automl.logger: 08-30 00:14:26] {2218} INFO - iteration 4, current learner lgbm\n",
            "[flaml.automl.logger: 08-30 00:14:26] {2391} INFO -  at 2.2s,\testimator lgbm's best error=0.9658,\tbest estimator lgbm's best error=0.9658\n",
            "[flaml.automl.logger: 08-30 00:14:26] {2218} INFO - iteration 5, current learner xgboost\n"
          ]
        },
        {
          "name": "stderr",
          "output_type": "stream",
          "text": [
            "/usr/local/lib/python3.10/dist-packages/xgboost/sklearn.py:1395: UserWarning: `use_label_encoder` is deprecated in 1.7.0.\n",
            "  warnings.warn(\"`use_label_encoder` is deprecated in 1.7.0.\")\n",
            "/usr/local/lib/python3.10/dist-packages/xgboost/sklearn.py:1395: UserWarning: `use_label_encoder` is deprecated in 1.7.0.\n",
            "  warnings.warn(\"`use_label_encoder` is deprecated in 1.7.0.\")\n"
          ]
        },
        {
          "name": "stdout",
          "output_type": "stream",
          "text": [
            "[flaml.automl.logger: 08-30 00:14:26] {2391} INFO -  at 2.3s,\testimator xgboost's best error=1.0000,\tbest estimator lgbm's best error=0.9658\n",
            "[flaml.automl.logger: 08-30 00:14:26] {2218} INFO - iteration 6, current learner lgbm\n",
            "[flaml.automl.logger: 08-30 00:14:27] {2391} INFO -  at 2.4s,\testimator lgbm's best error=0.9295,\tbest estimator lgbm's best error=0.9295\n",
            "[flaml.automl.logger: 08-30 00:14:27] {2218} INFO - iteration 7, current learner lgbm\n",
            "[flaml.automl.logger: 08-30 00:14:27] {2391} INFO -  at 2.5s,\testimator lgbm's best error=0.9295,\tbest estimator lgbm's best error=0.9295\n",
            "[flaml.automl.logger: 08-30 00:14:27] {2218} INFO - iteration 8, current learner lgbm\n",
            "[flaml.automl.logger: 08-30 00:14:27] {2391} INFO -  at 2.6s,\testimator lgbm's best error=0.9147,\tbest estimator lgbm's best error=0.9147\n",
            "[flaml.automl.logger: 08-30 00:14:27] {2218} INFO - iteration 9, current learner lgbm\n",
            "[flaml.automl.logger: 08-30 00:14:27] {2391} INFO -  at 2.7s,\testimator lgbm's best error=0.9147,\tbest estimator lgbm's best error=0.9147\n",
            "[flaml.automl.logger: 08-30 00:14:27] {2218} INFO - iteration 10, current learner lgbm\n",
            "[flaml.automl.logger: 08-30 00:14:27] {2391} INFO -  at 2.8s,\testimator lgbm's best error=0.8137,\tbest estimator lgbm's best error=0.8137\n",
            "[flaml.automl.logger: 08-30 00:14:27] {2218} INFO - iteration 11, current learner xgboost\n",
            "[flaml.automl.logger: 08-30 00:14:27] {2391} INFO -  at 2.9s,\testimator xgboost's best error=1.0000,\tbest estimator lgbm's best error=0.8137\n",
            "[flaml.automl.logger: 08-30 00:14:27] {2218} INFO - iteration 12, current learner extra_tree\n",
            "[flaml.automl.logger: 08-30 00:14:27] {2391} INFO -  at 3.0s,\testimator extra_tree's best error=1.0000,\tbest estimator lgbm's best error=0.8137\n",
            "[flaml.automl.logger: 08-30 00:14:27] {2218} INFO - iteration 13, current learner xgboost\n"
          ]
        },
        {
          "name": "stderr",
          "output_type": "stream",
          "text": [
            "/usr/local/lib/python3.10/dist-packages/xgboost/sklearn.py:1395: UserWarning: `use_label_encoder` is deprecated in 1.7.0.\n",
            "  warnings.warn(\"`use_label_encoder` is deprecated in 1.7.0.\")\n",
            "/usr/local/lib/python3.10/dist-packages/xgboost/sklearn.py:1395: UserWarning: `use_label_encoder` is deprecated in 1.7.0.\n",
            "  warnings.warn(\"`use_label_encoder` is deprecated in 1.7.0.\")\n"
          ]
        },
        {
          "name": "stdout",
          "output_type": "stream",
          "text": [
            "[flaml.automl.logger: 08-30 00:14:27] {2391} INFO -  at 3.0s,\testimator xgboost's best error=1.0000,\tbest estimator lgbm's best error=0.8137\n",
            "[flaml.automl.logger: 08-30 00:14:27] {2218} INFO - iteration 14, current learner extra_tree\n",
            "[flaml.automl.logger: 08-30 00:14:27] {2391} INFO -  at 3.2s,\testimator extra_tree's best error=0.9971,\tbest estimator lgbm's best error=0.8137\n",
            "[flaml.automl.logger: 08-30 00:14:27] {2218} INFO - iteration 15, current learner rf\n",
            "[flaml.automl.logger: 08-30 00:14:27] {2391} INFO -  at 3.3s,\testimator rf's best error=1.0000,\tbest estimator lgbm's best error=0.8137\n",
            "[flaml.automl.logger: 08-30 00:14:27] {2218} INFO - iteration 16, current learner lgbm\n",
            "[flaml.automl.logger: 08-30 00:14:28] {2391} INFO -  at 3.4s,\testimator lgbm's best error=0.8137,\tbest estimator lgbm's best error=0.8137\n",
            "[flaml.automl.logger: 08-30 00:14:28] {2218} INFO - iteration 17, current learner xgboost\n",
            "[flaml.automl.logger: 08-30 00:14:28] {2391} INFO -  at 3.5s,\testimator xgboost's best error=1.0000,\tbest estimator lgbm's best error=0.8137\n",
            "[flaml.automl.logger: 08-30 00:14:28] {2218} INFO - iteration 18, current learner lgbm\n",
            "[flaml.automl.logger: 08-30 00:14:28] {2391} INFO -  at 3.6s,\testimator lgbm's best error=0.8117,\tbest estimator lgbm's best error=0.8117\n",
            "[flaml.automl.logger: 08-30 00:14:28] {2218} INFO - iteration 19, current learner rf\n"
          ]
        },
        {
          "name": "stderr",
          "output_type": "stream",
          "text": [
            "/usr/local/lib/python3.10/dist-packages/xgboost/sklearn.py:1395: UserWarning: `use_label_encoder` is deprecated in 1.7.0.\n",
            "  warnings.warn(\"`use_label_encoder` is deprecated in 1.7.0.\")\n"
          ]
        },
        {
          "name": "stdout",
          "output_type": "stream",
          "text": [
            "[flaml.automl.logger: 08-30 00:14:28] {2391} INFO -  at 3.7s,\testimator rf's best error=0.9658,\tbest estimator lgbm's best error=0.8117\n",
            "[flaml.automl.logger: 08-30 00:14:28] {2218} INFO - iteration 20, current learner lgbm\n",
            "[flaml.automl.logger: 08-30 00:14:28] {2391} INFO -  at 3.7s,\testimator lgbm's best error=0.8117,\tbest estimator lgbm's best error=0.8117\n",
            "[flaml.automl.logger: 08-30 00:14:28] {2218} INFO - iteration 21, current learner rf\n",
            "[flaml.automl.logger: 08-30 00:14:28] {2391} INFO -  at 3.9s,\testimator rf's best error=0.9658,\tbest estimator lgbm's best error=0.8117\n",
            "[flaml.automl.logger: 08-30 00:14:28] {2218} INFO - iteration 22, current learner lgbm\n",
            "[flaml.automl.logger: 08-30 00:14:28] {2391} INFO -  at 3.9s,\testimator lgbm's best error=0.8117,\tbest estimator lgbm's best error=0.8117\n",
            "[flaml.automl.logger: 08-30 00:14:28] {2218} INFO - iteration 23, current learner lgbm\n",
            "[flaml.automl.logger: 08-30 00:14:28] {2391} INFO -  at 4.0s,\testimator lgbm's best error=0.8117,\tbest estimator lgbm's best error=0.8117\n",
            "[flaml.automl.logger: 08-30 00:14:28] {2218} INFO - iteration 24, current learner xgboost\n",
            "[flaml.automl.logger: 08-30 00:14:28] {2391} INFO -  at 4.2s,\testimator xgboost's best error=1.0000,\tbest estimator lgbm's best error=0.8117\n",
            "[flaml.automl.logger: 08-30 00:14:28] {2218} INFO - iteration 25, current learner xgboost\n"
          ]
        },
        {
          "name": "stderr",
          "output_type": "stream",
          "text": [
            "/usr/local/lib/python3.10/dist-packages/xgboost/sklearn.py:1395: UserWarning: `use_label_encoder` is deprecated in 1.7.0.\n",
            "  warnings.warn(\"`use_label_encoder` is deprecated in 1.7.0.\")\n",
            "/usr/local/lib/python3.10/dist-packages/xgboost/sklearn.py:1395: UserWarning: `use_label_encoder` is deprecated in 1.7.0.\n",
            "  warnings.warn(\"`use_label_encoder` is deprecated in 1.7.0.\")\n"
          ]
        },
        {
          "name": "stdout",
          "output_type": "stream",
          "text": [
            "[flaml.automl.logger: 08-30 00:14:29] {2391} INFO -  at 4.3s,\testimator xgboost's best error=1.0000,\tbest estimator lgbm's best error=0.8117\n",
            "[flaml.automl.logger: 08-30 00:14:29] {2218} INFO - iteration 26, current learner lgbm\n",
            "[flaml.automl.logger: 08-30 00:14:29] {2391} INFO -  at 4.4s,\testimator lgbm's best error=0.8117,\tbest estimator lgbm's best error=0.8117\n",
            "[flaml.automl.logger: 08-30 00:14:29] {2218} INFO - iteration 27, current learner xgboost\n",
            "[flaml.automl.logger: 08-30 00:14:29] {2391} INFO -  at 4.6s,\testimator xgboost's best error=1.0000,\tbest estimator lgbm's best error=0.8117\n",
            "[flaml.automl.logger: 08-30 00:14:29] {2218} INFO - iteration 28, current learner xgboost\n"
          ]
        },
        {
          "name": "stderr",
          "output_type": "stream",
          "text": [
            "/usr/local/lib/python3.10/dist-packages/xgboost/sklearn.py:1395: UserWarning: `use_label_encoder` is deprecated in 1.7.0.\n",
            "  warnings.warn(\"`use_label_encoder` is deprecated in 1.7.0.\")\n",
            "/usr/local/lib/python3.10/dist-packages/xgboost/sklearn.py:1395: UserWarning: `use_label_encoder` is deprecated in 1.7.0.\n",
            "  warnings.warn(\"`use_label_encoder` is deprecated in 1.7.0.\")\n"
          ]
        },
        {
          "name": "stdout",
          "output_type": "stream",
          "text": [
            "[flaml.automl.logger: 08-30 00:14:29] {2391} INFO -  at 4.8s,\testimator xgboost's best error=1.0000,\tbest estimator lgbm's best error=0.8117\n",
            "[flaml.automl.logger: 08-30 00:14:29] {2218} INFO - iteration 29, current learner xgboost\n",
            "[flaml.automl.logger: 08-30 00:14:29] {2391} INFO -  at 4.9s,\testimator xgboost's best error=1.0000,\tbest estimator lgbm's best error=0.8117\n",
            "[flaml.automl.logger: 08-30 00:14:29] {2218} INFO - iteration 30, current learner lgbm\n"
          ]
        },
        {
          "name": "stderr",
          "output_type": "stream",
          "text": [
            "/usr/local/lib/python3.10/dist-packages/xgboost/sklearn.py:1395: UserWarning: `use_label_encoder` is deprecated in 1.7.0.\n",
            "  warnings.warn(\"`use_label_encoder` is deprecated in 1.7.0.\")\n"
          ]
        },
        {
          "name": "stdout",
          "output_type": "stream",
          "text": [
            "[flaml.automl.logger: 08-30 00:14:29] {2391} INFO -  at 5.0s,\testimator lgbm's best error=0.8117,\tbest estimator lgbm's best error=0.8117\n",
            "[flaml.automl.logger: 08-30 00:14:29] {2218} INFO - iteration 31, current learner lgbm\n",
            "[flaml.automl.logger: 08-30 00:14:29] {2391} INFO -  at 5.1s,\testimator lgbm's best error=0.8117,\tbest estimator lgbm's best error=0.8117\n",
            "[flaml.automl.logger: 08-30 00:14:29] {2218} INFO - iteration 32, current learner lgbm\n",
            "[flaml.automl.logger: 08-30 00:14:29] {2391} INFO -  at 5.3s,\testimator lgbm's best error=0.7916,\tbest estimator lgbm's best error=0.7916\n",
            "[flaml.automl.logger: 08-30 00:14:29] {2218} INFO - iteration 33, current learner xgboost\n",
            "[flaml.automl.logger: 08-30 00:14:30] {2391} INFO -  at 5.5s,\testimator xgboost's best error=1.0000,\tbest estimator lgbm's best error=0.7916\n",
            "[flaml.automl.logger: 08-30 00:14:30] {2218} INFO - iteration 34, current learner lgbm\n"
          ]
        },
        {
          "name": "stderr",
          "output_type": "stream",
          "text": [
            "/usr/local/lib/python3.10/dist-packages/xgboost/sklearn.py:1395: UserWarning: `use_label_encoder` is deprecated in 1.7.0.\n",
            "  warnings.warn(\"`use_label_encoder` is deprecated in 1.7.0.\")\n"
          ]
        },
        {
          "name": "stdout",
          "output_type": "stream",
          "text": [
            "[flaml.automl.logger: 08-30 00:14:30] {2391} INFO -  at 5.6s,\testimator lgbm's best error=0.7916,\tbest estimator lgbm's best error=0.7916\n",
            "[flaml.automl.logger: 08-30 00:14:30] {2218} INFO - iteration 35, current learner lgbm\n",
            "[flaml.automl.logger: 08-30 00:14:30] {2391} INFO -  at 5.8s,\testimator lgbm's best error=0.7916,\tbest estimator lgbm's best error=0.7916\n",
            "[flaml.automl.logger: 08-30 00:14:30] {2218} INFO - iteration 36, current learner xgboost\n",
            "[flaml.automl.logger: 08-30 00:14:30] {2391} INFO -  at 5.9s,\testimator xgboost's best error=1.0000,\tbest estimator lgbm's best error=0.7916\n",
            "[flaml.automl.logger: 08-30 00:14:30] {2218} INFO - iteration 37, current learner rf\n"
          ]
        },
        {
          "name": "stderr",
          "output_type": "stream",
          "text": [
            "/usr/local/lib/python3.10/dist-packages/xgboost/sklearn.py:1395: UserWarning: `use_label_encoder` is deprecated in 1.7.0.\n",
            "  warnings.warn(\"`use_label_encoder` is deprecated in 1.7.0.\")\n"
          ]
        },
        {
          "name": "stdout",
          "output_type": "stream",
          "text": [
            "[flaml.automl.logger: 08-30 00:14:30] {2391} INFO -  at 6.1s,\testimator rf's best error=0.9658,\tbest estimator lgbm's best error=0.7916\n",
            "[flaml.automl.logger: 08-30 00:14:30] {2218} INFO - iteration 38, current learner xgboost\n"
          ]
        },
        {
          "name": "stderr",
          "output_type": "stream",
          "text": [
            "/usr/local/lib/python3.10/dist-packages/xgboost/sklearn.py:1395: UserWarning: `use_label_encoder` is deprecated in 1.7.0.\n",
            "  warnings.warn(\"`use_label_encoder` is deprecated in 1.7.0.\")\n"
          ]
        },
        {
          "name": "stdout",
          "output_type": "stream",
          "text": [
            "[flaml.automl.logger: 08-30 00:14:31] {2391} INFO -  at 6.7s,\testimator xgboost's best error=1.0000,\tbest estimator lgbm's best error=0.7916\n",
            "[flaml.automl.logger: 08-30 00:14:31] {2218} INFO - iteration 39, current learner lgbm\n",
            "[flaml.automl.logger: 08-30 00:14:32] {2391} INFO -  at 7.7s,\testimator lgbm's best error=0.7916,\tbest estimator lgbm's best error=0.7916\n",
            "[flaml.automl.logger: 08-30 00:14:32] {2218} INFO - iteration 40, current learner lgbm\n",
            "[flaml.automl.logger: 08-30 00:14:34] {2391} INFO -  at 9.7s,\testimator lgbm's best error=0.7916,\tbest estimator lgbm's best error=0.7916\n",
            "[flaml.automl.logger: 08-30 00:14:34] {2218} INFO - iteration 41, current learner xgboost\n"
          ]
        },
        {
          "name": "stderr",
          "output_type": "stream",
          "text": [
            "/usr/local/lib/python3.10/dist-packages/xgboost/sklearn.py:1395: UserWarning: `use_label_encoder` is deprecated in 1.7.0.\n",
            "  warnings.warn(\"`use_label_encoder` is deprecated in 1.7.0.\")\n"
          ]
        },
        {
          "name": "stdout",
          "output_type": "stream",
          "text": [
            "[flaml.automl.logger: 08-30 00:14:34] {2391} INFO -  at 10.3s,\testimator xgboost's best error=1.0000,\tbest estimator lgbm's best error=0.7916\n",
            "[flaml.automl.logger: 08-30 00:14:34] {2218} INFO - iteration 42, current learner lgbm\n",
            "[flaml.automl.logger: 08-30 00:14:35] {2391} INFO -  at 10.9s,\testimator lgbm's best error=0.7916,\tbest estimator lgbm's best error=0.7916\n",
            "[flaml.automl.logger: 08-30 00:14:35] {2218} INFO - iteration 43, current learner xgboost\n"
          ]
        },
        {
          "name": "stderr",
          "output_type": "stream",
          "text": [
            "/usr/local/lib/python3.10/dist-packages/xgboost/sklearn.py:1395: UserWarning: `use_label_encoder` is deprecated in 1.7.0.\n",
            "  warnings.warn(\"`use_label_encoder` is deprecated in 1.7.0.\")\n"
          ]
        },
        {
          "name": "stdout",
          "output_type": "stream",
          "text": [
            "[flaml.automl.logger: 08-30 00:14:36] {2391} INFO -  at 11.5s,\testimator xgboost's best error=1.0000,\tbest estimator lgbm's best error=0.7916\n",
            "[flaml.automl.logger: 08-30 00:14:36] {2218} INFO - iteration 44, current learner extra_tree\n",
            "[flaml.automl.logger: 08-30 00:14:36] {2391} INFO -  at 11.6s,\testimator extra_tree's best error=0.9971,\tbest estimator lgbm's best error=0.7916\n",
            "[flaml.automl.logger: 08-30 00:14:36] {2218} INFO - iteration 45, current learner xgboost\n"
          ]
        },
        {
          "name": "stderr",
          "output_type": "stream",
          "text": [
            "/usr/local/lib/python3.10/dist-packages/xgboost/sklearn.py:1395: UserWarning: `use_label_encoder` is deprecated in 1.7.0.\n",
            "  warnings.warn(\"`use_label_encoder` is deprecated in 1.7.0.\")\n"
          ]
        },
        {
          "name": "stdout",
          "output_type": "stream",
          "text": [
            "[flaml.automl.logger: 08-30 00:14:36] {2391} INFO -  at 12.1s,\testimator xgboost's best error=1.0000,\tbest estimator lgbm's best error=0.7916\n",
            "[flaml.automl.logger: 08-30 00:14:36] {2218} INFO - iteration 46, current learner lgbm\n",
            "[flaml.automl.logger: 08-30 00:14:37] {2391} INFO -  at 12.7s,\testimator lgbm's best error=0.7916,\tbest estimator lgbm's best error=0.7916\n",
            "[flaml.automl.logger: 08-30 00:14:37] {2218} INFO - iteration 47, current learner xgboost\n"
          ]
        },
        {
          "name": "stderr",
          "output_type": "stream",
          "text": [
            "/usr/local/lib/python3.10/dist-packages/xgboost/sklearn.py:1395: UserWarning: `use_label_encoder` is deprecated in 1.7.0.\n",
            "  warnings.warn(\"`use_label_encoder` is deprecated in 1.7.0.\")\n"
          ]
        },
        {
          "name": "stdout",
          "output_type": "stream",
          "text": [
            "[flaml.automl.logger: 08-30 00:14:37] {2391} INFO -  at 13.3s,\testimator xgboost's best error=1.0000,\tbest estimator lgbm's best error=0.7916\n",
            "[flaml.automl.logger: 08-30 00:14:37] {2218} INFO - iteration 48, current learner lgbm\n",
            "[flaml.automl.logger: 08-30 00:14:38] {2391} INFO -  at 13.9s,\testimator lgbm's best error=0.7916,\tbest estimator lgbm's best error=0.7916\n",
            "[flaml.automl.logger: 08-30 00:14:38] {2218} INFO - iteration 49, current learner rf\n",
            "[flaml.automl.logger: 08-30 00:14:38] {2391} INFO -  at 14.0s,\testimator rf's best error=0.9386,\tbest estimator lgbm's best error=0.7916\n",
            "[flaml.automl.logger: 08-30 00:14:38] {2218} INFO - iteration 50, current learner xgboost\n"
          ]
        },
        {
          "name": "stderr",
          "output_type": "stream",
          "text": [
            "/usr/local/lib/python3.10/dist-packages/xgboost/sklearn.py:1395: UserWarning: `use_label_encoder` is deprecated in 1.7.0.\n",
            "  warnings.warn(\"`use_label_encoder` is deprecated in 1.7.0.\")\n"
          ]
        },
        {
          "name": "stdout",
          "output_type": "stream",
          "text": [
            "[flaml.automl.logger: 08-30 00:14:39] {2391} INFO -  at 14.5s,\testimator xgboost's best error=1.0000,\tbest estimator lgbm's best error=0.7916\n",
            "[flaml.automl.logger: 08-30 00:14:39] {2218} INFO - iteration 51, current learner rf\n",
            "[flaml.automl.logger: 08-30 00:14:39] {2391} INFO -  at 14.7s,\testimator rf's best error=0.9386,\tbest estimator lgbm's best error=0.7916\n",
            "[flaml.automl.logger: 08-30 00:14:39] {2218} INFO - iteration 52, current learner xgb_limitdepth\n",
            "[flaml.automl.logger: 08-30 00:14:39] {2391} INFO -  at 14.9s,\testimator xgb_limitdepth's best error=0.9129,\tbest estimator lgbm's best error=0.7916\n",
            "[flaml.automl.logger: 08-30 00:14:39] {2218} INFO - iteration 53, current learner xgb_limitdepth\n"
          ]
        },
        {
          "name": "stderr",
          "output_type": "stream",
          "text": [
            "/usr/local/lib/python3.10/dist-packages/xgboost/sklearn.py:1395: UserWarning: `use_label_encoder` is deprecated in 1.7.0.\n",
            "  warnings.warn(\"`use_label_encoder` is deprecated in 1.7.0.\")\n",
            "/usr/local/lib/python3.10/dist-packages/xgboost/sklearn.py:1395: UserWarning: `use_label_encoder` is deprecated in 1.7.0.\n",
            "  warnings.warn(\"`use_label_encoder` is deprecated in 1.7.0.\")\n"
          ]
        },
        {
          "name": "stdout",
          "output_type": "stream",
          "text": [
            "[flaml.automl.logger: 08-30 00:14:39] {2391} INFO -  at 15.1s,\testimator xgb_limitdepth's best error=0.9129,\tbest estimator lgbm's best error=0.7916\n",
            "[flaml.automl.logger: 08-30 00:14:39] {2218} INFO - iteration 54, current learner xgb_limitdepth\n",
            "[flaml.automl.logger: 08-30 00:14:39] {2391} INFO -  at 15.3s,\testimator xgb_limitdepth's best error=0.8120,\tbest estimator lgbm's best error=0.7916\n",
            "[flaml.automl.logger: 08-30 00:14:39] {2218} INFO - iteration 55, current learner lgbm\n"
          ]
        },
        {
          "name": "stderr",
          "output_type": "stream",
          "text": [
            "/usr/local/lib/python3.10/dist-packages/xgboost/sklearn.py:1395: UserWarning: `use_label_encoder` is deprecated in 1.7.0.\n",
            "  warnings.warn(\"`use_label_encoder` is deprecated in 1.7.0.\")\n"
          ]
        },
        {
          "name": "stdout",
          "output_type": "stream",
          "text": [
            "[flaml.automl.logger: 08-30 00:14:40] {2391} INFO -  at 15.8s,\testimator lgbm's best error=0.7916,\tbest estimator lgbm's best error=0.7916\n",
            "[flaml.automl.logger: 08-30 00:14:40] {2218} INFO - iteration 56, current learner xgb_limitdepth\n",
            "[flaml.automl.logger: 08-30 00:14:40] {2391} INFO -  at 16.0s,\testimator xgb_limitdepth's best error=0.7930,\tbest estimator lgbm's best error=0.7916\n",
            "[flaml.automl.logger: 08-30 00:14:40] {2218} INFO - iteration 57, current learner xgb_limitdepth\n"
          ]
        },
        {
          "name": "stderr",
          "output_type": "stream",
          "text": [
            "/usr/local/lib/python3.10/dist-packages/xgboost/sklearn.py:1395: UserWarning: `use_label_encoder` is deprecated in 1.7.0.\n",
            "  warnings.warn(\"`use_label_encoder` is deprecated in 1.7.0.\")\n",
            "/usr/local/lib/python3.10/dist-packages/xgboost/sklearn.py:1395: UserWarning: `use_label_encoder` is deprecated in 1.7.0.\n",
            "  warnings.warn(\"`use_label_encoder` is deprecated in 1.7.0.\")\n"
          ]
        },
        {
          "name": "stdout",
          "output_type": "stream",
          "text": [
            "[flaml.automl.logger: 08-30 00:14:40] {2391} INFO -  at 16.2s,\testimator xgb_limitdepth's best error=0.7930,\tbest estimator lgbm's best error=0.7916\n",
            "[flaml.automl.logger: 08-30 00:14:40] {2218} INFO - iteration 58, current learner xgb_limitdepth\n",
            "[flaml.automl.logger: 08-30 00:14:40] {2391} INFO -  at 16.3s,\testimator xgb_limitdepth's best error=0.7930,\tbest estimator lgbm's best error=0.7916\n",
            "[flaml.automl.logger: 08-30 00:14:40] {2218} INFO - iteration 59, current learner xgb_limitdepth\n"
          ]
        },
        {
          "name": "stderr",
          "output_type": "stream",
          "text": [
            "/usr/local/lib/python3.10/dist-packages/xgboost/sklearn.py:1395: UserWarning: `use_label_encoder` is deprecated in 1.7.0.\n",
            "  warnings.warn(\"`use_label_encoder` is deprecated in 1.7.0.\")\n",
            "/usr/local/lib/python3.10/dist-packages/xgboost/sklearn.py:1395: UserWarning: `use_label_encoder` is deprecated in 1.7.0.\n",
            "  warnings.warn(\"`use_label_encoder` is deprecated in 1.7.0.\")\n"
          ]
        },
        {
          "name": "stdout",
          "output_type": "stream",
          "text": [
            "[flaml.automl.logger: 08-30 00:14:41] {2391} INFO -  at 16.7s,\testimator xgb_limitdepth's best error=0.7860,\tbest estimator xgb_limitdepth's best error=0.7860\n",
            "[flaml.automl.logger: 08-30 00:14:41] {2218} INFO - iteration 60, current learner lgbm\n",
            "[flaml.automl.logger: 08-30 00:14:41] {2391} INFO -  at 17.3s,\testimator lgbm's best error=0.7916,\tbest estimator xgb_limitdepth's best error=0.7860\n",
            "[flaml.automl.logger: 08-30 00:14:41] {2218} INFO - iteration 61, current learner xgb_limitdepth\n"
          ]
        },
        {
          "name": "stderr",
          "output_type": "stream",
          "text": [
            "/usr/local/lib/python3.10/dist-packages/xgboost/sklearn.py:1395: UserWarning: `use_label_encoder` is deprecated in 1.7.0.\n",
            "  warnings.warn(\"`use_label_encoder` is deprecated in 1.7.0.\")\n"
          ]
        },
        {
          "name": "stdout",
          "output_type": "stream",
          "text": [
            "[flaml.automl.logger: 08-30 00:14:42] {2391} INFO -  at 17.7s,\testimator xgb_limitdepth's best error=0.7860,\tbest estimator xgb_limitdepth's best error=0.7860\n",
            "[flaml.automl.logger: 08-30 00:14:42] {2218} INFO - iteration 62, current learner rf\n",
            "[flaml.automl.logger: 08-30 00:14:42] {2391} INFO -  at 17.9s,\testimator rf's best error=0.9386,\tbest estimator xgb_limitdepth's best error=0.7860\n",
            "[flaml.automl.logger: 08-30 00:14:42] {2218} INFO - iteration 63, current learner xgb_limitdepth\n"
          ]
        },
        {
          "name": "stderr",
          "output_type": "stream",
          "text": [
            "/usr/local/lib/python3.10/dist-packages/xgboost/sklearn.py:1395: UserWarning: `use_label_encoder` is deprecated in 1.7.0.\n",
            "  warnings.warn(\"`use_label_encoder` is deprecated in 1.7.0.\")\n"
          ]
        },
        {
          "name": "stdout",
          "output_type": "stream",
          "text": [
            "[flaml.automl.logger: 08-30 00:14:42] {2391} INFO -  at 18.1s,\testimator xgb_limitdepth's best error=0.7860,\tbest estimator xgb_limitdepth's best error=0.7860\n",
            "[flaml.automl.logger: 08-30 00:14:42] {2218} INFO - iteration 64, current learner xgb_limitdepth\n"
          ]
        },
        {
          "name": "stderr",
          "output_type": "stream",
          "text": [
            "/usr/local/lib/python3.10/dist-packages/xgboost/sklearn.py:1395: UserWarning: `use_label_encoder` is deprecated in 1.7.0.\n",
            "  warnings.warn(\"`use_label_encoder` is deprecated in 1.7.0.\")\n"
          ]
        },
        {
          "name": "stdout",
          "output_type": "stream",
          "text": [
            "[flaml.automl.logger: 08-30 00:14:43] {2391} INFO -  at 18.6s,\testimator xgb_limitdepth's best error=0.7813,\tbest estimator xgb_limitdepth's best error=0.7813\n",
            "[flaml.automl.logger: 08-30 00:14:43] {2218} INFO - iteration 65, current learner lgbm\n",
            "[flaml.automl.logger: 08-30 00:14:43] {2391} INFO -  at 19.1s,\testimator lgbm's best error=0.7916,\tbest estimator xgb_limitdepth's best error=0.7813\n",
            "[flaml.automl.logger: 08-30 00:14:43] {2218} INFO - iteration 66, current learner xgb_limitdepth\n"
          ]
        },
        {
          "name": "stderr",
          "output_type": "stream",
          "text": [
            "/usr/local/lib/python3.10/dist-packages/xgboost/sklearn.py:1395: UserWarning: `use_label_encoder` is deprecated in 1.7.0.\n",
            "  warnings.warn(\"`use_label_encoder` is deprecated in 1.7.0.\")\n"
          ]
        },
        {
          "name": "stdout",
          "output_type": "stream",
          "text": [
            "[flaml.automl.logger: 08-30 00:14:44] {2391} INFO -  at 19.5s,\testimator xgb_limitdepth's best error=0.7813,\tbest estimator xgb_limitdepth's best error=0.7813\n",
            "[flaml.automl.logger: 08-30 00:14:44] {2218} INFO - iteration 67, current learner xgb_limitdepth\n"
          ]
        },
        {
          "name": "stderr",
          "output_type": "stream",
          "text": [
            "/usr/local/lib/python3.10/dist-packages/xgboost/sklearn.py:1395: UserWarning: `use_label_encoder` is deprecated in 1.7.0.\n",
            "  warnings.warn(\"`use_label_encoder` is deprecated in 1.7.0.\")\n"
          ]
        },
        {
          "name": "stdout",
          "output_type": "stream",
          "text": [
            "[flaml.automl.logger: 08-30 00:14:44] {2391} INFO -  at 19.8s,\testimator xgb_limitdepth's best error=0.7802,\tbest estimator xgb_limitdepth's best error=0.7802\n",
            "[flaml.automl.logger: 08-30 00:14:44] {2218} INFO - iteration 68, current learner xgb_limitdepth\n"
          ]
        },
        {
          "name": "stderr",
          "output_type": "stream",
          "text": [
            "/usr/local/lib/python3.10/dist-packages/xgboost/sklearn.py:1395: UserWarning: `use_label_encoder` is deprecated in 1.7.0.\n",
            "  warnings.warn(\"`use_label_encoder` is deprecated in 1.7.0.\")\n"
          ]
        },
        {
          "name": "stdout",
          "output_type": "stream",
          "text": [
            "[flaml.automl.logger: 08-30 00:14:46] {2391} INFO -  at 22.1s,\testimator xgb_limitdepth's best error=0.7802,\tbest estimator xgb_limitdepth's best error=0.7802\n",
            "[flaml.automl.logger: 08-30 00:14:46] {2218} INFO - iteration 69, current learner lgbm\n",
            "[flaml.automl.logger: 08-30 00:14:47] {2391} INFO -  at 23.1s,\testimator lgbm's best error=0.7916,\tbest estimator xgb_limitdepth's best error=0.7802\n",
            "[flaml.automl.logger: 08-30 00:14:47] {2218} INFO - iteration 70, current learner xgb_limitdepth\n"
          ]
        },
        {
          "name": "stderr",
          "output_type": "stream",
          "text": [
            "/usr/local/lib/python3.10/dist-packages/xgboost/sklearn.py:1395: UserWarning: `use_label_encoder` is deprecated in 1.7.0.\n",
            "  warnings.warn(\"`use_label_encoder` is deprecated in 1.7.0.\")\n"
          ]
        },
        {
          "name": "stdout",
          "output_type": "stream",
          "text": [
            "[flaml.automl.logger: 08-30 00:14:48] {2391} INFO -  at 23.9s,\testimator xgb_limitdepth's best error=0.7802,\tbest estimator xgb_limitdepth's best error=0.7802\n",
            "[flaml.automl.logger: 08-30 00:14:48] {2218} INFO - iteration 71, current learner xgb_limitdepth\n"
          ]
        },
        {
          "name": "stderr",
          "output_type": "stream",
          "text": [
            "/usr/local/lib/python3.10/dist-packages/xgboost/sklearn.py:1395: UserWarning: `use_label_encoder` is deprecated in 1.7.0.\n",
            "  warnings.warn(\"`use_label_encoder` is deprecated in 1.7.0.\")\n"
          ]
        },
        {
          "name": "stdout",
          "output_type": "stream",
          "text": [
            "[flaml.automl.logger: 08-30 00:14:49] {2391} INFO -  at 24.3s,\testimator xgb_limitdepth's best error=0.7802,\tbest estimator xgb_limitdepth's best error=0.7802\n",
            "[flaml.automl.logger: 08-30 00:14:49] {2218} INFO - iteration 72, current learner xgb_limitdepth\n"
          ]
        },
        {
          "name": "stderr",
          "output_type": "stream",
          "text": [
            "/usr/local/lib/python3.10/dist-packages/xgboost/sklearn.py:1395: UserWarning: `use_label_encoder` is deprecated in 1.7.0.\n",
            "  warnings.warn(\"`use_label_encoder` is deprecated in 1.7.0.\")\n"
          ]
        },
        {
          "name": "stdout",
          "output_type": "stream",
          "text": [
            "[flaml.automl.logger: 08-30 00:14:50] {2391} INFO -  at 26.0s,\testimator xgb_limitdepth's best error=0.7802,\tbest estimator xgb_limitdepth's best error=0.7802\n",
            "[flaml.automl.logger: 08-30 00:14:50] {2218} INFO - iteration 73, current learner xgb_limitdepth\n"
          ]
        },
        {
          "name": "stderr",
          "output_type": "stream",
          "text": [
            "/usr/local/lib/python3.10/dist-packages/xgboost/sklearn.py:1395: UserWarning: `use_label_encoder` is deprecated in 1.7.0.\n",
            "  warnings.warn(\"`use_label_encoder` is deprecated in 1.7.0.\")\n"
          ]
        },
        {
          "name": "stdout",
          "output_type": "stream",
          "text": [
            "[flaml.automl.logger: 08-30 00:14:54] {2391} INFO -  at 30.2s,\testimator xgb_limitdepth's best error=0.7802,\tbest estimator xgb_limitdepth's best error=0.7802\n",
            "[flaml.automl.logger: 08-30 00:14:54] {2218} INFO - iteration 74, current learner xgboost\n"
          ]
        },
        {
          "name": "stderr",
          "output_type": "stream",
          "text": [
            "/usr/local/lib/python3.10/dist-packages/xgboost/sklearn.py:1395: UserWarning: `use_label_encoder` is deprecated in 1.7.0.\n",
            "  warnings.warn(\"`use_label_encoder` is deprecated in 1.7.0.\")\n"
          ]
        },
        {
          "name": "stdout",
          "output_type": "stream",
          "text": [
            "[flaml.automl.logger: 08-30 00:14:55] {2391} INFO -  at 30.8s,\testimator xgboost's best error=1.0000,\tbest estimator xgb_limitdepth's best error=0.7802\n",
            "[flaml.automl.logger: 08-30 00:14:55] {2218} INFO - iteration 75, current learner xgb_limitdepth\n"
          ]
        },
        {
          "name": "stderr",
          "output_type": "stream",
          "text": [
            "/usr/local/lib/python3.10/dist-packages/xgboost/sklearn.py:1395: UserWarning: `use_label_encoder` is deprecated in 1.7.0.\n",
            "  warnings.warn(\"`use_label_encoder` is deprecated in 1.7.0.\")\n"
          ]
        },
        {
          "name": "stdout",
          "output_type": "stream",
          "text": [
            "[flaml.automl.logger: 08-30 00:14:57] {2391} INFO -  at 33.2s,\testimator xgb_limitdepth's best error=0.7802,\tbest estimator xgb_limitdepth's best error=0.7802\n",
            "[flaml.automl.logger: 08-30 00:14:57] {2218} INFO - iteration 76, current learner lgbm\n",
            "[flaml.automl.logger: 08-30 00:15:00] {2391} INFO -  at 35.4s,\testimator lgbm's best error=0.7916,\tbest estimator xgb_limitdepth's best error=0.7802\n",
            "[flaml.automl.logger: 08-30 00:15:00] {2218} INFO - iteration 77, current learner lgbm\n",
            "[flaml.automl.logger: 08-30 00:15:00] {2391} INFO -  at 36.3s,\testimator lgbm's best error=0.7916,\tbest estimator xgb_limitdepth's best error=0.7802\n",
            "[flaml.automl.logger: 08-30 00:15:00] {2218} INFO - iteration 78, current learner extra_tree\n",
            "[flaml.automl.logger: 08-30 00:15:01] {2391} INFO -  at 36.4s,\testimator extra_tree's best error=0.9971,\tbest estimator xgb_limitdepth's best error=0.7802\n",
            "[flaml.automl.logger: 08-30 00:15:01] {2218} INFO - iteration 79, current learner rf\n",
            "[flaml.automl.logger: 08-30 00:15:01] {2391} INFO -  at 36.6s,\testimator rf's best error=0.9386,\tbest estimator xgb_limitdepth's best error=0.7802\n",
            "[flaml.automl.logger: 08-30 00:15:01] {2218} INFO - iteration 80, current learner lgbm\n",
            "[flaml.automl.logger: 08-30 00:15:01] {2391} INFO -  at 37.2s,\testimator lgbm's best error=0.7916,\tbest estimator xgb_limitdepth's best error=0.7802\n",
            "[flaml.automl.logger: 08-30 00:15:01] {2218} INFO - iteration 81, current learner xgb_limitdepth\n"
          ]
        },
        {
          "name": "stderr",
          "output_type": "stream",
          "text": [
            "/usr/local/lib/python3.10/dist-packages/xgboost/sklearn.py:1395: UserWarning: `use_label_encoder` is deprecated in 1.7.0.\n",
            "  warnings.warn(\"`use_label_encoder` is deprecated in 1.7.0.\")\n"
          ]
        },
        {
          "name": "stdout",
          "output_type": "stream",
          "text": [
            "[flaml.automl.logger: 08-30 00:15:09] {2391} INFO -  at 44.3s,\testimator xgb_limitdepth's best error=0.7802,\tbest estimator xgb_limitdepth's best error=0.7802\n",
            "[flaml.automl.logger: 08-30 00:15:09] {2218} INFO - iteration 82, current learner rf\n",
            "[flaml.automl.logger: 08-30 00:15:09] {2391} INFO -  at 44.5s,\testimator rf's best error=0.9386,\tbest estimator xgb_limitdepth's best error=0.7802\n",
            "[flaml.automl.logger: 08-30 00:15:09] {2218} INFO - iteration 83, current learner xgboost\n"
          ]
        },
        {
          "name": "stderr",
          "output_type": "stream",
          "text": [
            "/usr/local/lib/python3.10/dist-packages/xgboost/sklearn.py:1395: UserWarning: `use_label_encoder` is deprecated in 1.7.0.\n",
            "  warnings.warn(\"`use_label_encoder` is deprecated in 1.7.0.\")\n"
          ]
        },
        {
          "name": "stdout",
          "output_type": "stream",
          "text": [
            "[flaml.automl.logger: 08-30 00:15:09] {2391} INFO -  at 45.1s,\testimator xgboost's best error=1.0000,\tbest estimator xgb_limitdepth's best error=0.7802\n",
            "[flaml.automl.logger: 08-30 00:15:09] {2218} INFO - iteration 84, current learner xgboost\n"
          ]
        },
        {
          "name": "stderr",
          "output_type": "stream",
          "text": [
            "/usr/local/lib/python3.10/dist-packages/xgboost/sklearn.py:1395: UserWarning: `use_label_encoder` is deprecated in 1.7.0.\n",
            "  warnings.warn(\"`use_label_encoder` is deprecated in 1.7.0.\")\n"
          ]
        },
        {
          "name": "stdout",
          "output_type": "stream",
          "text": [
            "[flaml.automl.logger: 08-30 00:15:10] {2391} INFO -  at 45.7s,\testimator xgboost's best error=1.0000,\tbest estimator xgb_limitdepth's best error=0.7802\n",
            "[flaml.automl.logger: 08-30 00:15:10] {2218} INFO - iteration 85, current learner xgb_limitdepth\n"
          ]
        },
        {
          "name": "stderr",
          "output_type": "stream",
          "text": [
            "/usr/local/lib/python3.10/dist-packages/xgboost/sklearn.py:1395: UserWarning: `use_label_encoder` is deprecated in 1.7.0.\n",
            "  warnings.warn(\"`use_label_encoder` is deprecated in 1.7.0.\")\n"
          ]
        },
        {
          "name": "stdout",
          "output_type": "stream",
          "text": [
            "[flaml.automl.logger: 08-30 00:15:14] {2391} INFO -  at 49.6s,\testimator xgb_limitdepth's best error=0.7802,\tbest estimator xgb_limitdepth's best error=0.7802\n",
            "[flaml.automl.logger: 08-30 00:15:14] {2218} INFO - iteration 86, current learner xgboost\n"
          ]
        },
        {
          "name": "stderr",
          "output_type": "stream",
          "text": [
            "/usr/local/lib/python3.10/dist-packages/xgboost/sklearn.py:1395: UserWarning: `use_label_encoder` is deprecated in 1.7.0.\n",
            "  warnings.warn(\"`use_label_encoder` is deprecated in 1.7.0.\")\n"
          ]
        },
        {
          "name": "stdout",
          "output_type": "stream",
          "text": [
            "[flaml.automl.logger: 08-30 00:15:14] {2391} INFO -  at 50.1s,\testimator xgboost's best error=1.0000,\tbest estimator xgb_limitdepth's best error=0.7802\n",
            "[flaml.automl.logger: 08-30 00:15:14] {2218} INFO - iteration 87, current learner xgboost\n"
          ]
        },
        {
          "name": "stderr",
          "output_type": "stream",
          "text": [
            "/usr/local/lib/python3.10/dist-packages/xgboost/sklearn.py:1395: UserWarning: `use_label_encoder` is deprecated in 1.7.0.\n",
            "  warnings.warn(\"`use_label_encoder` is deprecated in 1.7.0.\")\n"
          ]
        },
        {
          "name": "stdout",
          "output_type": "stream",
          "text": [
            "[flaml.automl.logger: 08-30 00:15:15] {2391} INFO -  at 50.8s,\testimator xgboost's best error=0.9675,\tbest estimator xgb_limitdepth's best error=0.7802\n",
            "[flaml.automl.logger: 08-30 00:15:15] {2218} INFO - iteration 88, current learner lrl1\n"
          ]
        },
        {
          "name": "stderr",
          "output_type": "stream",
          "text": [
            "INFO:flaml.tune.searcher.blendsearch:No low-cost partial config given to the search algorithm. For cost-frugal search, consider providing low-cost values for cost-related hps via 'low_cost_partial_config'. More info can be found at https://microsoft.github.io/FLAML/docs/FAQ#about-low_cost_partial_config-in-tune\n"
          ]
        },
        {
          "name": "stdout",
          "output_type": "stream",
          "text": [
            "[flaml.automl.logger: 08-30 00:15:15] {2391} INFO -  at 51.3s,\testimator lrl1's best error=0.8737,\tbest estimator xgb_limitdepth's best error=0.7802\n",
            "[flaml.automl.logger: 08-30 00:15:15] {2218} INFO - iteration 89, current learner lrl1\n"
          ]
        },
        {
          "name": "stderr",
          "output_type": "stream",
          "text": [
            "/usr/local/lib/python3.10/dist-packages/sklearn/linear_model/_sag.py:350: ConvergenceWarning: The max_iter was reached which means the coef_ did not converge\n",
            "  warnings.warn(\n"
          ]
        },
        {
          "name": "stdout",
          "output_type": "stream",
          "text": [
            "[flaml.automl.logger: 08-30 00:15:16] {2391} INFO -  at 51.8s,\testimator lrl1's best error=0.8737,\tbest estimator xgb_limitdepth's best error=0.7802\n",
            "[flaml.automl.logger: 08-30 00:15:16] {2218} INFO - iteration 90, current learner lrl1\n"
          ]
        },
        {
          "name": "stderr",
          "output_type": "stream",
          "text": [
            "/usr/local/lib/python3.10/dist-packages/sklearn/linear_model/_sag.py:350: ConvergenceWarning: The max_iter was reached which means the coef_ did not converge\n",
            "  warnings.warn(\n"
          ]
        },
        {
          "name": "stdout",
          "output_type": "stream",
          "text": [
            "[flaml.automl.logger: 08-30 00:15:17] {2391} INFO -  at 52.4s,\testimator lrl1's best error=0.8723,\tbest estimator xgb_limitdepth's best error=0.7802\n",
            "[flaml.automl.logger: 08-30 00:15:17] {2218} INFO - iteration 91, current learner xgb_limitdepth\n"
          ]
        },
        {
          "name": "stderr",
          "output_type": "stream",
          "text": [
            "/usr/local/lib/python3.10/dist-packages/sklearn/linear_model/_sag.py:350: ConvergenceWarning: The max_iter was reached which means the coef_ did not converge\n",
            "  warnings.warn(\n",
            "/usr/local/lib/python3.10/dist-packages/xgboost/sklearn.py:1395: UserWarning: `use_label_encoder` is deprecated in 1.7.0.\n",
            "  warnings.warn(\"`use_label_encoder` is deprecated in 1.7.0.\")\n"
          ]
        },
        {
          "name": "stdout",
          "output_type": "stream",
          "text": [
            "[flaml.automl.logger: 08-30 00:15:28] {2391} INFO -  at 63.8s,\testimator xgb_limitdepth's best error=0.7802,\tbest estimator xgb_limitdepth's best error=0.7802\n",
            "[flaml.automl.logger: 08-30 00:15:28] {2218} INFO - iteration 92, current learner rf\n",
            "[flaml.automl.logger: 08-30 00:15:28] {2391} INFO -  at 64.1s,\testimator rf's best error=0.9386,\tbest estimator xgb_limitdepth's best error=0.7802\n",
            "[flaml.automl.logger: 08-30 00:15:28] {2218} INFO - iteration 93, current learner xgb_limitdepth\n"
          ]
        },
        {
          "name": "stderr",
          "output_type": "stream",
          "text": [
            "/usr/local/lib/python3.10/dist-packages/xgboost/sklearn.py:1395: UserWarning: `use_label_encoder` is deprecated in 1.7.0.\n",
            "  warnings.warn(\"`use_label_encoder` is deprecated in 1.7.0.\")\n"
          ]
        },
        {
          "name": "stdout",
          "output_type": "stream",
          "text": [
            "[flaml.automl.logger: 08-30 00:15:29] {2391} INFO -  at 65.3s,\testimator xgb_limitdepth's best error=0.7802,\tbest estimator xgb_limitdepth's best error=0.7802\n",
            "[flaml.automl.logger: 08-30 00:15:29] {2218} INFO - iteration 94, current learner rf\n",
            "[flaml.automl.logger: 08-30 00:15:30] {2391} INFO -  at 65.8s,\testimator rf's best error=0.9188,\tbest estimator xgb_limitdepth's best error=0.7802\n",
            "[flaml.automl.logger: 08-30 00:15:30] {2218} INFO - iteration 95, current learner rf\n",
            "[flaml.automl.logger: 08-30 00:15:30] {2391} INFO -  at 66.1s,\testimator rf's best error=0.9188,\tbest estimator xgb_limitdepth's best error=0.7802\n",
            "[flaml.automl.logger: 08-30 00:15:30] {2218} INFO - iteration 96, current learner lgbm\n",
            "[flaml.automl.logger: 08-30 00:15:31] {2391} INFO -  at 66.6s,\testimator lgbm's best error=0.7916,\tbest estimator xgb_limitdepth's best error=0.7802\n",
            "[flaml.automl.logger: 08-30 00:15:31] {2218} INFO - iteration 97, current learner xgb_limitdepth\n"
          ]
        },
        {
          "name": "stderr",
          "output_type": "stream",
          "text": [
            "/usr/local/lib/python3.10/dist-packages/xgboost/sklearn.py:1395: UserWarning: `use_label_encoder` is deprecated in 1.7.0.\n",
            "  warnings.warn(\"`use_label_encoder` is deprecated in 1.7.0.\")\n"
          ]
        },
        {
          "name": "stdout",
          "output_type": "stream",
          "text": [
            "[flaml.automl.logger: 08-30 00:15:46] {2391} INFO -  at 81.8s,\testimator xgb_limitdepth's best error=0.7802,\tbest estimator xgb_limitdepth's best error=0.7802\n",
            "[flaml.automl.logger: 08-30 00:15:46] {2218} INFO - iteration 98, current learner rf\n",
            "[flaml.automl.logger: 08-30 00:15:46] {2391} INFO -  at 82.3s,\testimator rf's best error=0.9188,\tbest estimator xgb_limitdepth's best error=0.7802\n",
            "[flaml.automl.logger: 08-30 00:15:46] {2218} INFO - iteration 99, current learner rf\n",
            "[flaml.automl.logger: 08-30 00:15:47] {2391} INFO -  at 82.6s,\testimator rf's best error=0.9048,\tbest estimator xgb_limitdepth's best error=0.7802\n",
            "[flaml.automl.logger: 08-30 00:15:47] {2218} INFO - iteration 100, current learner rf\n",
            "[flaml.automl.logger: 08-30 00:15:47] {2391} INFO -  at 83.0s,\testimator rf's best error=0.9048,\tbest estimator xgb_limitdepth's best error=0.7802\n",
            "[flaml.automl.logger: 08-30 00:15:47] {2218} INFO - iteration 101, current learner lgbm\n",
            "[flaml.automl.logger: 08-30 00:15:48] {2391} INFO -  at 83.7s,\testimator lgbm's best error=0.7916,\tbest estimator xgb_limitdepth's best error=0.7802\n",
            "[flaml.automl.logger: 08-30 00:15:48] {2218} INFO - iteration 102, current learner xgb_limitdepth\n"
          ]
        },
        {
          "name": "stderr",
          "output_type": "stream",
          "text": [
            "/usr/local/lib/python3.10/dist-packages/xgboost/sklearn.py:1395: UserWarning: `use_label_encoder` is deprecated in 1.7.0.\n",
            "  warnings.warn(\"`use_label_encoder` is deprecated in 1.7.0.\")\n"
          ]
        },
        {
          "name": "stdout",
          "output_type": "stream",
          "text": [
            "[flaml.automl.logger: 08-30 00:15:52] {2391} INFO -  at 88.2s,\testimator xgb_limitdepth's best error=0.7802,\tbest estimator xgb_limitdepth's best error=0.7802\n",
            "[flaml.automl.logger: 08-30 00:15:52] {2218} INFO - iteration 103, current learner rf\n",
            "[flaml.automl.logger: 08-30 00:15:53] {2391} INFO -  at 88.8s,\testimator rf's best error=0.8346,\tbest estimator xgb_limitdepth's best error=0.7802\n",
            "[flaml.automl.logger: 08-30 00:15:53] {2218} INFO - iteration 104, current learner lgbm\n",
            "[flaml.automl.logger: 08-30 00:15:54] {2391} INFO -  at 89.7s,\testimator lgbm's best error=0.7916,\tbest estimator xgb_limitdepth's best error=0.7802\n",
            "[flaml.automl.logger: 08-30 00:15:54] {2218} INFO - iteration 105, current learner rf\n",
            "[flaml.automl.logger: 08-30 00:15:54] {2391} INFO -  at 90.1s,\testimator rf's best error=0.8346,\tbest estimator xgb_limitdepth's best error=0.7802\n",
            "[flaml.automl.logger: 08-30 00:15:54] {2218} INFO - iteration 106, current learner rf\n",
            "[flaml.automl.logger: 08-30 00:15:54] {2391} INFO -  at 90.3s,\testimator rf's best error=0.8346,\tbest estimator xgb_limitdepth's best error=0.7802\n",
            "[flaml.automl.logger: 08-30 00:15:54] {2218} INFO - iteration 107, current learner rf\n",
            "[flaml.automl.logger: 08-30 00:15:55] {2391} INFO -  at 91.0s,\testimator rf's best error=0.8346,\tbest estimator xgb_limitdepth's best error=0.7802\n",
            "[flaml.automl.logger: 08-30 00:15:55] {2218} INFO - iteration 108, current learner xgboost\n"
          ]
        },
        {
          "name": "stderr",
          "output_type": "stream",
          "text": [
            "/usr/local/lib/python3.10/dist-packages/xgboost/sklearn.py:1395: UserWarning: `use_label_encoder` is deprecated in 1.7.0.\n",
            "  warnings.warn(\"`use_label_encoder` is deprecated in 1.7.0.\")\n"
          ]
        },
        {
          "name": "stdout",
          "output_type": "stream",
          "text": [
            "[flaml.automl.logger: 08-30 00:15:56] {2391} INFO -  at 91.6s,\testimator xgboost's best error=0.9675,\tbest estimator xgb_limitdepth's best error=0.7802\n",
            "[flaml.automl.logger: 08-30 00:15:56] {2218} INFO - iteration 109, current learner rf\n",
            "[flaml.automl.logger: 08-30 00:15:56] {2391} INFO -  at 92.0s,\testimator rf's best error=0.8111,\tbest estimator xgb_limitdepth's best error=0.7802\n",
            "[flaml.automl.logger: 08-30 00:15:56] {2218} INFO - iteration 110, current learner extra_tree\n",
            "[flaml.automl.logger: 08-30 00:15:56] {2391} INFO -  at 92.1s,\testimator extra_tree's best error=0.9677,\tbest estimator xgb_limitdepth's best error=0.7802\n",
            "[flaml.automl.logger: 08-30 00:15:56] {2218} INFO - iteration 111, current learner extra_tree\n",
            "[flaml.automl.logger: 08-30 00:15:56] {2391} INFO -  at 92.3s,\testimator extra_tree's best error=0.9677,\tbest estimator xgb_limitdepth's best error=0.7802\n",
            "[flaml.automl.logger: 08-30 00:15:56] {2218} INFO - iteration 112, current learner lgbm\n",
            "[flaml.automl.logger: 08-30 00:15:57] {2391} INFO -  at 92.8s,\testimator lgbm's best error=0.7916,\tbest estimator xgb_limitdepth's best error=0.7802\n",
            "[flaml.automl.logger: 08-30 00:15:57] {2218} INFO - iteration 113, current learner extra_tree\n",
            "[flaml.automl.logger: 08-30 00:15:57] {2391} INFO -  at 92.9s,\testimator extra_tree's best error=0.9677,\tbest estimator xgb_limitdepth's best error=0.7802\n",
            "[flaml.automl.logger: 08-30 00:15:57] {2218} INFO - iteration 114, current learner extra_tree\n",
            "[flaml.automl.logger: 08-30 00:15:57] {2391} INFO -  at 93.1s,\testimator extra_tree's best error=0.9677,\tbest estimator xgb_limitdepth's best error=0.7802\n",
            "[flaml.automl.logger: 08-30 00:15:57] {2218} INFO - iteration 115, current learner lrl1\n",
            "[flaml.automl.logger: 08-30 00:15:58] {2391} INFO -  at 93.6s,\testimator lrl1's best error=0.8723,\tbest estimator xgb_limitdepth's best error=0.7802\n",
            "[flaml.automl.logger: 08-30 00:15:58] {2218} INFO - iteration 116, current learner rf\n"
          ]
        },
        {
          "name": "stderr",
          "output_type": "stream",
          "text": [
            "/usr/local/lib/python3.10/dist-packages/sklearn/linear_model/_sag.py:350: ConvergenceWarning: The max_iter was reached which means the coef_ did not converge\n",
            "  warnings.warn(\n"
          ]
        },
        {
          "name": "stdout",
          "output_type": "stream",
          "text": [
            "[flaml.automl.logger: 08-30 00:15:58] {2391} INFO -  at 93.9s,\testimator rf's best error=0.8111,\tbest estimator xgb_limitdepth's best error=0.7802\n",
            "[flaml.automl.logger: 08-30 00:15:58] {2218} INFO - iteration 117, current learner lgbm\n",
            "[flaml.automl.logger: 08-30 00:15:59] {2391} INFO -  at 94.7s,\testimator lgbm's best error=0.7916,\tbest estimator xgb_limitdepth's best error=0.7802\n",
            "[flaml.automl.logger: 08-30 00:15:59] {2218} INFO - iteration 118, current learner extra_tree\n",
            "[flaml.automl.logger: 08-30 00:15:59] {2391} INFO -  at 94.9s,\testimator extra_tree's best error=0.9620,\tbest estimator xgb_limitdepth's best error=0.7802\n",
            "[flaml.automl.logger: 08-30 00:15:59] {2218} INFO - iteration 119, current learner rf\n",
            "[flaml.automl.logger: 08-30 00:16:00] {2391} INFO -  at 95.7s,\testimator rf's best error=0.8111,\tbest estimator xgb_limitdepth's best error=0.7802\n",
            "[flaml.automl.logger: 08-30 00:16:00] {2218} INFO - iteration 120, current learner lgbm\n",
            "[flaml.automl.logger: 08-30 00:16:00] {2391} INFO -  at 96.2s,\testimator lgbm's best error=0.7916,\tbest estimator xgb_limitdepth's best error=0.7802\n",
            "[flaml.automl.logger: 08-30 00:16:00] {2218} INFO - iteration 121, current learner rf\n",
            "[flaml.automl.logger: 08-30 00:16:01] {2391} INFO -  at 96.6s,\testimator rf's best error=0.7972,\tbest estimator xgb_limitdepth's best error=0.7802\n",
            "[flaml.automl.logger: 08-30 00:16:01] {2218} INFO - iteration 122, current learner rf\n",
            "[flaml.automl.logger: 08-30 00:16:02] {2391} INFO -  at 97.4s,\testimator rf's best error=0.7972,\tbest estimator xgb_limitdepth's best error=0.7802\n",
            "[flaml.automl.logger: 08-30 00:16:02] {2218} INFO - iteration 123, current learner xgb_limitdepth\n"
          ]
        },
        {
          "name": "stderr",
          "output_type": "stream",
          "text": [
            "/usr/local/lib/python3.10/dist-packages/xgboost/sklearn.py:1395: UserWarning: `use_label_encoder` is deprecated in 1.7.0.\n",
            "  warnings.warn(\"`use_label_encoder` is deprecated in 1.7.0.\")\n"
          ]
        },
        {
          "name": "stdout",
          "output_type": "stream",
          "text": [
            "[flaml.automl.logger: 08-30 00:16:09] {2391} INFO -  at 104.9s,\testimator xgb_limitdepth's best error=0.7802,\tbest estimator xgb_limitdepth's best error=0.7802\n",
            "[flaml.automl.logger: 08-30 00:16:09] {2218} INFO - iteration 124, current learner rf\n",
            "[flaml.automl.logger: 08-30 00:16:09] {2391} INFO -  at 105.3s,\testimator rf's best error=0.7972,\tbest estimator xgb_limitdepth's best error=0.7802\n",
            "[flaml.automl.logger: 08-30 00:16:09] {2218} INFO - iteration 125, current learner lgbm\n",
            "[flaml.automl.logger: 08-30 00:16:10] {2391} INFO -  at 105.9s,\testimator lgbm's best error=0.7916,\tbest estimator xgb_limitdepth's best error=0.7802\n",
            "[flaml.automl.logger: 08-30 00:16:10] {2218} INFO - iteration 126, current learner lgbm\n",
            "[flaml.automl.logger: 08-30 00:16:11] {2391} INFO -  at 106.5s,\testimator lgbm's best error=0.7916,\tbest estimator xgb_limitdepth's best error=0.7802\n",
            "[flaml.automl.logger: 08-30 00:16:11] {2218} INFO - iteration 127, current learner lgbm\n",
            "[flaml.automl.logger: 08-30 00:16:11] {2391} INFO -  at 107.2s,\testimator lgbm's best error=0.7916,\tbest estimator xgb_limitdepth's best error=0.7802\n",
            "[flaml.automl.logger: 08-30 00:16:11] {2218} INFO - iteration 128, current learner lgbm\n",
            "[flaml.automl.logger: 08-30 00:16:12] {2391} INFO -  at 107.7s,\testimator lgbm's best error=0.7916,\tbest estimator xgb_limitdepth's best error=0.7802\n",
            "[flaml.automl.logger: 08-30 00:16:12] {2218} INFO - iteration 129, current learner rf\n",
            "[flaml.automl.logger: 08-30 00:16:12] {2391} INFO -  at 108.1s,\testimator rf's best error=0.7972,\tbest estimator xgb_limitdepth's best error=0.7802\n",
            "[flaml.automl.logger: 08-30 00:16:12] {2218} INFO - iteration 130, current learner extra_tree\n",
            "[flaml.automl.logger: 08-30 00:16:13] {2391} INFO -  at 108.4s,\testimator extra_tree's best error=0.9620,\tbest estimator xgb_limitdepth's best error=0.7802\n",
            "[flaml.automl.logger: 08-30 00:16:13] {2218} INFO - iteration 131, current learner rf\n",
            "[flaml.automl.logger: 08-30 00:16:14] {2391} INFO -  at 110.1s,\testimator rf's best error=0.7972,\tbest estimator xgb_limitdepth's best error=0.7802\n",
            "[flaml.automl.logger: 08-30 00:16:14] {2218} INFO - iteration 132, current learner rf\n",
            "[flaml.automl.logger: 08-30 00:16:19] {2391} INFO -  at 114.4s,\testimator rf's best error=0.7972,\tbest estimator xgb_limitdepth's best error=0.7802\n",
            "[flaml.automl.logger: 08-30 00:16:19] {2218} INFO - iteration 133, current learner extra_tree\n",
            "[flaml.automl.logger: 08-30 00:16:19] {2391} INFO -  at 114.7s,\testimator extra_tree's best error=0.9620,\tbest estimator xgb_limitdepth's best error=0.7802\n",
            "[flaml.automl.logger: 08-30 00:16:19] {2218} INFO - iteration 134, current learner lgbm\n",
            "[flaml.automl.logger: 08-30 00:16:21] {2391} INFO -  at 116.4s,\testimator lgbm's best error=0.7916,\tbest estimator xgb_limitdepth's best error=0.7802\n",
            "[flaml.automl.logger: 08-30 00:16:21] {2218} INFO - iteration 135, current learner lgbm\n",
            "[flaml.automl.logger: 08-30 00:16:21] {2391} INFO -  at 117.2s,\testimator lgbm's best error=0.7916,\tbest estimator xgb_limitdepth's best error=0.7802\n",
            "[flaml.automl.logger: 08-30 00:16:21] {2218} INFO - iteration 136, current learner rf\n",
            "[flaml.automl.logger: 08-30 00:16:24] {2391} INFO -  at 119.7s,\testimator rf's best error=0.7972,\tbest estimator xgb_limitdepth's best error=0.7802\n",
            "[flaml.automl.logger: 08-30 00:16:24] {2218} INFO - iteration 137, current learner lrl1\n",
            "[flaml.automl.logger: 08-30 00:16:24] {2391} INFO -  at 120.2s,\testimator lrl1's best error=0.8715,\tbest estimator xgb_limitdepth's best error=0.7802\n",
            "[flaml.automl.logger: 08-30 00:16:24] {2218} INFO - iteration 138, current learner rf\n"
          ]
        },
        {
          "name": "stderr",
          "output_type": "stream",
          "text": [
            "/usr/local/lib/python3.10/dist-packages/sklearn/linear_model/_sag.py:350: ConvergenceWarning: The max_iter was reached which means the coef_ did not converge\n",
            "  warnings.warn(\n"
          ]
        },
        {
          "name": "stdout",
          "output_type": "stream",
          "text": [
            "[flaml.automl.logger: 08-30 00:16:27] {2391} INFO -  at 122.6s,\testimator rf's best error=0.7972,\tbest estimator xgb_limitdepth's best error=0.7802\n",
            "[flaml.automl.logger: 08-30 00:16:27] {2218} INFO - iteration 139, current learner lgbm\n",
            "[flaml.automl.logger: 08-30 00:16:27] {2391} INFO -  at 123.2s,\testimator lgbm's best error=0.7916,\tbest estimator xgb_limitdepth's best error=0.7802\n",
            "[flaml.automl.logger: 08-30 00:16:27] {2218} INFO - iteration 140, current learner extra_tree\n",
            "[flaml.automl.logger: 08-30 00:16:28] {2391} INFO -  at 123.4s,\testimator extra_tree's best error=0.9620,\tbest estimator xgb_limitdepth's best error=0.7802\n",
            "[flaml.automl.logger: 08-30 00:16:28] {2218} INFO - iteration 141, current learner lgbm\n",
            "[flaml.automl.logger: 08-30 00:16:28] {2391} INFO -  at 123.9s,\testimator lgbm's best error=0.7916,\tbest estimator xgb_limitdepth's best error=0.7802\n",
            "[flaml.automl.logger: 08-30 00:16:28] {2218} INFO - iteration 142, current learner extra_tree\n",
            "[flaml.automl.logger: 08-30 00:16:29] {2391} INFO -  at 124.6s,\testimator extra_tree's best error=0.9620,\tbest estimator xgb_limitdepth's best error=0.7802\n",
            "[flaml.automl.logger: 08-30 00:16:29] {2218} INFO - iteration 143, current learner rf\n",
            "[flaml.automl.logger: 08-30 00:16:31] {2391} INFO -  at 126.6s,\testimator rf's best error=0.7972,\tbest estimator xgb_limitdepth's best error=0.7802\n",
            "[flaml.automl.logger: 08-30 00:16:31] {2218} INFO - iteration 144, current learner xgb_limitdepth\n"
          ]
        },
        {
          "name": "stderr",
          "output_type": "stream",
          "text": [
            "/usr/local/lib/python3.10/dist-packages/xgboost/sklearn.py:1395: UserWarning: `use_label_encoder` is deprecated in 1.7.0.\n",
            "  warnings.warn(\"`use_label_encoder` is deprecated in 1.7.0.\")\n"
          ]
        },
        {
          "name": "stdout",
          "output_type": "stream",
          "text": [
            "[flaml.automl.logger: 08-30 00:16:35] {2391} INFO -  at 131.2s,\testimator xgb_limitdepth's best error=0.7802,\tbest estimator xgb_limitdepth's best error=0.7802\n",
            "[flaml.automl.logger: 08-30 00:16:35] {2218} INFO - iteration 145, current learner extra_tree\n",
            "[flaml.automl.logger: 08-30 00:16:36] {2391} INFO -  at 132.0s,\testimator extra_tree's best error=0.9620,\tbest estimator xgb_limitdepth's best error=0.7802\n",
            "[flaml.automl.logger: 08-30 00:16:36] {2218} INFO - iteration 146, current learner rf\n",
            "[flaml.automl.logger: 08-30 00:16:42] {2391} INFO -  at 138.3s,\testimator rf's best error=0.7972,\tbest estimator xgb_limitdepth's best error=0.7802\n",
            "[flaml.automl.logger: 08-30 00:16:42] {2218} INFO - iteration 147, current learner lgbm\n",
            "[flaml.automl.logger: 08-30 00:16:43] {2391} INFO -  at 138.8s,\testimator lgbm's best error=0.7916,\tbest estimator xgb_limitdepth's best error=0.7802\n",
            "[flaml.automl.logger: 08-30 00:16:43] {2218} INFO - iteration 148, current learner lgbm\n",
            "[flaml.automl.logger: 08-30 00:16:44] {2391} INFO -  at 139.6s,\testimator lgbm's best error=0.7916,\tbest estimator xgb_limitdepth's best error=0.7802\n",
            "[flaml.automl.logger: 08-30 00:16:44] {2218} INFO - iteration 149, current learner lgbm\n",
            "[flaml.automl.logger: 08-30 00:16:46] {2391} INFO -  at 141.9s,\testimator lgbm's best error=0.7916,\tbest estimator xgb_limitdepth's best error=0.7802\n",
            "[flaml.automl.logger: 08-30 00:16:46] {2218} INFO - iteration 150, current learner lgbm\n",
            "[flaml.automl.logger: 08-30 00:16:48] {2391} INFO -  at 144.2s,\testimator lgbm's best error=0.7916,\tbest estimator xgb_limitdepth's best error=0.7802\n",
            "[flaml.automl.logger: 08-30 00:16:48] {2218} INFO - iteration 151, current learner lgbm\n",
            "[flaml.automl.logger: 08-30 00:16:50] {2391} INFO -  at 145.6s,\testimator lgbm's best error=0.7916,\tbest estimator xgb_limitdepth's best error=0.7802\n",
            "[flaml.automl.logger: 08-30 00:16:50] {2218} INFO - iteration 152, current learner lgbm\n",
            "[flaml.automl.logger: 08-30 00:16:51] {2391} INFO -  at 146.9s,\testimator lgbm's best error=0.7916,\tbest estimator xgb_limitdepth's best error=0.7802\n",
            "[flaml.automl.logger: 08-30 00:16:51] {2218} INFO - iteration 153, current learner extra_tree\n",
            "[flaml.automl.logger: 08-30 00:16:53] {2391} INFO -  at 148.5s,\testimator extra_tree's best error=0.9620,\tbest estimator xgb_limitdepth's best error=0.7802\n",
            "[flaml.automl.logger: 08-30 00:16:53] {2218} INFO - iteration 154, current learner rf\n",
            "[flaml.automl.logger: 08-30 00:16:54] {2391} INFO -  at 150.2s,\testimator rf's best error=0.7972,\tbest estimator xgb_limitdepth's best error=0.7802\n",
            "[flaml.automl.logger: 08-30 00:16:54] {2218} INFO - iteration 155, current learner lgbm\n",
            "[flaml.automl.logger: 08-30 00:16:55] {2391} INFO -  at 151.1s,\testimator lgbm's best error=0.7916,\tbest estimator xgb_limitdepth's best error=0.7802\n",
            "[flaml.automl.logger: 08-30 00:16:55] {2218} INFO - iteration 156, current learner lgbm\n",
            "[flaml.automl.logger: 08-30 00:16:56] {2391} INFO -  at 151.6s,\testimator lgbm's best error=0.7916,\tbest estimator xgb_limitdepth's best error=0.7802\n",
            "[flaml.automl.logger: 08-30 00:16:56] {2218} INFO - iteration 157, current learner lrl1\n",
            "[flaml.automl.logger: 08-30 00:16:56] {2391} INFO -  at 152.2s,\testimator lrl1's best error=0.8715,\tbest estimator xgb_limitdepth's best error=0.7802\n",
            "[flaml.automl.logger: 08-30 00:16:56] {2218} INFO - iteration 158, current learner rf\n"
          ]
        },
        {
          "name": "stderr",
          "output_type": "stream",
          "text": [
            "/usr/local/lib/python3.10/dist-packages/sklearn/linear_model/_sag.py:350: ConvergenceWarning: The max_iter was reached which means the coef_ did not converge\n",
            "  warnings.warn(\n"
          ]
        },
        {
          "name": "stdout",
          "output_type": "stream",
          "text": [
            "[flaml.automl.logger: 08-30 00:17:00] {2391} INFO -  at 155.8s,\testimator rf's best error=0.7972,\tbest estimator xgb_limitdepth's best error=0.7802\n",
            "[flaml.automl.logger: 08-30 00:17:00] {2218} INFO - iteration 159, current learner lgbm\n",
            "[flaml.automl.logger: 08-30 00:17:02] {2391} INFO -  at 158.0s,\testimator lgbm's best error=0.7916,\tbest estimator xgb_limitdepth's best error=0.7802\n",
            "[flaml.automl.logger: 08-30 00:17:02] {2218} INFO - iteration 160, current learner lgbm\n",
            "[flaml.automl.logger: 08-30 00:17:03] {2391} INFO -  at 158.5s,\testimator lgbm's best error=0.7916,\tbest estimator xgb_limitdepth's best error=0.7802\n",
            "[flaml.automl.logger: 08-30 00:17:03] {2218} INFO - iteration 161, current learner extra_tree\n",
            "[flaml.automl.logger: 08-30 00:17:04] {2391} INFO -  at 159.5s,\testimator extra_tree's best error=0.9490,\tbest estimator xgb_limitdepth's best error=0.7802\n",
            "[flaml.automl.logger: 08-30 00:17:04] {2218} INFO - iteration 162, current learner lgbm\n",
            "[flaml.automl.logger: 08-30 00:17:04] {2391} INFO -  at 160.1s,\testimator lgbm's best error=0.7916,\tbest estimator xgb_limitdepth's best error=0.7802\n",
            "[flaml.automl.logger: 08-30 00:17:04] {2218} INFO - iteration 163, current learner xgboost\n"
          ]
        },
        {
          "name": "stderr",
          "output_type": "stream",
          "text": [
            "/usr/local/lib/python3.10/dist-packages/xgboost/sklearn.py:1395: UserWarning: `use_label_encoder` is deprecated in 1.7.0.\n",
            "  warnings.warn(\"`use_label_encoder` is deprecated in 1.7.0.\")\n"
          ]
        },
        {
          "name": "stdout",
          "output_type": "stream",
          "text": [
            "[flaml.automl.logger: 08-30 00:17:05] {2391} INFO -  at 160.8s,\testimator xgboost's best error=0.9287,\tbest estimator xgb_limitdepth's best error=0.7802\n",
            "[flaml.automl.logger: 08-30 00:17:05] {2218} INFO - iteration 164, current learner xgb_limitdepth\n"
          ]
        },
        {
          "name": "stderr",
          "output_type": "stream",
          "text": [
            "/usr/local/lib/python3.10/dist-packages/xgboost/sklearn.py:1395: UserWarning: `use_label_encoder` is deprecated in 1.7.0.\n",
            "  warnings.warn(\"`use_label_encoder` is deprecated in 1.7.0.\")\n"
          ]
        },
        {
          "name": "stdout",
          "output_type": "stream",
          "text": [
            "[flaml.automl.logger: 08-30 00:17:11] {2391} INFO -  at 167.1s,\testimator xgb_limitdepth's best error=0.7802,\tbest estimator xgb_limitdepth's best error=0.7802\n",
            "[flaml.automl.logger: 08-30 00:17:11] {2218} INFO - iteration 165, current learner xgboost\n"
          ]
        },
        {
          "name": "stderr",
          "output_type": "stream",
          "text": [
            "/usr/local/lib/python3.10/dist-packages/xgboost/sklearn.py:1395: UserWarning: `use_label_encoder` is deprecated in 1.7.0.\n",
            "  warnings.warn(\"`use_label_encoder` is deprecated in 1.7.0.\")\n"
          ]
        },
        {
          "name": "stdout",
          "output_type": "stream",
          "text": [
            "[flaml.automl.logger: 08-30 00:17:12] {2391} INFO -  at 167.8s,\testimator xgboost's best error=0.9139,\tbest estimator xgb_limitdepth's best error=0.7802\n",
            "[flaml.automl.logger: 08-30 00:17:12] {2218} INFO - iteration 166, current learner rf\n",
            "[flaml.automl.logger: 08-30 00:17:16] {2391} INFO -  at 172.1s,\testimator rf's best error=0.7972,\tbest estimator xgb_limitdepth's best error=0.7802\n",
            "[flaml.automl.logger: 08-30 00:17:16] {2218} INFO - iteration 167, current learner xgboost\n"
          ]
        },
        {
          "name": "stderr",
          "output_type": "stream",
          "text": [
            "/usr/local/lib/python3.10/dist-packages/xgboost/sklearn.py:1395: UserWarning: `use_label_encoder` is deprecated in 1.7.0.\n",
            "  warnings.warn(\"`use_label_encoder` is deprecated in 1.7.0.\")\n"
          ]
        },
        {
          "name": "stdout",
          "output_type": "stream",
          "text": [
            "[flaml.automl.logger: 08-30 00:17:17] {2391} INFO -  at 172.8s,\testimator xgboost's best error=0.9139,\tbest estimator xgb_limitdepth's best error=0.7802\n",
            "[flaml.automl.logger: 08-30 00:17:17] {2218} INFO - iteration 168, current learner xgboost\n"
          ]
        },
        {
          "name": "stderr",
          "output_type": "stream",
          "text": [
            "/usr/local/lib/python3.10/dist-packages/xgboost/sklearn.py:1395: UserWarning: `use_label_encoder` is deprecated in 1.7.0.\n",
            "  warnings.warn(\"`use_label_encoder` is deprecated in 1.7.0.\")\n"
          ]
        },
        {
          "name": "stdout",
          "output_type": "stream",
          "text": [
            "[flaml.automl.logger: 08-30 00:17:18] {2391} INFO -  at 173.4s,\testimator xgboost's best error=0.8947,\tbest estimator xgb_limitdepth's best error=0.7802\n",
            "[flaml.automl.logger: 08-30 00:17:18] {2218} INFO - iteration 169, current learner extra_tree\n",
            "[flaml.automl.logger: 08-30 00:17:19] {2391} INFO -  at 174.8s,\testimator extra_tree's best error=0.9490,\tbest estimator xgb_limitdepth's best error=0.7802\n",
            "[flaml.automl.logger: 08-30 00:17:19] {2218} INFO - iteration 170, current learner lgbm\n",
            "[flaml.automl.logger: 08-30 00:17:20] {2391} INFO -  at 175.4s,\testimator lgbm's best error=0.7916,\tbest estimator xgb_limitdepth's best error=0.7802\n",
            "[flaml.automl.logger: 08-30 00:17:20] {2218} INFO - iteration 171, current learner lgbm\n",
            "[flaml.automl.logger: 08-30 00:17:20] {2391} INFO -  at 175.9s,\testimator lgbm's best error=0.7916,\tbest estimator xgb_limitdepth's best error=0.7802\n",
            "[flaml.automl.logger: 08-30 00:17:20] {2218} INFO - iteration 172, current learner lgbm\n",
            "[flaml.automl.logger: 08-30 00:17:21] {2391} INFO -  at 176.4s,\testimator lgbm's best error=0.7916,\tbest estimator xgb_limitdepth's best error=0.7802\n",
            "[flaml.automl.logger: 08-30 00:17:21] {2218} INFO - iteration 173, current learner xgboost\n"
          ]
        },
        {
          "name": "stderr",
          "output_type": "stream",
          "text": [
            "/usr/local/lib/python3.10/dist-packages/xgboost/sklearn.py:1395: UserWarning: `use_label_encoder` is deprecated in 1.7.0.\n",
            "  warnings.warn(\"`use_label_encoder` is deprecated in 1.7.0.\")\n"
          ]
        },
        {
          "name": "stdout",
          "output_type": "stream",
          "text": [
            "[flaml.automl.logger: 08-30 00:17:21] {2391} INFO -  at 177.3s,\testimator xgboost's best error=0.8947,\tbest estimator xgb_limitdepth's best error=0.7802\n",
            "[flaml.automl.logger: 08-30 00:17:21] {2218} INFO - iteration 174, current learner xgboost\n"
          ]
        },
        {
          "name": "stderr",
          "output_type": "stream",
          "text": [
            "/usr/local/lib/python3.10/dist-packages/xgboost/sklearn.py:1395: UserWarning: `use_label_encoder` is deprecated in 1.7.0.\n",
            "  warnings.warn(\"`use_label_encoder` is deprecated in 1.7.0.\")\n"
          ]
        },
        {
          "name": "stdout",
          "output_type": "stream",
          "text": [
            "[flaml.automl.logger: 08-30 00:17:22] {2391} INFO -  at 177.8s,\testimator xgboost's best error=0.8947,\tbest estimator xgb_limitdepth's best error=0.7802\n",
            "[flaml.automl.logger: 08-30 00:17:22] {2218} INFO - iteration 175, current learner xgboost\n"
          ]
        },
        {
          "name": "stderr",
          "output_type": "stream",
          "text": [
            "/usr/local/lib/python3.10/dist-packages/xgboost/sklearn.py:1395: UserWarning: `use_label_encoder` is deprecated in 1.7.0.\n",
            "  warnings.warn(\"`use_label_encoder` is deprecated in 1.7.0.\")\n"
          ]
        },
        {
          "name": "stdout",
          "output_type": "stream",
          "text": [
            "[flaml.automl.logger: 08-30 00:17:23] {2391} INFO -  at 178.4s,\testimator xgboost's best error=0.8947,\tbest estimator xgb_limitdepth's best error=0.7802\n",
            "[flaml.automl.logger: 08-30 00:17:23] {2218} INFO - iteration 176, current learner rf\n",
            "[flaml.automl.logger: 08-30 00:17:31] {2391} INFO -  at 186.6s,\testimator rf's best error=0.7972,\tbest estimator xgb_limitdepth's best error=0.7802\n",
            "[flaml.automl.logger: 08-30 00:17:31] {2218} INFO - iteration 177, current learner lrl1\n",
            "[flaml.automl.logger: 08-30 00:17:33] {2391} INFO -  at 189.3s,\testimator lrl1's best error=0.8386,\tbest estimator xgb_limitdepth's best error=0.7802\n",
            "[flaml.automl.logger: 08-30 00:17:33] {2218} INFO - iteration 178, current learner lrl1\n"
          ]
        },
        {
          "name": "stderr",
          "output_type": "stream",
          "text": [
            "/usr/local/lib/python3.10/dist-packages/sklearn/linear_model/_sag.py:350: ConvergenceWarning: The max_iter was reached which means the coef_ did not converge\n",
            "  warnings.warn(\n"
          ]
        },
        {
          "name": "stdout",
          "output_type": "stream",
          "text": [
            "[flaml.automl.logger: 08-30 00:17:36] {2391} INFO -  at 191.9s,\testimator lrl1's best error=0.8386,\tbest estimator xgb_limitdepth's best error=0.7802\n",
            "[flaml.automl.logger: 08-30 00:17:36] {2218} INFO - iteration 179, current learner xgboost\n"
          ]
        },
        {
          "name": "stderr",
          "output_type": "stream",
          "text": [
            "/usr/local/lib/python3.10/dist-packages/sklearn/linear_model/_sag.py:350: ConvergenceWarning: The max_iter was reached which means the coef_ did not converge\n",
            "  warnings.warn(\n",
            "/usr/local/lib/python3.10/dist-packages/xgboost/sklearn.py:1395: UserWarning: `use_label_encoder` is deprecated in 1.7.0.\n",
            "  warnings.warn(\"`use_label_encoder` is deprecated in 1.7.0.\")\n"
          ]
        },
        {
          "name": "stdout",
          "output_type": "stream",
          "text": [
            "[flaml.automl.logger: 08-30 00:17:37] {2391} INFO -  at 192.4s,\testimator xgboost's best error=0.8947,\tbest estimator xgb_limitdepth's best error=0.7802\n",
            "[flaml.automl.logger: 08-30 00:17:37] {2218} INFO - iteration 180, current learner xgb_limitdepth\n"
          ]
        },
        {
          "name": "stderr",
          "output_type": "stream",
          "text": [
            "/usr/local/lib/python3.10/dist-packages/xgboost/sklearn.py:1395: UserWarning: `use_label_encoder` is deprecated in 1.7.0.\n",
            "  warnings.warn(\"`use_label_encoder` is deprecated in 1.7.0.\")\n"
          ]
        },
        {
          "name": "stdout",
          "output_type": "stream",
          "text": [
            "[flaml.automl.logger: 08-30 00:17:38] {2391} INFO -  at 193.4s,\testimator xgb_limitdepth's best error=0.7802,\tbest estimator xgb_limitdepth's best error=0.7802\n",
            "[flaml.automl.logger: 08-30 00:17:38] {2218} INFO - iteration 181, current learner lrl1\n",
            "[flaml.automl.logger: 08-30 00:17:41] {2391} INFO -  at 196.9s,\testimator lrl1's best error=0.8386,\tbest estimator xgb_limitdepth's best error=0.7802\n",
            "[flaml.automl.logger: 08-30 00:17:41] {2218} INFO - iteration 182, current learner xgb_limitdepth\n"
          ]
        },
        {
          "name": "stderr",
          "output_type": "stream",
          "text": [
            "/usr/local/lib/python3.10/dist-packages/sklearn/linear_model/_sag.py:350: ConvergenceWarning: The max_iter was reached which means the coef_ did not converge\n",
            "  warnings.warn(\n",
            "/usr/local/lib/python3.10/dist-packages/xgboost/sklearn.py:1395: UserWarning: `use_label_encoder` is deprecated in 1.7.0.\n",
            "  warnings.warn(\"`use_label_encoder` is deprecated in 1.7.0.\")\n"
          ]
        },
        {
          "name": "stdout",
          "output_type": "stream",
          "text": [
            "[flaml.automl.logger: 08-30 00:18:04] {2391} INFO -  at 220.3s,\testimator xgb_limitdepth's best error=0.7802,\tbest estimator xgb_limitdepth's best error=0.7802\n",
            "[flaml.automl.logger: 08-30 00:18:04] {2218} INFO - iteration 183, current learner rf\n",
            "[flaml.automl.logger: 08-30 00:18:07] {2391} INFO -  at 223.3s,\testimator rf's best error=0.7972,\tbest estimator xgb_limitdepth's best error=0.7802\n",
            "[flaml.automl.logger: 08-30 00:18:07] {2218} INFO - iteration 184, current learner lgbm\n",
            "[flaml.automl.logger: 08-30 00:18:09] {2391} INFO -  at 224.6s,\testimator lgbm's best error=0.7916,\tbest estimator xgb_limitdepth's best error=0.7802\n",
            "[flaml.automl.logger: 08-30 00:18:09] {2218} INFO - iteration 185, current learner xgboost\n"
          ]
        },
        {
          "name": "stderr",
          "output_type": "stream",
          "text": [
            "/usr/local/lib/python3.10/dist-packages/xgboost/sklearn.py:1395: UserWarning: `use_label_encoder` is deprecated in 1.7.0.\n",
            "  warnings.warn(\"`use_label_encoder` is deprecated in 1.7.0.\")\n"
          ]
        },
        {
          "name": "stdout",
          "output_type": "stream",
          "text": [
            "[flaml.automl.logger: 08-30 00:18:10] {2391} INFO -  at 225.7s,\testimator xgboost's best error=0.8947,\tbest estimator xgb_limitdepth's best error=0.7802\n",
            "[flaml.automl.logger: 08-30 00:18:10] {2218} INFO - iteration 186, current learner xgb_limitdepth\n"
          ]
        },
        {
          "name": "stderr",
          "output_type": "stream",
          "text": [
            "/usr/local/lib/python3.10/dist-packages/xgboost/sklearn.py:1395: UserWarning: `use_label_encoder` is deprecated in 1.7.0.\n",
            "  warnings.warn(\"`use_label_encoder` is deprecated in 1.7.0.\")\n"
          ]
        },
        {
          "name": "stdout",
          "output_type": "stream",
          "text": [
            "[flaml.automl.logger: 08-30 00:18:12] {2391} INFO -  at 228.0s,\testimator xgb_limitdepth's best error=0.7802,\tbest estimator xgb_limitdepth's best error=0.7802\n",
            "[flaml.automl.logger: 08-30 00:18:12] {2218} INFO - iteration 187, current learner lgbm\n",
            "[flaml.automl.logger: 08-30 00:18:13] {2391} INFO -  at 228.6s,\testimator lgbm's best error=0.7916,\tbest estimator xgb_limitdepth's best error=0.7802\n",
            "[flaml.automl.logger: 08-30 00:18:13] {2218} INFO - iteration 188, current learner lrl1\n",
            "[flaml.automl.logger: 08-30 00:18:30] {2391} INFO -  at 246.2s,\testimator lrl1's best error=0.8386,\tbest estimator xgb_limitdepth's best error=0.7802\n",
            "[flaml.automl.logger: 08-30 00:18:30] {2218} INFO - iteration 189, current learner lgbm\n"
          ]
        },
        {
          "name": "stderr",
          "output_type": "stream",
          "text": [
            "/usr/local/lib/python3.10/dist-packages/sklearn/linear_model/_sag.py:350: ConvergenceWarning: The max_iter was reached which means the coef_ did not converge\n",
            "  warnings.warn(\n"
          ]
        },
        {
          "name": "stdout",
          "output_type": "stream",
          "text": [
            "[flaml.automl.logger: 08-30 00:18:31] {2391} INFO -  at 247.0s,\testimator lgbm's best error=0.7916,\tbest estimator xgb_limitdepth's best error=0.7802\n",
            "[flaml.automl.logger: 08-30 00:18:31] {2218} INFO - iteration 190, current learner lgbm\n",
            "[flaml.automl.logger: 08-30 00:18:32] {2391} INFO -  at 247.6s,\testimator lgbm's best error=0.7916,\tbest estimator xgb_limitdepth's best error=0.7802\n",
            "[flaml.automl.logger: 08-30 00:18:32] {2218} INFO - iteration 191, current learner xgb_limitdepth\n"
          ]
        },
        {
          "name": "stderr",
          "output_type": "stream",
          "text": [
            "/usr/local/lib/python3.10/dist-packages/xgboost/sklearn.py:1395: UserWarning: `use_label_encoder` is deprecated in 1.7.0.\n",
            "  warnings.warn(\"`use_label_encoder` is deprecated in 1.7.0.\")\n"
          ]
        },
        {
          "name": "stdout",
          "output_type": "stream",
          "text": [
            "[flaml.automl.logger: 08-30 00:18:40] {2391} INFO -  at 256.2s,\testimator xgb_limitdepth's best error=0.7802,\tbest estimator xgb_limitdepth's best error=0.7802\n",
            "[flaml.automl.logger: 08-30 00:18:40] {2218} INFO - iteration 192, current learner lgbm\n",
            "[flaml.automl.logger: 08-30 00:18:41] {2391} INFO -  at 256.8s,\testimator lgbm's best error=0.7916,\tbest estimator xgb_limitdepth's best error=0.7802\n",
            "[flaml.automl.logger: 08-30 00:18:41] {2218} INFO - iteration 193, current learner xgboost\n"
          ]
        },
        {
          "name": "stderr",
          "output_type": "stream",
          "text": [
            "/usr/local/lib/python3.10/dist-packages/xgboost/sklearn.py:1395: UserWarning: `use_label_encoder` is deprecated in 1.7.0.\n",
            "  warnings.warn(\"`use_label_encoder` is deprecated in 1.7.0.\")\n"
          ]
        },
        {
          "name": "stdout",
          "output_type": "stream",
          "text": [
            "[flaml.automl.logger: 08-30 00:18:42] {2391} INFO -  at 257.4s,\testimator xgboost's best error=0.8947,\tbest estimator xgb_limitdepth's best error=0.7802\n",
            "[flaml.automl.logger: 08-30 00:18:42] {2218} INFO - iteration 194, current learner xgboost\n"
          ]
        },
        {
          "name": "stderr",
          "output_type": "stream",
          "text": [
            "/usr/local/lib/python3.10/dist-packages/xgboost/sklearn.py:1395: UserWarning: `use_label_encoder` is deprecated in 1.7.0.\n",
            "  warnings.warn(\"`use_label_encoder` is deprecated in 1.7.0.\")\n"
          ]
        },
        {
          "name": "stdout",
          "output_type": "stream",
          "text": [
            "[flaml.automl.logger: 08-30 00:18:42] {2391} INFO -  at 257.9s,\testimator xgboost's best error=0.8947,\tbest estimator xgb_limitdepth's best error=0.7802\n",
            "[flaml.automl.logger: 08-30 00:18:42] {2218} INFO - iteration 195, current learner lrl1\n",
            "[flaml.automl.logger: 08-30 00:19:01] {2391} INFO -  at 276.9s,\testimator lrl1's best error=0.8386,\tbest estimator xgb_limitdepth's best error=0.7802\n",
            "[flaml.automl.logger: 08-30 00:19:01] {2218} INFO - iteration 196, current learner lgbm\n"
          ]
        },
        {
          "name": "stderr",
          "output_type": "stream",
          "text": [
            "/usr/local/lib/python3.10/dist-packages/sklearn/linear_model/_sag.py:350: ConvergenceWarning: The max_iter was reached which means the coef_ did not converge\n",
            "  warnings.warn(\n"
          ]
        },
        {
          "name": "stdout",
          "output_type": "stream",
          "text": [
            "[flaml.automl.logger: 08-30 00:19:02] {2391} INFO -  at 278.1s,\testimator lgbm's best error=0.7916,\tbest estimator xgb_limitdepth's best error=0.7802\n",
            "[flaml.automl.logger: 08-30 00:19:02] {2218} INFO - iteration 197, current learner lgbm\n",
            "[flaml.automl.logger: 08-30 00:19:03] {2391} INFO -  at 278.7s,\testimator lgbm's best error=0.7916,\tbest estimator xgb_limitdepth's best error=0.7802\n",
            "[flaml.automl.logger: 08-30 00:19:03] {2218} INFO - iteration 198, current learner extra_tree\n",
            "[flaml.automl.logger: 08-30 00:19:04] {2391} INFO -  at 279.5s,\testimator extra_tree's best error=0.9490,\tbest estimator xgb_limitdepth's best error=0.7802\n",
            "[flaml.automl.logger: 08-30 00:19:04] {2218} INFO - iteration 199, current learner xgb_limitdepth\n"
          ]
        },
        {
          "name": "stderr",
          "output_type": "stream",
          "text": [
            "/usr/local/lib/python3.10/dist-packages/xgboost/sklearn.py:1395: UserWarning: `use_label_encoder` is deprecated in 1.7.0.\n",
            "  warnings.warn(\"`use_label_encoder` is deprecated in 1.7.0.\")\n"
          ]
        },
        {
          "name": "stdout",
          "output_type": "stream",
          "text": [
            "[flaml.automl.logger: 08-30 00:19:05] {2391} INFO -  at 280.6s,\testimator xgb_limitdepth's best error=0.7802,\tbest estimator xgb_limitdepth's best error=0.7802\n",
            "[flaml.automl.logger: 08-30 00:19:05] {2218} INFO - iteration 200, current learner lrl1\n",
            "[flaml.automl.logger: 08-30 00:19:26] {2391} INFO -  at 302.3s,\testimator lrl1's best error=0.8386,\tbest estimator xgb_limitdepth's best error=0.7802\n"
          ]
        },
        {
          "name": "stderr",
          "output_type": "stream",
          "text": [
            "/usr/local/lib/python3.10/dist-packages/sklearn/linear_model/_sag.py:350: ConvergenceWarning: The max_iter was reached which means the coef_ did not converge\n",
            "  warnings.warn(\n",
            "/usr/local/lib/python3.10/dist-packages/xgboost/sklearn.py:1395: UserWarning: `use_label_encoder` is deprecated in 1.7.0.\n",
            "  warnings.warn(\"`use_label_encoder` is deprecated in 1.7.0.\")\n"
          ]
        },
        {
          "name": "stdout",
          "output_type": "stream",
          "text": [
            "[flaml.automl.logger: 08-30 00:19:33] {2627} INFO - retrain xgb_limitdepth for 6.1s\n",
            "[flaml.automl.logger: 08-30 00:19:33] {2630} INFO - retrained model: XGBClassifier(base_score=None, booster=None, callbacks=[],\n",
            "              colsample_bylevel=0.9559873420149136, colsample_bynode=None,\n",
            "              colsample_bytree=1.0, early_stopping_rounds=None,\n",
            "              enable_categorical=False, eval_metric=None, feature_types=None,\n",
            "              gamma=None, gpu_id=None, grow_policy=None, importance_type=None,\n",
            "              interaction_constraints=None, learning_rate=1.0, max_bin=None,\n",
            "              max_cat_threshold=None, max_cat_to_onehot=None,\n",
            "              max_delta_step=None, max_depth=6, max_leaves=None,\n",
            "              min_child_weight=1.6630681038679214, missing=nan,\n",
            "              monotone_constraints=None, n_estimators=16, n_jobs=-1,\n",
            "              num_parallel_tree=None, predictor=None, random_state=None, ...)\n",
            "[flaml.automl.logger: 08-30 00:19:33] {1930} INFO - fit succeeded\n",
            "[flaml.automl.logger: 08-30 00:19:33] {1931} INFO - Time taken to find the best model: 19.761929035186768\n"
          ]
        }
      ],
      "source": [
        "automl = AutoML()\n",
        "automl.fit(x_train,y_train,time_budget = 300,task = 'classification',metric = 'f1')"
      ]
    },
    {
      "cell_type": "code",
      "execution_count": 57,
      "metadata": {
        "colab": {
          "base_uri": "https://localhost:8080/"
        },
        "id": "lYQq2kjCxjaP",
        "outputId": "3bf2b264-6d68-45b2-8d1b-601df388964b"
      },
      "outputs": [
        {
          "data": {
            "text/plain": [
              "<flaml.automl.model.XGBoostLimitDepthEstimator at 0x7affa4e99270>"
            ]
          },
          "execution_count": 57,
          "metadata": {},
          "output_type": "execute_result"
        }
      ],
      "source": [
        "automl.model"
      ]
    },
    {
      "cell_type": "code",
      "execution_count": 58,
      "metadata": {
        "colab": {
          "base_uri": "https://localhost:8080/"
        },
        "id": "VDHCVDplv_pd",
        "outputId": "6cf12b68-75ec-46b6-8258-7c9d79a0aa7f"
      },
      "outputs": [
        {
          "data": {
            "text/plain": [
              "{'pred_time': 1.1503967292789778e-06,\n",
              " 'wall_clock_time': 19.761929035186768,\n",
              " 'metric_for_logging': {'pred_time': 1.1503967292789778e-06},\n",
              " 'val_loss': 0.7801696020874103,\n",
              " 'training_iteration': 1,\n",
              " 'config': {'n_estimators': 16,\n",
              "  'max_depth': 6,\n",
              "  'min_child_weight': 1.6630681038679214,\n",
              "  'learning_rate': 1.0,\n",
              "  'subsample': 0.7519638112815813,\n",
              "  'colsample_bylevel': 0.9559873420149136,\n",
              "  'colsample_bytree': 1.0,\n",
              "  'reg_alpha': 0.09862017814525087,\n",
              "  'reg_lambda': 1.7823306666666137,\n",
              "  'FLAML_sample_size': 10000},\n",
              " 'config/n_estimators': 16,\n",
              " 'config/max_depth': 6,\n",
              " 'config/min_child_weight': 1.6630681038679214,\n",
              " 'config/learning_rate': 1.0,\n",
              " 'config/subsample': 0.7519638112815813,\n",
              " 'config/colsample_bylevel': 0.9559873420149136,\n",
              " 'config/colsample_bytree': 1.0,\n",
              " 'config/reg_alpha': 0.09862017814525087,\n",
              " 'config/reg_lambda': 1.7823306666666137,\n",
              " 'config/FLAML_sample_size': 10000,\n",
              " 'experiment_tag': 'exp',\n",
              " 'time_total_s': 0.24846649169921875}"
            ]
          },
          "execution_count": 58,
          "metadata": {},
          "output_type": "execute_result"
        }
      ],
      "source": [
        "automl.best_result"
      ]
    },
    {
      "cell_type": "code",
      "execution_count": 59,
      "metadata": {
        "colab": {
          "base_uri": "https://localhost:8080/"
        },
        "id": "NNmKGqtDyDtx",
        "outputId": "12597503-6777-41ba-ade7-cc5dd4307f71"
      },
      "outputs": [
        {
          "data": {
            "text/plain": [
              "(0.7801696020874103, {'pred_time': 1.1503967292789778e-06})"
            ]
          },
          "execution_count": 59,
          "metadata": {},
          "output_type": "execute_result"
        }
      ],
      "source": [
        "automl.metrics_for_best_config"
      ]
    },
    {
      "cell_type": "code",
      "execution_count": 60,
      "metadata": {
        "colab": {
          "base_uri": "https://localhost:8080/"
        },
        "id": "8lNMIj6hwZa4",
        "outputId": "67ed738c-ab42-49e0-b213-e311688abc54"
      },
      "outputs": [
        {
          "data": {
            "text/plain": [
              "0.9180807684931164"
            ]
          },
          "execution_count": 60,
          "metadata": {},
          "output_type": "execute_result"
        }
      ],
      "source": [
        "automl.score(x_train,y_train)"
      ]
    },
    {
      "cell_type": "code",
      "execution_count": 61,
      "metadata": {
        "colab": {
          "base_uri": "https://localhost:8080/"
        },
        "id": "dALAC9UUxGKF",
        "outputId": "0d69d389-0c0d-411e-e0be-b0e995eaf3fd"
      },
      "outputs": [
        {
          "data": {
            "text/plain": [
              "0.9127068506172685"
            ]
          },
          "execution_count": 61,
          "metadata": {},
          "output_type": "execute_result"
        }
      ],
      "source": [
        "automl.score(x_test,y_test)"
      ]
    },
    {
      "cell_type": "code",
      "execution_count": 62,
      "metadata": {
        "id": "-bw1tlw6wgI-"
      },
      "outputs": [],
      "source": [
        "from sklearn.metrics import f1_score"
      ]
    },
    {
      "cell_type": "code",
      "execution_count": 63,
      "metadata": {
        "id": "2K-Pxi81wo6-"
      },
      "outputs": [],
      "source": [
        "y_pred = automl.predict(x_train)"
      ]
    },
    {
      "cell_type": "code",
      "execution_count": 64,
      "metadata": {
        "colab": {
          "base_uri": "https://localhost:8080/"
        },
        "id": "wPFWUFSYwu2j",
        "outputId": "75e92207-bd57-4657-a76e-02fdd198e17b"
      },
      "outputs": [
        {
          "data": {
            "text/plain": [
              "0.21988406257444612"
            ]
          },
          "execution_count": 64,
          "metadata": {},
          "output_type": "execute_result"
        }
      ],
      "source": [
        "f1_score(y_train,y_pred,pos_label = 'Yes')"
      ]
    },
    {
      "cell_type": "code",
      "execution_count": 65,
      "metadata": {
        "id": "D5UJ62NAwzTK"
      },
      "outputs": [],
      "source": [
        "y_pred = automl.predict(x_test)"
      ]
    },
    {
      "cell_type": "code",
      "execution_count": 66,
      "metadata": {
        "colab": {
          "base_uri": "https://localhost:8080/"
        },
        "id": "imBHWidyxPKe",
        "outputId": "11756cfa-97d2-4f4e-af32-12d814888e3e"
      },
      "outputs": [
        {
          "data": {
            "text/plain": [
              "0.17651917404129797"
            ]
          },
          "execution_count": 66,
          "metadata": {},
          "output_type": "execute_result"
        }
      ],
      "source": [
        "f1_score(y_test,y_pred,pos_label = 'Yes')"
      ]
    },
    {
      "cell_type": "markdown",
      "metadata": {
        "id": "vqIPWgoE0EPt"
      },
      "source": [
        "Automl can't handle imbalanced data as f1_score is so low"
      ]
    },
    {
      "cell_type": "code",
      "execution_count": null,
      "metadata": {
        "id": "UtFXfeptxR_2"
      },
      "outputs": [],
      "source": []
    }
  ],
  "metadata": {
    "colab": {
      "gpuType": "T4",
      "provenance": []
    },
    "kernelspec": {
      "display_name": "Python 3",
      "name": "python3"
    },
    "language_info": {
      "name": "python"
    },
    "widgets": {
      "application/vnd.jupyter.widget-state+json": {
        "02c405c7d138421d8fbd13778bc599f9": {
          "model_module": "@jupyter-widgets/controls",
          "model_module_version": "1.5.0",
          "model_name": "DescriptionStyleModel",
          "state": {
            "_model_module": "@jupyter-widgets/controls",
            "_model_module_version": "1.5.0",
            "_model_name": "DescriptionStyleModel",
            "_view_count": null,
            "_view_module": "@jupyter-widgets/base",
            "_view_module_version": "1.2.0",
            "_view_name": "StyleView",
            "description_width": ""
          }
        },
        "06fb9c05e3b14d948fac90a42abbc176": {
          "model_module": "@jupyter-widgets/controls",
          "model_module_version": "1.5.0",
          "model_name": "FloatProgressModel",
          "state": {
            "_dom_classes": [],
            "_model_module": "@jupyter-widgets/controls",
            "_model_module_version": "1.5.0",
            "_model_name": "FloatProgressModel",
            "_view_count": null,
            "_view_module": "@jupyter-widgets/controls",
            "_view_module_version": "1.5.0",
            "_view_name": "ProgressView",
            "bar_style": "success",
            "description": "",
            "description_tooltip": null,
            "layout": "IPY_MODEL_80e51b76d66d497495ea806ff4e009bb",
            "max": 5,
            "min": 0,
            "orientation": "horizontal",
            "style": "IPY_MODEL_84da307f31b54d63b8f30f62036c12a1",
            "value": 5
          }
        },
        "07638bf700b74764971fa6e3d17dc5e7": {
          "model_module": "@jupyter-widgets/base",
          "model_module_version": "1.2.0",
          "model_name": "LayoutModel",
          "state": {
            "_model_module": "@jupyter-widgets/base",
            "_model_module_version": "1.2.0",
            "_model_name": "LayoutModel",
            "_view_count": null,
            "_view_module": "@jupyter-widgets/base",
            "_view_module_version": "1.2.0",
            "_view_name": "LayoutView",
            "align_content": null,
            "align_items": null,
            "align_self": null,
            "border": null,
            "bottom": null,
            "display": null,
            "flex": null,
            "flex_flow": null,
            "grid_area": null,
            "grid_auto_columns": null,
            "grid_auto_flow": null,
            "grid_auto_rows": null,
            "grid_column": null,
            "grid_gap": null,
            "grid_row": null,
            "grid_template_areas": null,
            "grid_template_columns": null,
            "grid_template_rows": null,
            "height": null,
            "justify_content": null,
            "justify_items": null,
            "left": null,
            "margin": null,
            "max_height": null,
            "max_width": null,
            "min_height": null,
            "min_width": null,
            "object_fit": null,
            "object_position": null,
            "order": null,
            "overflow": null,
            "overflow_x": null,
            "overflow_y": null,
            "padding": null,
            "right": null,
            "top": null,
            "visibility": null,
            "width": null
          }
        },
        "09cce495f3cd4f8fb13cd70ca3d2e542": {
          "model_module": "@jupyter-widgets/controls",
          "model_module_version": "1.5.0",
          "model_name": "ProgressStyleModel",
          "state": {
            "_model_module": "@jupyter-widgets/controls",
            "_model_module_version": "1.5.0",
            "_model_name": "ProgressStyleModel",
            "_view_count": null,
            "_view_module": "@jupyter-widgets/base",
            "_view_module_version": "1.2.0",
            "_view_name": "StyleView",
            "bar_color": null,
            "description_width": ""
          }
        },
        "0c6d71efa74f480cb7a7085fc468e172": {
          "model_module": "@jupyter-widgets/base",
          "model_module_version": "1.2.0",
          "model_name": "LayoutModel",
          "state": {
            "_model_module": "@jupyter-widgets/base",
            "_model_module_version": "1.2.0",
            "_model_name": "LayoutModel",
            "_view_count": null,
            "_view_module": "@jupyter-widgets/base",
            "_view_module_version": "1.2.0",
            "_view_name": "LayoutView",
            "align_content": null,
            "align_items": null,
            "align_self": null,
            "border": null,
            "bottom": null,
            "display": null,
            "flex": null,
            "flex_flow": null,
            "grid_area": null,
            "grid_auto_columns": null,
            "grid_auto_flow": null,
            "grid_auto_rows": null,
            "grid_column": null,
            "grid_gap": null,
            "grid_row": null,
            "grid_template_areas": null,
            "grid_template_columns": null,
            "grid_template_rows": null,
            "height": null,
            "justify_content": null,
            "justify_items": null,
            "left": null,
            "margin": null,
            "max_height": null,
            "max_width": null,
            "min_height": null,
            "min_width": null,
            "object_fit": null,
            "object_position": null,
            "order": null,
            "overflow": null,
            "overflow_x": null,
            "overflow_y": null,
            "padding": null,
            "right": null,
            "top": null,
            "visibility": null,
            "width": null
          }
        },
        "0df282c69f3a45068642aaeabbf71442": {
          "model_module": "@jupyter-widgets/controls",
          "model_module_version": "1.5.0",
          "model_name": "DescriptionStyleModel",
          "state": {
            "_model_module": "@jupyter-widgets/controls",
            "_model_module_version": "1.5.0",
            "_model_name": "DescriptionStyleModel",
            "_view_count": null,
            "_view_module": "@jupyter-widgets/base",
            "_view_module_version": "1.2.0",
            "_view_name": "StyleView",
            "description_width": ""
          }
        },
        "0f1c5e567d774b7687751867f6e5367c": {
          "model_module": "@jupyter-widgets/base",
          "model_module_version": "1.2.0",
          "model_name": "LayoutModel",
          "state": {
            "_model_module": "@jupyter-widgets/base",
            "_model_module_version": "1.2.0",
            "_model_name": "LayoutModel",
            "_view_count": null,
            "_view_module": "@jupyter-widgets/base",
            "_view_module_version": "1.2.0",
            "_view_name": "LayoutView",
            "align_content": null,
            "align_items": null,
            "align_self": null,
            "border": null,
            "bottom": null,
            "display": null,
            "flex": null,
            "flex_flow": null,
            "grid_area": null,
            "grid_auto_columns": null,
            "grid_auto_flow": null,
            "grid_auto_rows": null,
            "grid_column": null,
            "grid_gap": null,
            "grid_row": null,
            "grid_template_areas": null,
            "grid_template_columns": null,
            "grid_template_rows": null,
            "height": null,
            "justify_content": null,
            "justify_items": null,
            "left": null,
            "margin": null,
            "max_height": null,
            "max_width": null,
            "min_height": null,
            "min_width": null,
            "object_fit": null,
            "object_position": null,
            "order": null,
            "overflow": null,
            "overflow_x": null,
            "overflow_y": null,
            "padding": null,
            "right": null,
            "top": null,
            "visibility": null,
            "width": null
          }
        },
        "148b397a55b54998922b1868170567f9": {
          "model_module": "@jupyter-widgets/controls",
          "model_module_version": "1.5.0",
          "model_name": "HTMLModel",
          "state": {
            "_dom_classes": [],
            "_model_module": "@jupyter-widgets/controls",
            "_model_module_version": "1.5.0",
            "_model_name": "HTMLModel",
            "_view_count": null,
            "_view_module": "@jupyter-widgets/controls",
            "_view_module_version": "1.5.0",
            "_view_name": "HTMLView",
            "description": "",
            "description_tooltip": null,
            "layout": "IPY_MODEL_a4702e2d099b4551a34b5e6a8b719c23",
            "placeholder": "​",
            "style": "IPY_MODEL_769f927a4f3b4bc6af56fe6672499ed5",
            "value": "Export report to file: 100%"
          }
        },
        "1aae46a457894822b5f6b3832ca0fc92": {
          "model_module": "@jupyter-widgets/controls",
          "model_module_version": "1.5.0",
          "model_name": "HBoxModel",
          "state": {
            "_dom_classes": [],
            "_model_module": "@jupyter-widgets/controls",
            "_model_module_version": "1.5.0",
            "_model_name": "HBoxModel",
            "_view_count": null,
            "_view_module": "@jupyter-widgets/controls",
            "_view_module_version": "1.5.0",
            "_view_name": "HBoxView",
            "box_style": "",
            "children": [
              "IPY_MODEL_148b397a55b54998922b1868170567f9",
              "IPY_MODEL_56fb5cdf16994ad7b535ecd217692687",
              "IPY_MODEL_67691f891d5f4cfb854cd5780795c060"
            ],
            "layout": "IPY_MODEL_6aeed4e155b44a74a91bb0ac26ff8854"
          }
        },
        "1dd69ba08ecf4ddbbb1dabbb4f4f6d2b": {
          "model_module": "@jupyter-widgets/controls",
          "model_module_version": "1.5.0",
          "model_name": "DescriptionStyleModel",
          "state": {
            "_model_module": "@jupyter-widgets/controls",
            "_model_module_version": "1.5.0",
            "_model_name": "DescriptionStyleModel",
            "_view_count": null,
            "_view_module": "@jupyter-widgets/base",
            "_view_module_version": "1.2.0",
            "_view_name": "StyleView",
            "description_width": ""
          }
        },
        "2052c9ac870741548a0b390ca7817cfe": {
          "model_module": "@jupyter-widgets/base",
          "model_module_version": "1.2.0",
          "model_name": "LayoutModel",
          "state": {
            "_model_module": "@jupyter-widgets/base",
            "_model_module_version": "1.2.0",
            "_model_name": "LayoutModel",
            "_view_count": null,
            "_view_module": "@jupyter-widgets/base",
            "_view_module_version": "1.2.0",
            "_view_name": "LayoutView",
            "align_content": null,
            "align_items": null,
            "align_self": null,
            "border": null,
            "bottom": null,
            "display": null,
            "flex": null,
            "flex_flow": null,
            "grid_area": null,
            "grid_auto_columns": null,
            "grid_auto_flow": null,
            "grid_auto_rows": null,
            "grid_column": null,
            "grid_gap": null,
            "grid_row": null,
            "grid_template_areas": null,
            "grid_template_columns": null,
            "grid_template_rows": null,
            "height": null,
            "justify_content": null,
            "justify_items": null,
            "left": null,
            "margin": null,
            "max_height": null,
            "max_width": null,
            "min_height": null,
            "min_width": null,
            "object_fit": null,
            "object_position": null,
            "order": null,
            "overflow": null,
            "overflow_x": null,
            "overflow_y": null,
            "padding": null,
            "right": null,
            "top": null,
            "visibility": null,
            "width": null
          }
        },
        "21a726db410d46f7b5fdea476ff4b098": {
          "model_module": "@jupyter-widgets/controls",
          "model_module_version": "1.5.0",
          "model_name": "ProgressStyleModel",
          "state": {
            "_model_module": "@jupyter-widgets/controls",
            "_model_module_version": "1.5.0",
            "_model_name": "ProgressStyleModel",
            "_view_count": null,
            "_view_module": "@jupyter-widgets/base",
            "_view_module_version": "1.2.0",
            "_view_name": "StyleView",
            "bar_color": null,
            "description_width": ""
          }
        },
        "2299315bebfa432c8ceaaf6f68534e53": {
          "model_module": "@jupyter-widgets/controls",
          "model_module_version": "1.5.0",
          "model_name": "HBoxModel",
          "state": {
            "_dom_classes": [],
            "_model_module": "@jupyter-widgets/controls",
            "_model_module_version": "1.5.0",
            "_model_name": "HBoxModel",
            "_view_count": null,
            "_view_module": "@jupyter-widgets/controls",
            "_view_module_version": "1.5.0",
            "_view_name": "HBoxView",
            "box_style": "",
            "children": [
              "IPY_MODEL_f1601d41e04a4d2082e87921b9b2e3d2",
              "IPY_MODEL_3911e72ecf1440a7a9da077722818bf8",
              "IPY_MODEL_7c53c3a3f29f4ea8bb0471ba366c9401"
            ],
            "layout": "IPY_MODEL_07638bf700b74764971fa6e3d17dc5e7"
          }
        },
        "2360342d8d1c4b948c5f2ce11e11979b": {
          "model_module": "@jupyter-widgets/controls",
          "model_module_version": "1.5.0",
          "model_name": "ProgressStyleModel",
          "state": {
            "_model_module": "@jupyter-widgets/controls",
            "_model_module_version": "1.5.0",
            "_model_name": "ProgressStyleModel",
            "_view_count": null,
            "_view_module": "@jupyter-widgets/base",
            "_view_module_version": "1.2.0",
            "_view_name": "StyleView",
            "bar_color": null,
            "description_width": ""
          }
        },
        "24231a41c9794196a1642a0d57996057": {
          "model_module": "@jupyter-widgets/base",
          "model_module_version": "1.2.0",
          "model_name": "LayoutModel",
          "state": {
            "_model_module": "@jupyter-widgets/base",
            "_model_module_version": "1.2.0",
            "_model_name": "LayoutModel",
            "_view_count": null,
            "_view_module": "@jupyter-widgets/base",
            "_view_module_version": "1.2.0",
            "_view_name": "LayoutView",
            "align_content": null,
            "align_items": null,
            "align_self": null,
            "border": null,
            "bottom": null,
            "display": null,
            "flex": null,
            "flex_flow": null,
            "grid_area": null,
            "grid_auto_columns": null,
            "grid_auto_flow": null,
            "grid_auto_rows": null,
            "grid_column": null,
            "grid_gap": null,
            "grid_row": null,
            "grid_template_areas": null,
            "grid_template_columns": null,
            "grid_template_rows": null,
            "height": null,
            "justify_content": null,
            "justify_items": null,
            "left": null,
            "margin": null,
            "max_height": null,
            "max_width": null,
            "min_height": null,
            "min_width": null,
            "object_fit": null,
            "object_position": null,
            "order": null,
            "overflow": null,
            "overflow_x": null,
            "overflow_y": null,
            "padding": null,
            "right": null,
            "top": null,
            "visibility": null,
            "width": null
          }
        },
        "30e45ae8344a4e8e98abcee8a1657264": {
          "model_module": "@jupyter-widgets/base",
          "model_module_version": "1.2.0",
          "model_name": "LayoutModel",
          "state": {
            "_model_module": "@jupyter-widgets/base",
            "_model_module_version": "1.2.0",
            "_model_name": "LayoutModel",
            "_view_count": null,
            "_view_module": "@jupyter-widgets/base",
            "_view_module_version": "1.2.0",
            "_view_name": "LayoutView",
            "align_content": null,
            "align_items": null,
            "align_self": null,
            "border": null,
            "bottom": null,
            "display": null,
            "flex": null,
            "flex_flow": null,
            "grid_area": null,
            "grid_auto_columns": null,
            "grid_auto_flow": null,
            "grid_auto_rows": null,
            "grid_column": null,
            "grid_gap": null,
            "grid_row": null,
            "grid_template_areas": null,
            "grid_template_columns": null,
            "grid_template_rows": null,
            "height": null,
            "justify_content": null,
            "justify_items": null,
            "left": null,
            "margin": null,
            "max_height": null,
            "max_width": null,
            "min_height": null,
            "min_width": null,
            "object_fit": null,
            "object_position": null,
            "order": null,
            "overflow": null,
            "overflow_x": null,
            "overflow_y": null,
            "padding": null,
            "right": null,
            "top": null,
            "visibility": null,
            "width": null
          }
        },
        "33b77fcb930b481cbc0fbb0a18d9a76f": {
          "model_module": "@jupyter-widgets/base",
          "model_module_version": "1.2.0",
          "model_name": "LayoutModel",
          "state": {
            "_model_module": "@jupyter-widgets/base",
            "_model_module_version": "1.2.0",
            "_model_name": "LayoutModel",
            "_view_count": null,
            "_view_module": "@jupyter-widgets/base",
            "_view_module_version": "1.2.0",
            "_view_name": "LayoutView",
            "align_content": null,
            "align_items": null,
            "align_self": null,
            "border": null,
            "bottom": null,
            "display": null,
            "flex": null,
            "flex_flow": null,
            "grid_area": null,
            "grid_auto_columns": null,
            "grid_auto_flow": null,
            "grid_auto_rows": null,
            "grid_column": null,
            "grid_gap": null,
            "grid_row": null,
            "grid_template_areas": null,
            "grid_template_columns": null,
            "grid_template_rows": null,
            "height": null,
            "justify_content": null,
            "justify_items": null,
            "left": null,
            "margin": null,
            "max_height": null,
            "max_width": null,
            "min_height": null,
            "min_width": null,
            "object_fit": null,
            "object_position": null,
            "order": null,
            "overflow": null,
            "overflow_x": null,
            "overflow_y": null,
            "padding": null,
            "right": null,
            "top": null,
            "visibility": null,
            "width": null
          }
        },
        "34fda59b23dc44078a0ba2b982fa8284": {
          "model_module": "@jupyter-widgets/base",
          "model_module_version": "1.2.0",
          "model_name": "LayoutModel",
          "state": {
            "_model_module": "@jupyter-widgets/base",
            "_model_module_version": "1.2.0",
            "_model_name": "LayoutModel",
            "_view_count": null,
            "_view_module": "@jupyter-widgets/base",
            "_view_module_version": "1.2.0",
            "_view_name": "LayoutView",
            "align_content": null,
            "align_items": null,
            "align_self": null,
            "border": null,
            "bottom": null,
            "display": null,
            "flex": null,
            "flex_flow": null,
            "grid_area": null,
            "grid_auto_columns": null,
            "grid_auto_flow": null,
            "grid_auto_rows": null,
            "grid_column": null,
            "grid_gap": null,
            "grid_row": null,
            "grid_template_areas": null,
            "grid_template_columns": null,
            "grid_template_rows": null,
            "height": null,
            "justify_content": null,
            "justify_items": null,
            "left": null,
            "margin": null,
            "max_height": null,
            "max_width": null,
            "min_height": null,
            "min_width": null,
            "object_fit": null,
            "object_position": null,
            "order": null,
            "overflow": null,
            "overflow_x": null,
            "overflow_y": null,
            "padding": null,
            "right": null,
            "top": null,
            "visibility": null,
            "width": null
          }
        },
        "36efaadfa60a45b193c474c1bb854134": {
          "model_module": "@jupyter-widgets/base",
          "model_module_version": "1.2.0",
          "model_name": "LayoutModel",
          "state": {
            "_model_module": "@jupyter-widgets/base",
            "_model_module_version": "1.2.0",
            "_model_name": "LayoutModel",
            "_view_count": null,
            "_view_module": "@jupyter-widgets/base",
            "_view_module_version": "1.2.0",
            "_view_name": "LayoutView",
            "align_content": null,
            "align_items": null,
            "align_self": null,
            "border": null,
            "bottom": null,
            "display": null,
            "flex": null,
            "flex_flow": null,
            "grid_area": null,
            "grid_auto_columns": null,
            "grid_auto_flow": null,
            "grid_auto_rows": null,
            "grid_column": null,
            "grid_gap": null,
            "grid_row": null,
            "grid_template_areas": null,
            "grid_template_columns": null,
            "grid_template_rows": null,
            "height": null,
            "justify_content": null,
            "justify_items": null,
            "left": null,
            "margin": null,
            "max_height": null,
            "max_width": null,
            "min_height": null,
            "min_width": null,
            "object_fit": null,
            "object_position": null,
            "order": null,
            "overflow": null,
            "overflow_x": null,
            "overflow_y": null,
            "padding": null,
            "right": null,
            "top": null,
            "visibility": null,
            "width": null
          }
        },
        "3911e72ecf1440a7a9da077722818bf8": {
          "model_module": "@jupyter-widgets/controls",
          "model_module_version": "1.5.0",
          "model_name": "FloatProgressModel",
          "state": {
            "_dom_classes": [],
            "_model_module": "@jupyter-widgets/controls",
            "_model_module_version": "1.5.0",
            "_model_name": "FloatProgressModel",
            "_view_count": null,
            "_view_module": "@jupyter-widgets/controls",
            "_view_module_version": "1.5.0",
            "_view_name": "ProgressView",
            "bar_style": "success",
            "description": "",
            "description_tooltip": null,
            "layout": "IPY_MODEL_b2696bedbd8d4d0fa1b241cc84c1bbfd",
            "max": 1,
            "min": 0,
            "orientation": "horizontal",
            "style": "IPY_MODEL_3b48002b84214c2ea20a15e871d6bd3b",
            "value": 1
          }
        },
        "3a5f0412977545ffbf7e27c3c5d8ae72": {
          "model_module": "@jupyter-widgets/controls",
          "model_module_version": "1.5.0",
          "model_name": "HTMLModel",
          "state": {
            "_dom_classes": [],
            "_model_module": "@jupyter-widgets/controls",
            "_model_module_version": "1.5.0",
            "_model_name": "HTMLModel",
            "_view_count": null,
            "_view_module": "@jupyter-widgets/controls",
            "_view_module_version": "1.5.0",
            "_view_name": "HTMLView",
            "description": "",
            "description_tooltip": null,
            "layout": "IPY_MODEL_a5b2d5191a804369b85edbd909992c0c",
            "placeholder": "​",
            "style": "IPY_MODEL_febc8be7bafc48df9ab3e51201eb1e22",
            "value": " 1/1 [00:00&lt;00:00, 11.90it/s]"
          }
        },
        "3b48002b84214c2ea20a15e871d6bd3b": {
          "model_module": "@jupyter-widgets/controls",
          "model_module_version": "1.5.0",
          "model_name": "ProgressStyleModel",
          "state": {
            "_model_module": "@jupyter-widgets/controls",
            "_model_module_version": "1.5.0",
            "_model_name": "ProgressStyleModel",
            "_view_count": null,
            "_view_module": "@jupyter-widgets/base",
            "_view_module_version": "1.2.0",
            "_view_name": "StyleView",
            "bar_color": null,
            "description_width": ""
          }
        },
        "417741e9f1db4ff3a6e3c40900dadf5c": {
          "model_module": "@jupyter-widgets/controls",
          "model_module_version": "1.5.0",
          "model_name": "DescriptionStyleModel",
          "state": {
            "_model_module": "@jupyter-widgets/controls",
            "_model_module_version": "1.5.0",
            "_model_name": "DescriptionStyleModel",
            "_view_count": null,
            "_view_module": "@jupyter-widgets/base",
            "_view_module_version": "1.2.0",
            "_view_name": "StyleView",
            "description_width": ""
          }
        },
        "41feac8dc24f4eec947d771a3a35b2d9": {
          "model_module": "@jupyter-widgets/controls",
          "model_module_version": "1.5.0",
          "model_name": "ProgressStyleModel",
          "state": {
            "_model_module": "@jupyter-widgets/controls",
            "_model_module_version": "1.5.0",
            "_model_name": "ProgressStyleModel",
            "_view_count": null,
            "_view_module": "@jupyter-widgets/base",
            "_view_module_version": "1.2.0",
            "_view_name": "StyleView",
            "bar_color": null,
            "description_width": ""
          }
        },
        "44d90ba8fabb45a0a006cdb7a8641e70": {
          "model_module": "@jupyter-widgets/controls",
          "model_module_version": "1.5.0",
          "model_name": "DescriptionStyleModel",
          "state": {
            "_model_module": "@jupyter-widgets/controls",
            "_model_module_version": "1.5.0",
            "_model_name": "DescriptionStyleModel",
            "_view_count": null,
            "_view_module": "@jupyter-widgets/base",
            "_view_module_version": "1.2.0",
            "_view_name": "StyleView",
            "description_width": ""
          }
        },
        "4950f2ee1e7649e096bbe59907952fe8": {
          "model_module": "@jupyter-widgets/controls",
          "model_module_version": "1.5.0",
          "model_name": "HTMLModel",
          "state": {
            "_dom_classes": [],
            "_model_module": "@jupyter-widgets/controls",
            "_model_module_version": "1.5.0",
            "_model_name": "HTMLModel",
            "_view_count": null,
            "_view_module": "@jupyter-widgets/controls",
            "_view_module_version": "1.5.0",
            "_view_name": "HTMLView",
            "description": "",
            "description_tooltip": null,
            "layout": "IPY_MODEL_f18551e6bba844a588f03687a3013e13",
            "placeholder": "​",
            "style": "IPY_MODEL_e540043ad3734df09cb07db447635306",
            "value": " 1/1 [00:06&lt;00:00,  6.44s/it]"
          }
        },
        "4e82c04acbaf4a33a3b415c57612497c": {
          "model_module": "@jupyter-widgets/controls",
          "model_module_version": "1.5.0",
          "model_name": "DescriptionStyleModel",
          "state": {
            "_model_module": "@jupyter-widgets/controls",
            "_model_module_version": "1.5.0",
            "_model_name": "DescriptionStyleModel",
            "_view_count": null,
            "_view_module": "@jupyter-widgets/base",
            "_view_module_version": "1.2.0",
            "_view_name": "StyleView",
            "description_width": ""
          }
        },
        "50de99fe8cd34115ab6ae00300991689": {
          "model_module": "@jupyter-widgets/controls",
          "model_module_version": "1.5.0",
          "model_name": "HBoxModel",
          "state": {
            "_dom_classes": [],
            "_model_module": "@jupyter-widgets/controls",
            "_model_module_version": "1.5.0",
            "_model_name": "HBoxModel",
            "_view_count": null,
            "_view_module": "@jupyter-widgets/controls",
            "_view_module_version": "1.5.0",
            "_view_name": "HBoxView",
            "box_style": "",
            "children": [
              "IPY_MODEL_b01a5db456eb4280bae01c56a4ca8b3b",
              "IPY_MODEL_7a26369ae34647c2963c895814b0ac95",
              "IPY_MODEL_3a5f0412977545ffbf7e27c3c5d8ae72"
            ],
            "layout": "IPY_MODEL_713dd2d089854c3993c2a8502fac9eff"
          }
        },
        "51ae8e78aa1c489eb0675045aaaf1242": {
          "model_module": "@jupyter-widgets/controls",
          "model_module_version": "1.5.0",
          "model_name": "DescriptionStyleModel",
          "state": {
            "_model_module": "@jupyter-widgets/controls",
            "_model_module_version": "1.5.0",
            "_model_name": "DescriptionStyleModel",
            "_view_count": null,
            "_view_module": "@jupyter-widgets/base",
            "_view_module_version": "1.2.0",
            "_view_name": "StyleView",
            "description_width": ""
          }
        },
        "55ee5e09b1fc4198903b864b97a00e48": {
          "model_module": "@jupyter-widgets/controls",
          "model_module_version": "1.5.0",
          "model_name": "FloatProgressModel",
          "state": {
            "_dom_classes": [],
            "_model_module": "@jupyter-widgets/controls",
            "_model_module_version": "1.5.0",
            "_model_name": "FloatProgressModel",
            "_view_count": null,
            "_view_module": "@jupyter-widgets/controls",
            "_view_module_version": "1.5.0",
            "_view_name": "ProgressView",
            "bar_style": "success",
            "description": "",
            "description_tooltip": null,
            "layout": "IPY_MODEL_d12f7bd9457d4c83bce232a8eb9cce10",
            "max": 5,
            "min": 0,
            "orientation": "horizontal",
            "style": "IPY_MODEL_41feac8dc24f4eec947d771a3a35b2d9",
            "value": 5
          }
        },
        "56fb5cdf16994ad7b535ecd217692687": {
          "model_module": "@jupyter-widgets/controls",
          "model_module_version": "1.5.0",
          "model_name": "FloatProgressModel",
          "state": {
            "_dom_classes": [],
            "_model_module": "@jupyter-widgets/controls",
            "_model_module_version": "1.5.0",
            "_model_name": "FloatProgressModel",
            "_view_count": null,
            "_view_module": "@jupyter-widgets/controls",
            "_view_module_version": "1.5.0",
            "_view_name": "ProgressView",
            "bar_style": "success",
            "description": "",
            "description_tooltip": null,
            "layout": "IPY_MODEL_89be5d00d06d4e42b25087ce3e904969",
            "max": 1,
            "min": 0,
            "orientation": "horizontal",
            "style": "IPY_MODEL_b3192b7e2b234c43b783355b33d8e09e",
            "value": 1
          }
        },
        "5aaca10f679b4f4ca10681d94a948a24": {
          "model_module": "@jupyter-widgets/base",
          "model_module_version": "1.2.0",
          "model_name": "LayoutModel",
          "state": {
            "_model_module": "@jupyter-widgets/base",
            "_model_module_version": "1.2.0",
            "_model_name": "LayoutModel",
            "_view_count": null,
            "_view_module": "@jupyter-widgets/base",
            "_view_module_version": "1.2.0",
            "_view_name": "LayoutView",
            "align_content": null,
            "align_items": null,
            "align_self": null,
            "border": null,
            "bottom": null,
            "display": null,
            "flex": null,
            "flex_flow": null,
            "grid_area": null,
            "grid_auto_columns": null,
            "grid_auto_flow": null,
            "grid_auto_rows": null,
            "grid_column": null,
            "grid_gap": null,
            "grid_row": null,
            "grid_template_areas": null,
            "grid_template_columns": null,
            "grid_template_rows": null,
            "height": null,
            "justify_content": null,
            "justify_items": null,
            "left": null,
            "margin": null,
            "max_height": null,
            "max_width": null,
            "min_height": null,
            "min_width": null,
            "object_fit": null,
            "object_position": null,
            "order": null,
            "overflow": null,
            "overflow_x": null,
            "overflow_y": null,
            "padding": null,
            "right": null,
            "top": null,
            "visibility": null,
            "width": null
          }
        },
        "5f363fe141794696a99fec6f8285dc9f": {
          "model_module": "@jupyter-widgets/controls",
          "model_module_version": "1.5.0",
          "model_name": "HTMLModel",
          "state": {
            "_dom_classes": [],
            "_model_module": "@jupyter-widgets/controls",
            "_model_module_version": "1.5.0",
            "_model_name": "HTMLModel",
            "_view_count": null,
            "_view_module": "@jupyter-widgets/controls",
            "_view_module_version": "1.5.0",
            "_view_name": "HTMLView",
            "description": "",
            "description_tooltip": null,
            "layout": "IPY_MODEL_63bab35714bc4f48a06cb895b540fd3e",
            "placeholder": "​",
            "style": "IPY_MODEL_99889a70818e49fba3f76d9e4d2cc473",
            "value": " 1/1 [00:12&lt;00:00, 12.76s/it]"
          }
        },
        "605c6a8245d04b868a27234217c60886": {
          "model_module": "@jupyter-widgets/controls",
          "model_module_version": "1.5.0",
          "model_name": "HTMLModel",
          "state": {
            "_dom_classes": [],
            "_model_module": "@jupyter-widgets/controls",
            "_model_module_version": "1.5.0",
            "_model_name": "HTMLModel",
            "_view_count": null,
            "_view_module": "@jupyter-widgets/controls",
            "_view_module_version": "1.5.0",
            "_view_name": "HTMLView",
            "description": "",
            "description_tooltip": null,
            "layout": "IPY_MODEL_7659aed458db4655bffac7fbf9ee3cd2",
            "placeholder": "​",
            "style": "IPY_MODEL_afc7d90bc8db4e58b169b94657e4896f",
            "value": "Render HTML: 100%"
          }
        },
        "63bab35714bc4f48a06cb895b540fd3e": {
          "model_module": "@jupyter-widgets/base",
          "model_module_version": "1.2.0",
          "model_name": "LayoutModel",
          "state": {
            "_model_module": "@jupyter-widgets/base",
            "_model_module_version": "1.2.0",
            "_model_name": "LayoutModel",
            "_view_count": null,
            "_view_module": "@jupyter-widgets/base",
            "_view_module_version": "1.2.0",
            "_view_name": "LayoutView",
            "align_content": null,
            "align_items": null,
            "align_self": null,
            "border": null,
            "bottom": null,
            "display": null,
            "flex": null,
            "flex_flow": null,
            "grid_area": null,
            "grid_auto_columns": null,
            "grid_auto_flow": null,
            "grid_auto_rows": null,
            "grid_column": null,
            "grid_gap": null,
            "grid_row": null,
            "grid_template_areas": null,
            "grid_template_columns": null,
            "grid_template_rows": null,
            "height": null,
            "justify_content": null,
            "justify_items": null,
            "left": null,
            "margin": null,
            "max_height": null,
            "max_width": null,
            "min_height": null,
            "min_width": null,
            "object_fit": null,
            "object_position": null,
            "order": null,
            "overflow": null,
            "overflow_x": null,
            "overflow_y": null,
            "padding": null,
            "right": null,
            "top": null,
            "visibility": null,
            "width": null
          }
        },
        "67691f891d5f4cfb854cd5780795c060": {
          "model_module": "@jupyter-widgets/controls",
          "model_module_version": "1.5.0",
          "model_name": "HTMLModel",
          "state": {
            "_dom_classes": [],
            "_model_module": "@jupyter-widgets/controls",
            "_model_module_version": "1.5.0",
            "_model_name": "HTMLModel",
            "_view_count": null,
            "_view_module": "@jupyter-widgets/controls",
            "_view_module_version": "1.5.0",
            "_view_name": "HTMLView",
            "description": "",
            "description_tooltip": null,
            "layout": "IPY_MODEL_af74d2f1405d43c0b0ca6eac76998a17",
            "placeholder": "​",
            "style": "IPY_MODEL_51ae8e78aa1c489eb0675045aaaf1242",
            "value": " 1/1 [00:00&lt;00:00, 35.16it/s]"
          }
        },
        "6aeed4e155b44a74a91bb0ac26ff8854": {
          "model_module": "@jupyter-widgets/base",
          "model_module_version": "1.2.0",
          "model_name": "LayoutModel",
          "state": {
            "_model_module": "@jupyter-widgets/base",
            "_model_module_version": "1.2.0",
            "_model_name": "LayoutModel",
            "_view_count": null,
            "_view_module": "@jupyter-widgets/base",
            "_view_module_version": "1.2.0",
            "_view_name": "LayoutView",
            "align_content": null,
            "align_items": null,
            "align_self": null,
            "border": null,
            "bottom": null,
            "display": null,
            "flex": null,
            "flex_flow": null,
            "grid_area": null,
            "grid_auto_columns": null,
            "grid_auto_flow": null,
            "grid_auto_rows": null,
            "grid_column": null,
            "grid_gap": null,
            "grid_row": null,
            "grid_template_areas": null,
            "grid_template_columns": null,
            "grid_template_rows": null,
            "height": null,
            "justify_content": null,
            "justify_items": null,
            "left": null,
            "margin": null,
            "max_height": null,
            "max_width": null,
            "min_height": null,
            "min_width": null,
            "object_fit": null,
            "object_position": null,
            "order": null,
            "overflow": null,
            "overflow_x": null,
            "overflow_y": null,
            "padding": null,
            "right": null,
            "top": null,
            "visibility": null,
            "width": null
          }
        },
        "713dd2d089854c3993c2a8502fac9eff": {
          "model_module": "@jupyter-widgets/base",
          "model_module_version": "1.2.0",
          "model_name": "LayoutModel",
          "state": {
            "_model_module": "@jupyter-widgets/base",
            "_model_module_version": "1.2.0",
            "_model_name": "LayoutModel",
            "_view_count": null,
            "_view_module": "@jupyter-widgets/base",
            "_view_module_version": "1.2.0",
            "_view_name": "LayoutView",
            "align_content": null,
            "align_items": null,
            "align_self": null,
            "border": null,
            "bottom": null,
            "display": null,
            "flex": null,
            "flex_flow": null,
            "grid_area": null,
            "grid_auto_columns": null,
            "grid_auto_flow": null,
            "grid_auto_rows": null,
            "grid_column": null,
            "grid_gap": null,
            "grid_row": null,
            "grid_template_areas": null,
            "grid_template_columns": null,
            "grid_template_rows": null,
            "height": null,
            "justify_content": null,
            "justify_items": null,
            "left": null,
            "margin": null,
            "max_height": null,
            "max_width": null,
            "min_height": null,
            "min_width": null,
            "object_fit": null,
            "object_position": null,
            "order": null,
            "overflow": null,
            "overflow_x": null,
            "overflow_y": null,
            "padding": null,
            "right": null,
            "top": null,
            "visibility": null,
            "width": null
          }
        },
        "75863c826a4a435f8f16200bcac220fd": {
          "model_module": "@jupyter-widgets/base",
          "model_module_version": "1.2.0",
          "model_name": "LayoutModel",
          "state": {
            "_model_module": "@jupyter-widgets/base",
            "_model_module_version": "1.2.0",
            "_model_name": "LayoutModel",
            "_view_count": null,
            "_view_module": "@jupyter-widgets/base",
            "_view_module_version": "1.2.0",
            "_view_name": "LayoutView",
            "align_content": null,
            "align_items": null,
            "align_self": null,
            "border": null,
            "bottom": null,
            "display": null,
            "flex": null,
            "flex_flow": null,
            "grid_area": null,
            "grid_auto_columns": null,
            "grid_auto_flow": null,
            "grid_auto_rows": null,
            "grid_column": null,
            "grid_gap": null,
            "grid_row": null,
            "grid_template_areas": null,
            "grid_template_columns": null,
            "grid_template_rows": null,
            "height": null,
            "justify_content": null,
            "justify_items": null,
            "left": null,
            "margin": null,
            "max_height": null,
            "max_width": null,
            "min_height": null,
            "min_width": null,
            "object_fit": null,
            "object_position": null,
            "order": null,
            "overflow": null,
            "overflow_x": null,
            "overflow_y": null,
            "padding": null,
            "right": null,
            "top": null,
            "visibility": null,
            "width": null
          }
        },
        "758dd870043e474aaf5e2ce1681f21cf": {
          "model_module": "@jupyter-widgets/controls",
          "model_module_version": "1.5.0",
          "model_name": "HBoxModel",
          "state": {
            "_dom_classes": [],
            "_model_module": "@jupyter-widgets/controls",
            "_model_module_version": "1.5.0",
            "_model_name": "HBoxModel",
            "_view_count": null,
            "_view_module": "@jupyter-widgets/controls",
            "_view_module_version": "1.5.0",
            "_view_name": "HBoxView",
            "box_style": "",
            "children": [
              "IPY_MODEL_605c6a8245d04b868a27234217c60886",
              "IPY_MODEL_96920a99fca04e1b936ec1c3a58a3c62",
              "IPY_MODEL_4950f2ee1e7649e096bbe59907952fe8"
            ],
            "layout": "IPY_MODEL_24231a41c9794196a1642a0d57996057"
          }
        },
        "75976407c9d24799955e7a70a8078852": {
          "model_module": "@jupyter-widgets/controls",
          "model_module_version": "1.5.0",
          "model_name": "ProgressStyleModel",
          "state": {
            "_model_module": "@jupyter-widgets/controls",
            "_model_module_version": "1.5.0",
            "_model_name": "ProgressStyleModel",
            "_view_count": null,
            "_view_module": "@jupyter-widgets/base",
            "_view_module_version": "1.2.0",
            "_view_name": "StyleView",
            "bar_color": null,
            "description_width": ""
          }
        },
        "7659aed458db4655bffac7fbf9ee3cd2": {
          "model_module": "@jupyter-widgets/base",
          "model_module_version": "1.2.0",
          "model_name": "LayoutModel",
          "state": {
            "_model_module": "@jupyter-widgets/base",
            "_model_module_version": "1.2.0",
            "_model_name": "LayoutModel",
            "_view_count": null,
            "_view_module": "@jupyter-widgets/base",
            "_view_module_version": "1.2.0",
            "_view_name": "LayoutView",
            "align_content": null,
            "align_items": null,
            "align_self": null,
            "border": null,
            "bottom": null,
            "display": null,
            "flex": null,
            "flex_flow": null,
            "grid_area": null,
            "grid_auto_columns": null,
            "grid_auto_flow": null,
            "grid_auto_rows": null,
            "grid_column": null,
            "grid_gap": null,
            "grid_row": null,
            "grid_template_areas": null,
            "grid_template_columns": null,
            "grid_template_rows": null,
            "height": null,
            "justify_content": null,
            "justify_items": null,
            "left": null,
            "margin": null,
            "max_height": null,
            "max_width": null,
            "min_height": null,
            "min_width": null,
            "object_fit": null,
            "object_position": null,
            "order": null,
            "overflow": null,
            "overflow_x": null,
            "overflow_y": null,
            "padding": null,
            "right": null,
            "top": null,
            "visibility": null,
            "width": null
          }
        },
        "769f927a4f3b4bc6af56fe6672499ed5": {
          "model_module": "@jupyter-widgets/controls",
          "model_module_version": "1.5.0",
          "model_name": "DescriptionStyleModel",
          "state": {
            "_model_module": "@jupyter-widgets/controls",
            "_model_module_version": "1.5.0",
            "_model_name": "DescriptionStyleModel",
            "_view_count": null,
            "_view_module": "@jupyter-widgets/base",
            "_view_module_version": "1.2.0",
            "_view_name": "StyleView",
            "description_width": ""
          }
        },
        "7a26369ae34647c2963c895814b0ac95": {
          "model_module": "@jupyter-widgets/controls",
          "model_module_version": "1.5.0",
          "model_name": "FloatProgressModel",
          "state": {
            "_dom_classes": [],
            "_model_module": "@jupyter-widgets/controls",
            "_model_module_version": "1.5.0",
            "_model_name": "FloatProgressModel",
            "_view_count": null,
            "_view_module": "@jupyter-widgets/controls",
            "_view_module_version": "1.5.0",
            "_view_name": "ProgressView",
            "bar_style": "success",
            "description": "",
            "description_tooltip": null,
            "layout": "IPY_MODEL_33b77fcb930b481cbc0fbb0a18d9a76f",
            "max": 1,
            "min": 0,
            "orientation": "horizontal",
            "style": "IPY_MODEL_75976407c9d24799955e7a70a8078852",
            "value": 1
          }
        },
        "7bae55e5be2c4e0093e31b8a7ed96314": {
          "model_module": "@jupyter-widgets/base",
          "model_module_version": "1.2.0",
          "model_name": "LayoutModel",
          "state": {
            "_model_module": "@jupyter-widgets/base",
            "_model_module_version": "1.2.0",
            "_model_name": "LayoutModel",
            "_view_count": null,
            "_view_module": "@jupyter-widgets/base",
            "_view_module_version": "1.2.0",
            "_view_name": "LayoutView",
            "align_content": null,
            "align_items": null,
            "align_self": null,
            "border": null,
            "bottom": null,
            "display": null,
            "flex": null,
            "flex_flow": null,
            "grid_area": null,
            "grid_auto_columns": null,
            "grid_auto_flow": null,
            "grid_auto_rows": null,
            "grid_column": null,
            "grid_gap": null,
            "grid_row": null,
            "grid_template_areas": null,
            "grid_template_columns": null,
            "grid_template_rows": null,
            "height": null,
            "justify_content": null,
            "justify_items": null,
            "left": null,
            "margin": null,
            "max_height": null,
            "max_width": null,
            "min_height": null,
            "min_width": null,
            "object_fit": null,
            "object_position": null,
            "order": null,
            "overflow": null,
            "overflow_x": null,
            "overflow_y": null,
            "padding": null,
            "right": null,
            "top": null,
            "visibility": null,
            "width": null
          }
        },
        "7c53c3a3f29f4ea8bb0471ba366c9401": {
          "model_module": "@jupyter-widgets/controls",
          "model_module_version": "1.5.0",
          "model_name": "HTMLModel",
          "state": {
            "_dom_classes": [],
            "_model_module": "@jupyter-widgets/controls",
            "_model_module_version": "1.5.0",
            "_model_name": "HTMLModel",
            "_view_count": null,
            "_view_module": "@jupyter-widgets/controls",
            "_view_module_version": "1.5.0",
            "_view_name": "HTMLView",
            "description": "",
            "description_tooltip": null,
            "layout": "IPY_MODEL_0c6d71efa74f480cb7a7085fc468e172",
            "placeholder": "​",
            "style": "IPY_MODEL_b9c410985e8b4324b96e82389b243f04",
            "value": " 1/1 [00:10&lt;00:00, 10.12s/it]"
          }
        },
        "7d8e5985af8b4566ba775bda4a1b3b20": {
          "model_module": "@jupyter-widgets/base",
          "model_module_version": "1.2.0",
          "model_name": "LayoutModel",
          "state": {
            "_model_module": "@jupyter-widgets/base",
            "_model_module_version": "1.2.0",
            "_model_name": "LayoutModel",
            "_view_count": null,
            "_view_module": "@jupyter-widgets/base",
            "_view_module_version": "1.2.0",
            "_view_name": "LayoutView",
            "align_content": null,
            "align_items": null,
            "align_self": null,
            "border": null,
            "bottom": null,
            "display": null,
            "flex": null,
            "flex_flow": null,
            "grid_area": null,
            "grid_auto_columns": null,
            "grid_auto_flow": null,
            "grid_auto_rows": null,
            "grid_column": null,
            "grid_gap": null,
            "grid_row": null,
            "grid_template_areas": null,
            "grid_template_columns": null,
            "grid_template_rows": null,
            "height": null,
            "justify_content": null,
            "justify_items": null,
            "left": null,
            "margin": null,
            "max_height": null,
            "max_width": null,
            "min_height": null,
            "min_width": null,
            "object_fit": null,
            "object_position": null,
            "order": null,
            "overflow": null,
            "overflow_x": null,
            "overflow_y": null,
            "padding": null,
            "right": null,
            "top": null,
            "visibility": null,
            "width": null
          }
        },
        "80e51b76d66d497495ea806ff4e009bb": {
          "model_module": "@jupyter-widgets/base",
          "model_module_version": "1.2.0",
          "model_name": "LayoutModel",
          "state": {
            "_model_module": "@jupyter-widgets/base",
            "_model_module_version": "1.2.0",
            "_model_name": "LayoutModel",
            "_view_count": null,
            "_view_module": "@jupyter-widgets/base",
            "_view_module_version": "1.2.0",
            "_view_name": "LayoutView",
            "align_content": null,
            "align_items": null,
            "align_self": null,
            "border": null,
            "bottom": null,
            "display": null,
            "flex": null,
            "flex_flow": null,
            "grid_area": null,
            "grid_auto_columns": null,
            "grid_auto_flow": null,
            "grid_auto_rows": null,
            "grid_column": null,
            "grid_gap": null,
            "grid_row": null,
            "grid_template_areas": null,
            "grid_template_columns": null,
            "grid_template_rows": null,
            "height": null,
            "justify_content": null,
            "justify_items": null,
            "left": null,
            "margin": null,
            "max_height": null,
            "max_width": null,
            "min_height": null,
            "min_width": null,
            "object_fit": null,
            "object_position": null,
            "order": null,
            "overflow": null,
            "overflow_x": null,
            "overflow_y": null,
            "padding": null,
            "right": null,
            "top": null,
            "visibility": null,
            "width": null
          }
        },
        "828a2f98cbd1430789fa27703db1d261": {
          "model_module": "@jupyter-widgets/base",
          "model_module_version": "1.2.0",
          "model_name": "LayoutModel",
          "state": {
            "_model_module": "@jupyter-widgets/base",
            "_model_module_version": "1.2.0",
            "_model_name": "LayoutModel",
            "_view_count": null,
            "_view_module": "@jupyter-widgets/base",
            "_view_module_version": "1.2.0",
            "_view_name": "LayoutView",
            "align_content": null,
            "align_items": null,
            "align_self": null,
            "border": null,
            "bottom": null,
            "display": null,
            "flex": null,
            "flex_flow": null,
            "grid_area": null,
            "grid_auto_columns": null,
            "grid_auto_flow": null,
            "grid_auto_rows": null,
            "grid_column": null,
            "grid_gap": null,
            "grid_row": null,
            "grid_template_areas": null,
            "grid_template_columns": null,
            "grid_template_rows": null,
            "height": null,
            "justify_content": null,
            "justify_items": null,
            "left": null,
            "margin": null,
            "max_height": null,
            "max_width": null,
            "min_height": null,
            "min_width": null,
            "object_fit": null,
            "object_position": null,
            "order": null,
            "overflow": null,
            "overflow_x": null,
            "overflow_y": null,
            "padding": null,
            "right": null,
            "top": null,
            "visibility": null,
            "width": null
          }
        },
        "84da307f31b54d63b8f30f62036c12a1": {
          "model_module": "@jupyter-widgets/controls",
          "model_module_version": "1.5.0",
          "model_name": "ProgressStyleModel",
          "state": {
            "_model_module": "@jupyter-widgets/controls",
            "_model_module_version": "1.5.0",
            "_model_name": "ProgressStyleModel",
            "_view_count": null,
            "_view_module": "@jupyter-widgets/base",
            "_view_module_version": "1.2.0",
            "_view_name": "StyleView",
            "bar_color": null,
            "description_width": ""
          }
        },
        "858f7f31fbea44eeafbdb978e941b2bd": {
          "model_module": "@jupyter-widgets/base",
          "model_module_version": "1.2.0",
          "model_name": "LayoutModel",
          "state": {
            "_model_module": "@jupyter-widgets/base",
            "_model_module_version": "1.2.0",
            "_model_name": "LayoutModel",
            "_view_count": null,
            "_view_module": "@jupyter-widgets/base",
            "_view_module_version": "1.2.0",
            "_view_name": "LayoutView",
            "align_content": null,
            "align_items": null,
            "align_self": null,
            "border": null,
            "bottom": null,
            "display": null,
            "flex": null,
            "flex_flow": null,
            "grid_area": null,
            "grid_auto_columns": null,
            "grid_auto_flow": null,
            "grid_auto_rows": null,
            "grid_column": null,
            "grid_gap": null,
            "grid_row": null,
            "grid_template_areas": null,
            "grid_template_columns": null,
            "grid_template_rows": null,
            "height": null,
            "justify_content": null,
            "justify_items": null,
            "left": null,
            "margin": null,
            "max_height": null,
            "max_width": null,
            "min_height": null,
            "min_width": null,
            "object_fit": null,
            "object_position": null,
            "order": null,
            "overflow": null,
            "overflow_x": null,
            "overflow_y": null,
            "padding": null,
            "right": null,
            "top": null,
            "visibility": null,
            "width": null
          }
        },
        "89be5d00d06d4e42b25087ce3e904969": {
          "model_module": "@jupyter-widgets/base",
          "model_module_version": "1.2.0",
          "model_name": "LayoutModel",
          "state": {
            "_model_module": "@jupyter-widgets/base",
            "_model_module_version": "1.2.0",
            "_model_name": "LayoutModel",
            "_view_count": null,
            "_view_module": "@jupyter-widgets/base",
            "_view_module_version": "1.2.0",
            "_view_name": "LayoutView",
            "align_content": null,
            "align_items": null,
            "align_self": null,
            "border": null,
            "bottom": null,
            "display": null,
            "flex": null,
            "flex_flow": null,
            "grid_area": null,
            "grid_auto_columns": null,
            "grid_auto_flow": null,
            "grid_auto_rows": null,
            "grid_column": null,
            "grid_gap": null,
            "grid_row": null,
            "grid_template_areas": null,
            "grid_template_columns": null,
            "grid_template_rows": null,
            "height": null,
            "justify_content": null,
            "justify_items": null,
            "left": null,
            "margin": null,
            "max_height": null,
            "max_width": null,
            "min_height": null,
            "min_width": null,
            "object_fit": null,
            "object_position": null,
            "order": null,
            "overflow": null,
            "overflow_x": null,
            "overflow_y": null,
            "padding": null,
            "right": null,
            "top": null,
            "visibility": null,
            "width": null
          }
        },
        "8c296493e407436384525c7ac262824a": {
          "model_module": "@jupyter-widgets/controls",
          "model_module_version": "1.5.0",
          "model_name": "HBoxModel",
          "state": {
            "_dom_classes": [],
            "_model_module": "@jupyter-widgets/controls",
            "_model_module_version": "1.5.0",
            "_model_name": "HBoxModel",
            "_view_count": null,
            "_view_module": "@jupyter-widgets/controls",
            "_view_module_version": "1.5.0",
            "_view_name": "HBoxView",
            "box_style": "",
            "children": [
              "IPY_MODEL_c51cc7863c674a06a4d8f4288356d7c1",
              "IPY_MODEL_06fb9c05e3b14d948fac90a42abbc176",
              "IPY_MODEL_b3e8fd68688a4fd9b3fca9da7a83163e"
            ],
            "layout": "IPY_MODEL_828a2f98cbd1430789fa27703db1d261"
          }
        },
        "96920a99fca04e1b936ec1c3a58a3c62": {
          "model_module": "@jupyter-widgets/controls",
          "model_module_version": "1.5.0",
          "model_name": "FloatProgressModel",
          "state": {
            "_dom_classes": [],
            "_model_module": "@jupyter-widgets/controls",
            "_model_module_version": "1.5.0",
            "_model_name": "FloatProgressModel",
            "_view_count": null,
            "_view_module": "@jupyter-widgets/controls",
            "_view_module_version": "1.5.0",
            "_view_name": "ProgressView",
            "bar_style": "success",
            "description": "",
            "description_tooltip": null,
            "layout": "IPY_MODEL_75863c826a4a435f8f16200bcac220fd",
            "max": 1,
            "min": 0,
            "orientation": "horizontal",
            "style": "IPY_MODEL_09cce495f3cd4f8fb13cd70ca3d2e542",
            "value": 1
          }
        },
        "99889a70818e49fba3f76d9e4d2cc473": {
          "model_module": "@jupyter-widgets/controls",
          "model_module_version": "1.5.0",
          "model_name": "DescriptionStyleModel",
          "state": {
            "_model_module": "@jupyter-widgets/controls",
            "_model_module_version": "1.5.0",
            "_model_name": "DescriptionStyleModel",
            "_view_count": null,
            "_view_module": "@jupyter-widgets/base",
            "_view_module_version": "1.2.0",
            "_view_name": "StyleView",
            "description_width": ""
          }
        },
        "99a3f5448ad1438aad52e0ec2cc919e1": {
          "model_module": "@jupyter-widgets/base",
          "model_module_version": "1.2.0",
          "model_name": "LayoutModel",
          "state": {
            "_model_module": "@jupyter-widgets/base",
            "_model_module_version": "1.2.0",
            "_model_name": "LayoutModel",
            "_view_count": null,
            "_view_module": "@jupyter-widgets/base",
            "_view_module_version": "1.2.0",
            "_view_name": "LayoutView",
            "align_content": null,
            "align_items": null,
            "align_self": null,
            "border": null,
            "bottom": null,
            "display": null,
            "flex": null,
            "flex_flow": null,
            "grid_area": null,
            "grid_auto_columns": null,
            "grid_auto_flow": null,
            "grid_auto_rows": null,
            "grid_column": null,
            "grid_gap": null,
            "grid_row": null,
            "grid_template_areas": null,
            "grid_template_columns": null,
            "grid_template_rows": null,
            "height": null,
            "justify_content": null,
            "justify_items": null,
            "left": null,
            "margin": null,
            "max_height": null,
            "max_width": null,
            "min_height": null,
            "min_width": null,
            "object_fit": null,
            "object_position": null,
            "order": null,
            "overflow": null,
            "overflow_x": null,
            "overflow_y": null,
            "padding": null,
            "right": null,
            "top": null,
            "visibility": null,
            "width": null
          }
        },
        "9bbb355a9678404a99263f1723e89852": {
          "model_module": "@jupyter-widgets/controls",
          "model_module_version": "1.5.0",
          "model_name": "HTMLModel",
          "state": {
            "_dom_classes": [],
            "_model_module": "@jupyter-widgets/controls",
            "_model_module_version": "1.5.0",
            "_model_name": "HTMLModel",
            "_view_count": null,
            "_view_module": "@jupyter-widgets/controls",
            "_view_module_version": "1.5.0",
            "_view_name": "HTMLView",
            "description": "",
            "description_tooltip": null,
            "layout": "IPY_MODEL_7bae55e5be2c4e0093e31b8a7ed96314",
            "placeholder": "​",
            "style": "IPY_MODEL_4e82c04acbaf4a33a3b415c57612497c",
            "value": "Render HTML: 100%"
          }
        },
        "a0e594ecd36b46c999dfd0b485357eeb": {
          "model_module": "@jupyter-widgets/base",
          "model_module_version": "1.2.0",
          "model_name": "LayoutModel",
          "state": {
            "_model_module": "@jupyter-widgets/base",
            "_model_module_version": "1.2.0",
            "_model_name": "LayoutModel",
            "_view_count": null,
            "_view_module": "@jupyter-widgets/base",
            "_view_module_version": "1.2.0",
            "_view_name": "LayoutView",
            "align_content": null,
            "align_items": null,
            "align_self": null,
            "border": null,
            "bottom": null,
            "display": null,
            "flex": null,
            "flex_flow": null,
            "grid_area": null,
            "grid_auto_columns": null,
            "grid_auto_flow": null,
            "grid_auto_rows": null,
            "grid_column": null,
            "grid_gap": null,
            "grid_row": null,
            "grid_template_areas": null,
            "grid_template_columns": null,
            "grid_template_rows": null,
            "height": null,
            "justify_content": null,
            "justify_items": null,
            "left": null,
            "margin": null,
            "max_height": null,
            "max_width": null,
            "min_height": null,
            "min_width": null,
            "object_fit": null,
            "object_position": null,
            "order": null,
            "overflow": null,
            "overflow_x": null,
            "overflow_y": null,
            "padding": null,
            "right": null,
            "top": null,
            "visibility": null,
            "width": null
          }
        },
        "a4702e2d099b4551a34b5e6a8b719c23": {
          "model_module": "@jupyter-widgets/base",
          "model_module_version": "1.2.0",
          "model_name": "LayoutModel",
          "state": {
            "_model_module": "@jupyter-widgets/base",
            "_model_module_version": "1.2.0",
            "_model_name": "LayoutModel",
            "_view_count": null,
            "_view_module": "@jupyter-widgets/base",
            "_view_module_version": "1.2.0",
            "_view_name": "LayoutView",
            "align_content": null,
            "align_items": null,
            "align_self": null,
            "border": null,
            "bottom": null,
            "display": null,
            "flex": null,
            "flex_flow": null,
            "grid_area": null,
            "grid_auto_columns": null,
            "grid_auto_flow": null,
            "grid_auto_rows": null,
            "grid_column": null,
            "grid_gap": null,
            "grid_row": null,
            "grid_template_areas": null,
            "grid_template_columns": null,
            "grid_template_rows": null,
            "height": null,
            "justify_content": null,
            "justify_items": null,
            "left": null,
            "margin": null,
            "max_height": null,
            "max_width": null,
            "min_height": null,
            "min_width": null,
            "object_fit": null,
            "object_position": null,
            "order": null,
            "overflow": null,
            "overflow_x": null,
            "overflow_y": null,
            "padding": null,
            "right": null,
            "top": null,
            "visibility": null,
            "width": null
          }
        },
        "a5b2d5191a804369b85edbd909992c0c": {
          "model_module": "@jupyter-widgets/base",
          "model_module_version": "1.2.0",
          "model_name": "LayoutModel",
          "state": {
            "_model_module": "@jupyter-widgets/base",
            "_model_module_version": "1.2.0",
            "_model_name": "LayoutModel",
            "_view_count": null,
            "_view_module": "@jupyter-widgets/base",
            "_view_module_version": "1.2.0",
            "_view_name": "LayoutView",
            "align_content": null,
            "align_items": null,
            "align_self": null,
            "border": null,
            "bottom": null,
            "display": null,
            "flex": null,
            "flex_flow": null,
            "grid_area": null,
            "grid_auto_columns": null,
            "grid_auto_flow": null,
            "grid_auto_rows": null,
            "grid_column": null,
            "grid_gap": null,
            "grid_row": null,
            "grid_template_areas": null,
            "grid_template_columns": null,
            "grid_template_rows": null,
            "height": null,
            "justify_content": null,
            "justify_items": null,
            "left": null,
            "margin": null,
            "max_height": null,
            "max_width": null,
            "min_height": null,
            "min_width": null,
            "object_fit": null,
            "object_position": null,
            "order": null,
            "overflow": null,
            "overflow_x": null,
            "overflow_y": null,
            "padding": null,
            "right": null,
            "top": null,
            "visibility": null,
            "width": null
          }
        },
        "a81c51b9675f4a878992d68118ca3106": {
          "model_module": "@jupyter-widgets/controls",
          "model_module_version": "1.5.0",
          "model_name": "DescriptionStyleModel",
          "state": {
            "_model_module": "@jupyter-widgets/controls",
            "_model_module_version": "1.5.0",
            "_model_name": "DescriptionStyleModel",
            "_view_count": null,
            "_view_module": "@jupyter-widgets/base",
            "_view_module_version": "1.2.0",
            "_view_name": "StyleView",
            "description_width": ""
          }
        },
        "aa0f6e35e440455ba8fedf6de18216e6": {
          "model_module": "@jupyter-widgets/base",
          "model_module_version": "1.2.0",
          "model_name": "LayoutModel",
          "state": {
            "_model_module": "@jupyter-widgets/base",
            "_model_module_version": "1.2.0",
            "_model_name": "LayoutModel",
            "_view_count": null,
            "_view_module": "@jupyter-widgets/base",
            "_view_module_version": "1.2.0",
            "_view_name": "LayoutView",
            "align_content": null,
            "align_items": null,
            "align_self": null,
            "border": null,
            "bottom": null,
            "display": null,
            "flex": null,
            "flex_flow": null,
            "grid_area": null,
            "grid_auto_columns": null,
            "grid_auto_flow": null,
            "grid_auto_rows": null,
            "grid_column": null,
            "grid_gap": null,
            "grid_row": null,
            "grid_template_areas": null,
            "grid_template_columns": null,
            "grid_template_rows": null,
            "height": null,
            "justify_content": null,
            "justify_items": null,
            "left": null,
            "margin": null,
            "max_height": null,
            "max_width": null,
            "min_height": null,
            "min_width": null,
            "object_fit": null,
            "object_position": null,
            "order": null,
            "overflow": null,
            "overflow_x": null,
            "overflow_y": null,
            "padding": null,
            "right": null,
            "top": null,
            "visibility": null,
            "width": null
          }
        },
        "af74d2f1405d43c0b0ca6eac76998a17": {
          "model_module": "@jupyter-widgets/base",
          "model_module_version": "1.2.0",
          "model_name": "LayoutModel",
          "state": {
            "_model_module": "@jupyter-widgets/base",
            "_model_module_version": "1.2.0",
            "_model_name": "LayoutModel",
            "_view_count": null,
            "_view_module": "@jupyter-widgets/base",
            "_view_module_version": "1.2.0",
            "_view_name": "LayoutView",
            "align_content": null,
            "align_items": null,
            "align_self": null,
            "border": null,
            "bottom": null,
            "display": null,
            "flex": null,
            "flex_flow": null,
            "grid_area": null,
            "grid_auto_columns": null,
            "grid_auto_flow": null,
            "grid_auto_rows": null,
            "grid_column": null,
            "grid_gap": null,
            "grid_row": null,
            "grid_template_areas": null,
            "grid_template_columns": null,
            "grid_template_rows": null,
            "height": null,
            "justify_content": null,
            "justify_items": null,
            "left": null,
            "margin": null,
            "max_height": null,
            "max_width": null,
            "min_height": null,
            "min_width": null,
            "object_fit": null,
            "object_position": null,
            "order": null,
            "overflow": null,
            "overflow_x": null,
            "overflow_y": null,
            "padding": null,
            "right": null,
            "top": null,
            "visibility": null,
            "width": null
          }
        },
        "afc7d90bc8db4e58b169b94657e4896f": {
          "model_module": "@jupyter-widgets/controls",
          "model_module_version": "1.5.0",
          "model_name": "DescriptionStyleModel",
          "state": {
            "_model_module": "@jupyter-widgets/controls",
            "_model_module_version": "1.5.0",
            "_model_name": "DescriptionStyleModel",
            "_view_count": null,
            "_view_module": "@jupyter-widgets/base",
            "_view_module_version": "1.2.0",
            "_view_name": "StyleView",
            "description_width": ""
          }
        },
        "b01a5db456eb4280bae01c56a4ca8b3b": {
          "model_module": "@jupyter-widgets/controls",
          "model_module_version": "1.5.0",
          "model_name": "HTMLModel",
          "state": {
            "_dom_classes": [],
            "_model_module": "@jupyter-widgets/controls",
            "_model_module_version": "1.5.0",
            "_model_name": "HTMLModel",
            "_view_count": null,
            "_view_module": "@jupyter-widgets/controls",
            "_view_module_version": "1.5.0",
            "_view_name": "HTMLView",
            "description": "",
            "description_tooltip": null,
            "layout": "IPY_MODEL_7d8e5985af8b4566ba775bda4a1b3b20",
            "placeholder": "​",
            "style": "IPY_MODEL_0df282c69f3a45068642aaeabbf71442",
            "value": "Export report to file: 100%"
          }
        },
        "b2696bedbd8d4d0fa1b241cc84c1bbfd": {
          "model_module": "@jupyter-widgets/base",
          "model_module_version": "1.2.0",
          "model_name": "LayoutModel",
          "state": {
            "_model_module": "@jupyter-widgets/base",
            "_model_module_version": "1.2.0",
            "_model_name": "LayoutModel",
            "_view_count": null,
            "_view_module": "@jupyter-widgets/base",
            "_view_module_version": "1.2.0",
            "_view_name": "LayoutView",
            "align_content": null,
            "align_items": null,
            "align_self": null,
            "border": null,
            "bottom": null,
            "display": null,
            "flex": null,
            "flex_flow": null,
            "grid_area": null,
            "grid_auto_columns": null,
            "grid_auto_flow": null,
            "grid_auto_rows": null,
            "grid_column": null,
            "grid_gap": null,
            "grid_row": null,
            "grid_template_areas": null,
            "grid_template_columns": null,
            "grid_template_rows": null,
            "height": null,
            "justify_content": null,
            "justify_items": null,
            "left": null,
            "margin": null,
            "max_height": null,
            "max_width": null,
            "min_height": null,
            "min_width": null,
            "object_fit": null,
            "object_position": null,
            "order": null,
            "overflow": null,
            "overflow_x": null,
            "overflow_y": null,
            "padding": null,
            "right": null,
            "top": null,
            "visibility": null,
            "width": null
          }
        },
        "b3192b7e2b234c43b783355b33d8e09e": {
          "model_module": "@jupyter-widgets/controls",
          "model_module_version": "1.5.0",
          "model_name": "ProgressStyleModel",
          "state": {
            "_model_module": "@jupyter-widgets/controls",
            "_model_module_version": "1.5.0",
            "_model_name": "ProgressStyleModel",
            "_view_count": null,
            "_view_module": "@jupyter-widgets/base",
            "_view_module_version": "1.2.0",
            "_view_name": "StyleView",
            "bar_color": null,
            "description_width": ""
          }
        },
        "b3e8fd68688a4fd9b3fca9da7a83163e": {
          "model_module": "@jupyter-widgets/controls",
          "model_module_version": "1.5.0",
          "model_name": "HTMLModel",
          "state": {
            "_dom_classes": [],
            "_model_module": "@jupyter-widgets/controls",
            "_model_module_version": "1.5.0",
            "_model_name": "HTMLModel",
            "_view_count": null,
            "_view_module": "@jupyter-widgets/controls",
            "_view_module_version": "1.5.0",
            "_view_name": "HTMLView",
            "description": "",
            "description_tooltip": null,
            "layout": "IPY_MODEL_a0e594ecd36b46c999dfd0b485357eeb",
            "placeholder": "​",
            "style": "IPY_MODEL_02c405c7d138421d8fbd13778bc599f9",
            "value": " 43/43 [00:28&lt;00:00,  1.59it/s, Completed]"
          }
        },
        "b9c410985e8b4324b96e82389b243f04": {
          "model_module": "@jupyter-widgets/controls",
          "model_module_version": "1.5.0",
          "model_name": "DescriptionStyleModel",
          "state": {
            "_model_module": "@jupyter-widgets/controls",
            "_model_module_version": "1.5.0",
            "_model_name": "DescriptionStyleModel",
            "_view_count": null,
            "_view_module": "@jupyter-widgets/base",
            "_view_module_version": "1.2.0",
            "_view_name": "StyleView",
            "description_width": ""
          }
        },
        "c51cc7863c674a06a4d8f4288356d7c1": {
          "model_module": "@jupyter-widgets/controls",
          "model_module_version": "1.5.0",
          "model_name": "HTMLModel",
          "state": {
            "_dom_classes": [],
            "_model_module": "@jupyter-widgets/controls",
            "_model_module_version": "1.5.0",
            "_model_name": "HTMLModel",
            "_view_count": null,
            "_view_module": "@jupyter-widgets/controls",
            "_view_module_version": "1.5.0",
            "_view_name": "HTMLView",
            "description": "",
            "description_tooltip": null,
            "layout": "IPY_MODEL_36efaadfa60a45b193c474c1bb854134",
            "placeholder": "​",
            "style": "IPY_MODEL_417741e9f1db4ff3a6e3c40900dadf5c",
            "value": "Summarize dataset: 100%"
          }
        },
        "c6c55bb2ec2d481ab62a9049087e7937": {
          "model_module": "@jupyter-widgets/controls",
          "model_module_version": "1.5.0",
          "model_name": "FloatProgressModel",
          "state": {
            "_dom_classes": [],
            "_model_module": "@jupyter-widgets/controls",
            "_model_module_version": "1.5.0",
            "_model_name": "FloatProgressModel",
            "_view_count": null,
            "_view_module": "@jupyter-widgets/controls",
            "_view_module_version": "1.5.0",
            "_view_name": "ProgressView",
            "bar_style": "success",
            "description": "",
            "description_tooltip": null,
            "layout": "IPY_MODEL_5aaca10f679b4f4ca10681d94a948a24",
            "max": 1,
            "min": 0,
            "orientation": "horizontal",
            "style": "IPY_MODEL_21a726db410d46f7b5fdea476ff4b098",
            "value": 1
          }
        },
        "c9733cf653aa42b9b97c68259823ed0e": {
          "model_module": "@jupyter-widgets/base",
          "model_module_version": "1.2.0",
          "model_name": "LayoutModel",
          "state": {
            "_model_module": "@jupyter-widgets/base",
            "_model_module_version": "1.2.0",
            "_model_name": "LayoutModel",
            "_view_count": null,
            "_view_module": "@jupyter-widgets/base",
            "_view_module_version": "1.2.0",
            "_view_name": "LayoutView",
            "align_content": null,
            "align_items": null,
            "align_self": null,
            "border": null,
            "bottom": null,
            "display": null,
            "flex": null,
            "flex_flow": null,
            "grid_area": null,
            "grid_auto_columns": null,
            "grid_auto_flow": null,
            "grid_auto_rows": null,
            "grid_column": null,
            "grid_gap": null,
            "grid_row": null,
            "grid_template_areas": null,
            "grid_template_columns": null,
            "grid_template_rows": null,
            "height": null,
            "justify_content": null,
            "justify_items": null,
            "left": null,
            "margin": null,
            "max_height": null,
            "max_width": null,
            "min_height": null,
            "min_width": null,
            "object_fit": null,
            "object_position": null,
            "order": null,
            "overflow": null,
            "overflow_x": null,
            "overflow_y": null,
            "padding": null,
            "right": null,
            "top": null,
            "visibility": null,
            "width": null
          }
        },
        "d12f7bd9457d4c83bce232a8eb9cce10": {
          "model_module": "@jupyter-widgets/base",
          "model_module_version": "1.2.0",
          "model_name": "LayoutModel",
          "state": {
            "_model_module": "@jupyter-widgets/base",
            "_model_module_version": "1.2.0",
            "_model_name": "LayoutModel",
            "_view_count": null,
            "_view_module": "@jupyter-widgets/base",
            "_view_module_version": "1.2.0",
            "_view_name": "LayoutView",
            "align_content": null,
            "align_items": null,
            "align_self": null,
            "border": null,
            "bottom": null,
            "display": null,
            "flex": null,
            "flex_flow": null,
            "grid_area": null,
            "grid_auto_columns": null,
            "grid_auto_flow": null,
            "grid_auto_rows": null,
            "grid_column": null,
            "grid_gap": null,
            "grid_row": null,
            "grid_template_areas": null,
            "grid_template_columns": null,
            "grid_template_rows": null,
            "height": null,
            "justify_content": null,
            "justify_items": null,
            "left": null,
            "margin": null,
            "max_height": null,
            "max_width": null,
            "min_height": null,
            "min_width": null,
            "object_fit": null,
            "object_position": null,
            "order": null,
            "overflow": null,
            "overflow_x": null,
            "overflow_y": null,
            "padding": null,
            "right": null,
            "top": null,
            "visibility": null,
            "width": null
          }
        },
        "d19432f8e784423898f9b075443a4b8e": {
          "model_module": "@jupyter-widgets/controls",
          "model_module_version": "1.5.0",
          "model_name": "HBoxModel",
          "state": {
            "_dom_classes": [],
            "_model_module": "@jupyter-widgets/controls",
            "_model_module_version": "1.5.0",
            "_model_name": "HBoxModel",
            "_view_count": null,
            "_view_module": "@jupyter-widgets/controls",
            "_view_module_version": "1.5.0",
            "_view_name": "HBoxView",
            "box_style": "",
            "children": [
              "IPY_MODEL_d2e1d539924c492d8a859aeba88f9472",
              "IPY_MODEL_55ee5e09b1fc4198903b864b97a00e48",
              "IPY_MODEL_d47f5e3dbe464a1182101e55f3489cb1"
            ],
            "layout": "IPY_MODEL_30e45ae8344a4e8e98abcee8a1657264"
          }
        },
        "d2e1d539924c492d8a859aeba88f9472": {
          "model_module": "@jupyter-widgets/controls",
          "model_module_version": "1.5.0",
          "model_name": "HTMLModel",
          "state": {
            "_dom_classes": [],
            "_model_module": "@jupyter-widgets/controls",
            "_model_module_version": "1.5.0",
            "_model_name": "HTMLModel",
            "_view_count": null,
            "_view_module": "@jupyter-widgets/controls",
            "_view_module_version": "1.5.0",
            "_view_name": "HTMLView",
            "description": "",
            "description_tooltip": null,
            "layout": "IPY_MODEL_99a3f5448ad1438aad52e0ec2cc919e1",
            "placeholder": "​",
            "style": "IPY_MODEL_dc7dbd49fbad461895884dca3e5cb2db",
            "value": "Summarize dataset: 100%"
          }
        },
        "d47f5e3dbe464a1182101e55f3489cb1": {
          "model_module": "@jupyter-widgets/controls",
          "model_module_version": "1.5.0",
          "model_name": "HTMLModel",
          "state": {
            "_dom_classes": [],
            "_model_module": "@jupyter-widgets/controls",
            "_model_module_version": "1.5.0",
            "_model_name": "HTMLModel",
            "_view_count": null,
            "_view_module": "@jupyter-widgets/controls",
            "_view_module_version": "1.5.0",
            "_view_name": "HTMLView",
            "description": "",
            "description_tooltip": null,
            "layout": "IPY_MODEL_2052c9ac870741548a0b390ca7817cfe",
            "placeholder": "​",
            "style": "IPY_MODEL_44d90ba8fabb45a0a006cdb7a8641e70",
            "value": " 173/173 [01:04&lt;00:00,  2.10it/s, Completed]"
          }
        },
        "dc7dbd49fbad461895884dca3e5cb2db": {
          "model_module": "@jupyter-widgets/controls",
          "model_module_version": "1.5.0",
          "model_name": "DescriptionStyleModel",
          "state": {
            "_model_module": "@jupyter-widgets/controls",
            "_model_module_version": "1.5.0",
            "_model_name": "DescriptionStyleModel",
            "_view_count": null,
            "_view_module": "@jupyter-widgets/base",
            "_view_module_version": "1.2.0",
            "_view_name": "StyleView",
            "description_width": ""
          }
        },
        "e3097b7738ff439f817c1d59c427986a": {
          "model_module": "@jupyter-widgets/controls",
          "model_module_version": "1.5.0",
          "model_name": "HBoxModel",
          "state": {
            "_dom_classes": [],
            "_model_module": "@jupyter-widgets/controls",
            "_model_module_version": "1.5.0",
            "_model_name": "HBoxModel",
            "_view_count": null,
            "_view_module": "@jupyter-widgets/controls",
            "_view_module_version": "1.5.0",
            "_view_name": "HBoxView",
            "box_style": "",
            "children": [
              "IPY_MODEL_9bbb355a9678404a99263f1723e89852",
              "IPY_MODEL_c6c55bb2ec2d481ab62a9049087e7937",
              "IPY_MODEL_f061f82059ea414b860230117a264850"
            ],
            "layout": "IPY_MODEL_858f7f31fbea44eeafbdb978e941b2bd"
          }
        },
        "e540043ad3734df09cb07db447635306": {
          "model_module": "@jupyter-widgets/controls",
          "model_module_version": "1.5.0",
          "model_name": "DescriptionStyleModel",
          "state": {
            "_model_module": "@jupyter-widgets/controls",
            "_model_module_version": "1.5.0",
            "_model_name": "DescriptionStyleModel",
            "_view_count": null,
            "_view_module": "@jupyter-widgets/base",
            "_view_module_version": "1.2.0",
            "_view_name": "StyleView",
            "description_width": ""
          }
        },
        "e77960a3ed5247d1b26098c2dafa657c": {
          "model_module": "@jupyter-widgets/controls",
          "model_module_version": "1.5.0",
          "model_name": "DescriptionStyleModel",
          "state": {
            "_model_module": "@jupyter-widgets/controls",
            "_model_module_version": "1.5.0",
            "_model_name": "DescriptionStyleModel",
            "_view_count": null,
            "_view_module": "@jupyter-widgets/base",
            "_view_module_version": "1.2.0",
            "_view_name": "StyleView",
            "description_width": ""
          }
        },
        "edf7afa1587c4d819fe0633d7d6ceefc": {
          "model_module": "@jupyter-widgets/base",
          "model_module_version": "1.2.0",
          "model_name": "LayoutModel",
          "state": {
            "_model_module": "@jupyter-widgets/base",
            "_model_module_version": "1.2.0",
            "_model_name": "LayoutModel",
            "_view_count": null,
            "_view_module": "@jupyter-widgets/base",
            "_view_module_version": "1.2.0",
            "_view_name": "LayoutView",
            "align_content": null,
            "align_items": null,
            "align_self": null,
            "border": null,
            "bottom": null,
            "display": null,
            "flex": null,
            "flex_flow": null,
            "grid_area": null,
            "grid_auto_columns": null,
            "grid_auto_flow": null,
            "grid_auto_rows": null,
            "grid_column": null,
            "grid_gap": null,
            "grid_row": null,
            "grid_template_areas": null,
            "grid_template_columns": null,
            "grid_template_rows": null,
            "height": null,
            "justify_content": null,
            "justify_items": null,
            "left": null,
            "margin": null,
            "max_height": null,
            "max_width": null,
            "min_height": null,
            "min_width": null,
            "object_fit": null,
            "object_position": null,
            "order": null,
            "overflow": null,
            "overflow_x": null,
            "overflow_y": null,
            "padding": null,
            "right": null,
            "top": null,
            "visibility": null,
            "width": null
          }
        },
        "ef01b90aedbd45c0858687b0b6f6259a": {
          "model_module": "@jupyter-widgets/controls",
          "model_module_version": "1.5.0",
          "model_name": "FloatProgressModel",
          "state": {
            "_dom_classes": [],
            "_model_module": "@jupyter-widgets/controls",
            "_model_module_version": "1.5.0",
            "_model_name": "FloatProgressModel",
            "_view_count": null,
            "_view_module": "@jupyter-widgets/controls",
            "_view_module_version": "1.5.0",
            "_view_name": "ProgressView",
            "bar_style": "success",
            "description": "",
            "description_tooltip": null,
            "layout": "IPY_MODEL_34fda59b23dc44078a0ba2b982fa8284",
            "max": 1,
            "min": 0,
            "orientation": "horizontal",
            "style": "IPY_MODEL_2360342d8d1c4b948c5f2ce11e11979b",
            "value": 1
          }
        },
        "f061f82059ea414b860230117a264850": {
          "model_module": "@jupyter-widgets/controls",
          "model_module_version": "1.5.0",
          "model_name": "HTMLModel",
          "state": {
            "_dom_classes": [],
            "_model_module": "@jupyter-widgets/controls",
            "_model_module_version": "1.5.0",
            "_model_name": "HTMLModel",
            "_view_count": null,
            "_view_module": "@jupyter-widgets/controls",
            "_view_module_version": "1.5.0",
            "_view_name": "HTMLView",
            "description": "",
            "description_tooltip": null,
            "layout": "IPY_MODEL_edf7afa1587c4d819fe0633d7d6ceefc",
            "placeholder": "​",
            "style": "IPY_MODEL_e77960a3ed5247d1b26098c2dafa657c",
            "value": " 1/1 [00:01&lt;00:00,  1.04s/it]"
          }
        },
        "f1601d41e04a4d2082e87921b9b2e3d2": {
          "model_module": "@jupyter-widgets/controls",
          "model_module_version": "1.5.0",
          "model_name": "HTMLModel",
          "state": {
            "_dom_classes": [],
            "_model_module": "@jupyter-widgets/controls",
            "_model_module_version": "1.5.0",
            "_model_name": "HTMLModel",
            "_view_count": null,
            "_view_module": "@jupyter-widgets/controls",
            "_view_module_version": "1.5.0",
            "_view_name": "HTMLView",
            "description": "",
            "description_tooltip": null,
            "layout": "IPY_MODEL_0f1c5e567d774b7687751867f6e5367c",
            "placeholder": "​",
            "style": "IPY_MODEL_a81c51b9675f4a878992d68118ca3106",
            "value": "Generate report structure: 100%"
          }
        },
        "f18551e6bba844a588f03687a3013e13": {
          "model_module": "@jupyter-widgets/base",
          "model_module_version": "1.2.0",
          "model_name": "LayoutModel",
          "state": {
            "_model_module": "@jupyter-widgets/base",
            "_model_module_version": "1.2.0",
            "_model_name": "LayoutModel",
            "_view_count": null,
            "_view_module": "@jupyter-widgets/base",
            "_view_module_version": "1.2.0",
            "_view_name": "LayoutView",
            "align_content": null,
            "align_items": null,
            "align_self": null,
            "border": null,
            "bottom": null,
            "display": null,
            "flex": null,
            "flex_flow": null,
            "grid_area": null,
            "grid_auto_columns": null,
            "grid_auto_flow": null,
            "grid_auto_rows": null,
            "grid_column": null,
            "grid_gap": null,
            "grid_row": null,
            "grid_template_areas": null,
            "grid_template_columns": null,
            "grid_template_rows": null,
            "height": null,
            "justify_content": null,
            "justify_items": null,
            "left": null,
            "margin": null,
            "max_height": null,
            "max_width": null,
            "min_height": null,
            "min_width": null,
            "object_fit": null,
            "object_position": null,
            "order": null,
            "overflow": null,
            "overflow_x": null,
            "overflow_y": null,
            "padding": null,
            "right": null,
            "top": null,
            "visibility": null,
            "width": null
          }
        },
        "f67caf12252344248ba28c6c9e5b60ac": {
          "model_module": "@jupyter-widgets/controls",
          "model_module_version": "1.5.0",
          "model_name": "HBoxModel",
          "state": {
            "_dom_classes": [],
            "_model_module": "@jupyter-widgets/controls",
            "_model_module_version": "1.5.0",
            "_model_name": "HBoxModel",
            "_view_count": null,
            "_view_module": "@jupyter-widgets/controls",
            "_view_module_version": "1.5.0",
            "_view_name": "HBoxView",
            "box_style": "",
            "children": [
              "IPY_MODEL_fb06845e9554418eb4ff483b10c94a9a",
              "IPY_MODEL_ef01b90aedbd45c0858687b0b6f6259a",
              "IPY_MODEL_5f363fe141794696a99fec6f8285dc9f"
            ],
            "layout": "IPY_MODEL_aa0f6e35e440455ba8fedf6de18216e6"
          }
        },
        "fb06845e9554418eb4ff483b10c94a9a": {
          "model_module": "@jupyter-widgets/controls",
          "model_module_version": "1.5.0",
          "model_name": "HTMLModel",
          "state": {
            "_dom_classes": [],
            "_model_module": "@jupyter-widgets/controls",
            "_model_module_version": "1.5.0",
            "_model_name": "HTMLModel",
            "_view_count": null,
            "_view_module": "@jupyter-widgets/controls",
            "_view_module_version": "1.5.0",
            "_view_name": "HTMLView",
            "description": "",
            "description_tooltip": null,
            "layout": "IPY_MODEL_c9733cf653aa42b9b97c68259823ed0e",
            "placeholder": "​",
            "style": "IPY_MODEL_1dd69ba08ecf4ddbbb1dabbb4f4f6d2b",
            "value": "Generate report structure: 100%"
          }
        },
        "febc8be7bafc48df9ab3e51201eb1e22": {
          "model_module": "@jupyter-widgets/controls",
          "model_module_version": "1.5.0",
          "model_name": "DescriptionStyleModel",
          "state": {
            "_model_module": "@jupyter-widgets/controls",
            "_model_module_version": "1.5.0",
            "_model_name": "DescriptionStyleModel",
            "_view_count": null,
            "_view_module": "@jupyter-widgets/base",
            "_view_module_version": "1.2.0",
            "_view_name": "StyleView",
            "description_width": ""
          }
        }
      }
    }
  },
  "nbformat": 4,
  "nbformat_minor": 0
}
